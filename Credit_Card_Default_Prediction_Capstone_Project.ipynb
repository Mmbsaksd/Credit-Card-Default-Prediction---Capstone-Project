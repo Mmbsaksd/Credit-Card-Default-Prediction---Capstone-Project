{
  "nbformat": 4,
  "nbformat_minor": 0,
  "metadata": {
    "kernelspec": {
      "display_name": "Python 3",
      "language": "python",
      "name": "python3"
    },
    "language_info": {
      "codemirror_mode": {
        "name": "ipython",
        "version": 3
      },
      "file_extension": ".py",
      "mimetype": "text/x-python",
      "name": "python",
      "nbconvert_exporter": "python",
      "pygments_lexer": "ipython3",
      "version": "3.6.6"
    },
    "colab": {
      "name": "Credit Card Default Prediction - Capstone Project.ipynb",
      "provenance": [],
      "collapsed_sections": [],
      "include_colab_link": true
    },
    "accelerator": "TPU"
  },
  "cells": [
    {
      "cell_type": "markdown",
      "metadata": {
        "id": "view-in-github",
        "colab_type": "text"
      },
      "source": [
        "<a href=\"https://colab.research.google.com/github/Mmbsaksd/Credit-Card-Default-Prediction---Capstone-Project/blob/main/Credit_Card_Default_Prediction_Capstone_Project.ipynb\" target=\"_parent\"><img src=\"https://colab.research.google.com/assets/colab-badge.svg\" alt=\"Open In Colab\"/></a>"
      ]
    },
    {
      "cell_type": "markdown",
      "metadata": {
        "id": "tOGC-qoyhJeX"
      },
      "source": [
        "# <b><u> Project Title : Predicting whether a customer will default on his/her credit card </u></b>"
      ]
    },
    {
      "cell_type": "markdown",
      "metadata": {
        "id": "Y06xIdG26kRF"
      },
      "source": [
        "## <b> Problem Description </b>\n",
        "\n",
        "### This project is aimed at predicting the case of customers default payments in Taiwan. From the perspective of risk management, the result of predictive accuracy of the estimated probability of default will be more valuable than the binary result of classification - credible or not credible clients. We can use the [K-S chart](https://www.listendata.com/2019/07/KS-Statistics-Python.html) to evaluate which customers will default on their credit card payments\n"
      ]
    },
    {
      "cell_type": "markdown",
      "metadata": {
        "id": "AlLxAtlziMbP"
      },
      "source": [
        "## <b> Data Description </b>\n",
        "\n",
        "### <b>Attribute Information: </b>\n",
        "\n",
        "### This research employed a binary variable, default payment (Yes = 1, No = 0), as the response variable. This study reviewed the literature and used the following 23 variables as explanatory variables:\n",
        "* ### X1: Amount of the given credit (NT dollar): it includes both the individual consumer credit and his/her family (supplementary) credit.\n",
        "* ### X2: Gender (1 = male; 2 = female).\n",
        "* ### X3: Education (1 = graduate school; 2 = university; 3 = high school; 4 = others).\n",
        "* ### X4: Marital status (1 = married; 2 = single; 3 = others).\n",
        "* ### X5: Age (year).\n",
        "* ### X6 - X11: History of past payment. We tracked the past monthly payment records (from April to September, 2005) as follows: X6 = the repayment status in September, 2005; X7 = the repayment status in August, 2005; . . .;X11 = the repayment status in April, 2005. The measurement scale for the repayment status is: -1 = pay duly; 1 = payment delay for one month; 2 = payment delay for two months; . . .; 8 = payment delay for eight months; 9 = payment delay for nine months and above.\n",
        "* ### X12-X17: Amount of bill statement (NT dollar). X12 = amount of bill statement in September, 2005; X13 = amount of bill statement in August, 2005; . . .; X17 = amount of bill statement in April, 2005.\n",
        "* ### X18-X23: Amount of previous payment (NT dollar). X18 = amount paid in September, 2005; X19 = amount paid in August, 2005; . . .;X23 = amount paid in April, 2005."
      ]
    },
    {
      "cell_type": "markdown",
      "source": [
        "#**Data Preprocessing**"
      ],
      "metadata": {
        "id": "4kuGM73myOk0"
      }
    },
    {
      "cell_type": "markdown",
      "source": [
        "##**Importing Libraries And Dataset**"
      ],
      "metadata": {
        "id": "j32zlQole2OX"
      }
    },
    {
      "cell_type": "code",
      "metadata": {
        "id": "dByMsuzT8Tnw"
      },
      "source": [
        "#Importing required libraries\n",
        "import pandas as pd\n",
        "import numpy as np\n",
        "import seaborn as sns\n",
        "import matplotlib.pyplot as plt\n",
        "import warnings\n",
        "warnings.filterwarnings('ignore')\n"
      ],
      "execution_count": null,
      "outputs": []
    },
    {
      "cell_type": "code",
      "source": [
        "#Loading the datasets\n",
        "df = pd.read_csv('/content/default of credit card clients.xls - Data.csv')"
      ],
      "metadata": {
        "id": "HG3iWCFtf31Q"
      },
      "execution_count": null,
      "outputs": []
    },
    {
      "cell_type": "markdown",
      "source": [
        "###**Inspecting the model**"
      ],
      "metadata": {
        "id": "tyfV7sVoPzQ-"
      }
    },
    {
      "cell_type": "code",
      "source": [
        "#Displaying first five columns\n",
        "df.head()"
      ],
      "metadata": {
        "id": "7VB0SHfdwGe_",
        "outputId": "8220a8e9-9bdc-46be-d7a7-f31f91ecf96f",
        "colab": {
          "base_uri": "https://localhost:8080/",
          "height": 369
        }
      },
      "execution_count": null,
      "outputs": [
        {
          "output_type": "execute_result",
          "data": {
            "text/plain": [
              "  Unnamed: 0         X1   X2         X3        X4   X5     X6     X7     X8  \\\n",
              "0         ID  LIMIT_BAL  SEX  EDUCATION  MARRIAGE  AGE  PAY_0  PAY_2  PAY_3   \n",
              "1          1      20000    2          2         1   24      2      2     -1   \n",
              "2          2     120000    2          2         2   26     -1      2      0   \n",
              "3          3      90000    2          2         2   34      0      0      0   \n",
              "4          4      50000    2          2         1   37      0      0      0   \n",
              "\n",
              "      X9  ...        X15        X16        X17       X18       X19       X20  \\\n",
              "0  PAY_4  ...  BILL_AMT4  BILL_AMT5  BILL_AMT6  PAY_AMT1  PAY_AMT2  PAY_AMT3   \n",
              "1     -1  ...          0          0          0         0       689         0   \n",
              "2      0  ...       3272       3455       3261         0      1000      1000   \n",
              "3      0  ...      14331      14948      15549      1518      1500      1000   \n",
              "4      0  ...      28314      28959      29547      2000      2019      1200   \n",
              "\n",
              "        X21       X22       X23                           Y  \n",
              "0  PAY_AMT4  PAY_AMT5  PAY_AMT6  default payment next month  \n",
              "1         0         0         0                           1  \n",
              "2      1000         0      2000                           1  \n",
              "3      1000      1000      5000                           0  \n",
              "4      1100      1069      1000                           0  \n",
              "\n",
              "[5 rows x 25 columns]"
            ],
            "text/html": [
              "\n",
              "  <div id=\"df-39564ede-2787-465b-9ca3-f145bb05b746\">\n",
              "    <div class=\"colab-df-container\">\n",
              "      <div>\n",
              "<style scoped>\n",
              "    .dataframe tbody tr th:only-of-type {\n",
              "        vertical-align: middle;\n",
              "    }\n",
              "\n",
              "    .dataframe tbody tr th {\n",
              "        vertical-align: top;\n",
              "    }\n",
              "\n",
              "    .dataframe thead th {\n",
              "        text-align: right;\n",
              "    }\n",
              "</style>\n",
              "<table border=\"1\" class=\"dataframe\">\n",
              "  <thead>\n",
              "    <tr style=\"text-align: right;\">\n",
              "      <th></th>\n",
              "      <th>Unnamed: 0</th>\n",
              "      <th>X1</th>\n",
              "      <th>X2</th>\n",
              "      <th>X3</th>\n",
              "      <th>X4</th>\n",
              "      <th>X5</th>\n",
              "      <th>X6</th>\n",
              "      <th>X7</th>\n",
              "      <th>X8</th>\n",
              "      <th>X9</th>\n",
              "      <th>...</th>\n",
              "      <th>X15</th>\n",
              "      <th>X16</th>\n",
              "      <th>X17</th>\n",
              "      <th>X18</th>\n",
              "      <th>X19</th>\n",
              "      <th>X20</th>\n",
              "      <th>X21</th>\n",
              "      <th>X22</th>\n",
              "      <th>X23</th>\n",
              "      <th>Y</th>\n",
              "    </tr>\n",
              "  </thead>\n",
              "  <tbody>\n",
              "    <tr>\n",
              "      <th>0</th>\n",
              "      <td>ID</td>\n",
              "      <td>LIMIT_BAL</td>\n",
              "      <td>SEX</td>\n",
              "      <td>EDUCATION</td>\n",
              "      <td>MARRIAGE</td>\n",
              "      <td>AGE</td>\n",
              "      <td>PAY_0</td>\n",
              "      <td>PAY_2</td>\n",
              "      <td>PAY_3</td>\n",
              "      <td>PAY_4</td>\n",
              "      <td>...</td>\n",
              "      <td>BILL_AMT4</td>\n",
              "      <td>BILL_AMT5</td>\n",
              "      <td>BILL_AMT6</td>\n",
              "      <td>PAY_AMT1</td>\n",
              "      <td>PAY_AMT2</td>\n",
              "      <td>PAY_AMT3</td>\n",
              "      <td>PAY_AMT4</td>\n",
              "      <td>PAY_AMT5</td>\n",
              "      <td>PAY_AMT6</td>\n",
              "      <td>default payment next month</td>\n",
              "    </tr>\n",
              "    <tr>\n",
              "      <th>1</th>\n",
              "      <td>1</td>\n",
              "      <td>20000</td>\n",
              "      <td>2</td>\n",
              "      <td>2</td>\n",
              "      <td>1</td>\n",
              "      <td>24</td>\n",
              "      <td>2</td>\n",
              "      <td>2</td>\n",
              "      <td>-1</td>\n",
              "      <td>-1</td>\n",
              "      <td>...</td>\n",
              "      <td>0</td>\n",
              "      <td>0</td>\n",
              "      <td>0</td>\n",
              "      <td>0</td>\n",
              "      <td>689</td>\n",
              "      <td>0</td>\n",
              "      <td>0</td>\n",
              "      <td>0</td>\n",
              "      <td>0</td>\n",
              "      <td>1</td>\n",
              "    </tr>\n",
              "    <tr>\n",
              "      <th>2</th>\n",
              "      <td>2</td>\n",
              "      <td>120000</td>\n",
              "      <td>2</td>\n",
              "      <td>2</td>\n",
              "      <td>2</td>\n",
              "      <td>26</td>\n",
              "      <td>-1</td>\n",
              "      <td>2</td>\n",
              "      <td>0</td>\n",
              "      <td>0</td>\n",
              "      <td>...</td>\n",
              "      <td>3272</td>\n",
              "      <td>3455</td>\n",
              "      <td>3261</td>\n",
              "      <td>0</td>\n",
              "      <td>1000</td>\n",
              "      <td>1000</td>\n",
              "      <td>1000</td>\n",
              "      <td>0</td>\n",
              "      <td>2000</td>\n",
              "      <td>1</td>\n",
              "    </tr>\n",
              "    <tr>\n",
              "      <th>3</th>\n",
              "      <td>3</td>\n",
              "      <td>90000</td>\n",
              "      <td>2</td>\n",
              "      <td>2</td>\n",
              "      <td>2</td>\n",
              "      <td>34</td>\n",
              "      <td>0</td>\n",
              "      <td>0</td>\n",
              "      <td>0</td>\n",
              "      <td>0</td>\n",
              "      <td>...</td>\n",
              "      <td>14331</td>\n",
              "      <td>14948</td>\n",
              "      <td>15549</td>\n",
              "      <td>1518</td>\n",
              "      <td>1500</td>\n",
              "      <td>1000</td>\n",
              "      <td>1000</td>\n",
              "      <td>1000</td>\n",
              "      <td>5000</td>\n",
              "      <td>0</td>\n",
              "    </tr>\n",
              "    <tr>\n",
              "      <th>4</th>\n",
              "      <td>4</td>\n",
              "      <td>50000</td>\n",
              "      <td>2</td>\n",
              "      <td>2</td>\n",
              "      <td>1</td>\n",
              "      <td>37</td>\n",
              "      <td>0</td>\n",
              "      <td>0</td>\n",
              "      <td>0</td>\n",
              "      <td>0</td>\n",
              "      <td>...</td>\n",
              "      <td>28314</td>\n",
              "      <td>28959</td>\n",
              "      <td>29547</td>\n",
              "      <td>2000</td>\n",
              "      <td>2019</td>\n",
              "      <td>1200</td>\n",
              "      <td>1100</td>\n",
              "      <td>1069</td>\n",
              "      <td>1000</td>\n",
              "      <td>0</td>\n",
              "    </tr>\n",
              "  </tbody>\n",
              "</table>\n",
              "<p>5 rows × 25 columns</p>\n",
              "</div>\n",
              "      <button class=\"colab-df-convert\" onclick=\"convertToInteractive('df-39564ede-2787-465b-9ca3-f145bb05b746')\"\n",
              "              title=\"Convert this dataframe to an interactive table.\"\n",
              "              style=\"display:none;\">\n",
              "        \n",
              "  <svg xmlns=\"http://www.w3.org/2000/svg\" height=\"24px\"viewBox=\"0 0 24 24\"\n",
              "       width=\"24px\">\n",
              "    <path d=\"M0 0h24v24H0V0z\" fill=\"none\"/>\n",
              "    <path d=\"M18.56 5.44l.94 2.06.94-2.06 2.06-.94-2.06-.94-.94-2.06-.94 2.06-2.06.94zm-11 1L8.5 8.5l.94-2.06 2.06-.94-2.06-.94L8.5 2.5l-.94 2.06-2.06.94zm10 10l.94 2.06.94-2.06 2.06-.94-2.06-.94-.94-2.06-.94 2.06-2.06.94z\"/><path d=\"M17.41 7.96l-1.37-1.37c-.4-.4-.92-.59-1.43-.59-.52 0-1.04.2-1.43.59L10.3 9.45l-7.72 7.72c-.78.78-.78 2.05 0 2.83L4 21.41c.39.39.9.59 1.41.59.51 0 1.02-.2 1.41-.59l7.78-7.78 2.81-2.81c.8-.78.8-2.07 0-2.86zM5.41 20L4 18.59l7.72-7.72 1.47 1.35L5.41 20z\"/>\n",
              "  </svg>\n",
              "      </button>\n",
              "      \n",
              "  <style>\n",
              "    .colab-df-container {\n",
              "      display:flex;\n",
              "      flex-wrap:wrap;\n",
              "      gap: 12px;\n",
              "    }\n",
              "\n",
              "    .colab-df-convert {\n",
              "      background-color: #E8F0FE;\n",
              "      border: none;\n",
              "      border-radius: 50%;\n",
              "      cursor: pointer;\n",
              "      display: none;\n",
              "      fill: #1967D2;\n",
              "      height: 32px;\n",
              "      padding: 0 0 0 0;\n",
              "      width: 32px;\n",
              "    }\n",
              "\n",
              "    .colab-df-convert:hover {\n",
              "      background-color: #E2EBFA;\n",
              "      box-shadow: 0px 1px 2px rgba(60, 64, 67, 0.3), 0px 1px 3px 1px rgba(60, 64, 67, 0.15);\n",
              "      fill: #174EA6;\n",
              "    }\n",
              "\n",
              "    [theme=dark] .colab-df-convert {\n",
              "      background-color: #3B4455;\n",
              "      fill: #D2E3FC;\n",
              "    }\n",
              "\n",
              "    [theme=dark] .colab-df-convert:hover {\n",
              "      background-color: #434B5C;\n",
              "      box-shadow: 0px 1px 3px 1px rgba(0, 0, 0, 0.15);\n",
              "      filter: drop-shadow(0px 1px 2px rgba(0, 0, 0, 0.3));\n",
              "      fill: #FFFFFF;\n",
              "    }\n",
              "  </style>\n",
              "\n",
              "      <script>\n",
              "        const buttonEl =\n",
              "          document.querySelector('#df-39564ede-2787-465b-9ca3-f145bb05b746 button.colab-df-convert');\n",
              "        buttonEl.style.display =\n",
              "          google.colab.kernel.accessAllowed ? 'block' : 'none';\n",
              "\n",
              "        async function convertToInteractive(key) {\n",
              "          const element = document.querySelector('#df-39564ede-2787-465b-9ca3-f145bb05b746');\n",
              "          const dataTable =\n",
              "            await google.colab.kernel.invokeFunction('convertToInteractive',\n",
              "                                                     [key], {});\n",
              "          if (!dataTable) return;\n",
              "\n",
              "          const docLinkHtml = 'Like what you see? Visit the ' +\n",
              "            '<a target=\"_blank\" href=https://colab.research.google.com/notebooks/data_table.ipynb>data table notebook</a>'\n",
              "            + ' to learn more about interactive tables.';\n",
              "          element.innerHTML = '';\n",
              "          dataTable['output_type'] = 'display_data';\n",
              "          await google.colab.output.renderOutput(dataTable, element);\n",
              "          const docLink = document.createElement('div');\n",
              "          docLink.innerHTML = docLinkHtml;\n",
              "          element.appendChild(docLink);\n",
              "        }\n",
              "      </script>\n",
              "    </div>\n",
              "  </div>\n",
              "  "
            ]
          },
          "metadata": {},
          "execution_count": 3
        }
      ]
    },
    {
      "cell_type": "code",
      "source": [
        "#Looking the shep of dataset\n",
        "df.shape"
      ],
      "metadata": {
        "id": "7bOhMy2jgjgf",
        "outputId": "47e72331-e31b-4491-9ab6-6c599b684384",
        "colab": {
          "base_uri": "https://localhost:8080/"
        }
      },
      "execution_count": null,
      "outputs": [
        {
          "output_type": "execute_result",
          "data": {
            "text/plain": [
              "(30001, 25)"
            ]
          },
          "metadata": {},
          "execution_count": 4
        }
      ]
    },
    {
      "cell_type": "code",
      "source": [
        "#Checking the information on Dataset\n",
        "df.info()"
      ],
      "metadata": {
        "id": "RxVeqPzIQCyO",
        "outputId": "6f338da7-2288-4c6f-91e9-32fdb0bc273c",
        "colab": {
          "base_uri": "https://localhost:8080/"
        }
      },
      "execution_count": null,
      "outputs": [
        {
          "output_type": "stream",
          "name": "stdout",
          "text": [
            "<class 'pandas.core.frame.DataFrame'>\n",
            "RangeIndex: 30001 entries, 0 to 30000\n",
            "Data columns (total 25 columns):\n",
            " #   Column      Non-Null Count  Dtype \n",
            "---  ------      --------------  ----- \n",
            " 0   Unnamed: 0  30001 non-null  object\n",
            " 1   X1          30001 non-null  object\n",
            " 2   X2          30001 non-null  object\n",
            " 3   X3          30001 non-null  object\n",
            " 4   X4          30001 non-null  object\n",
            " 5   X5          30001 non-null  object\n",
            " 6   X6          30001 non-null  object\n",
            " 7   X7          30001 non-null  object\n",
            " 8   X8          30001 non-null  object\n",
            " 9   X9          30001 non-null  object\n",
            " 10  X10         30001 non-null  object\n",
            " 11  X11         30001 non-null  object\n",
            " 12  X12         30001 non-null  object\n",
            " 13  X13         30001 non-null  object\n",
            " 14  X14         30001 non-null  object\n",
            " 15  X15         30001 non-null  object\n",
            " 16  X16         30001 non-null  object\n",
            " 17  X17         30001 non-null  object\n",
            " 18  X18         30001 non-null  object\n",
            " 19  X19         30001 non-null  object\n",
            " 20  X20         30001 non-null  object\n",
            " 21  X21         30001 non-null  object\n",
            " 22  X22         30001 non-null  object\n",
            " 23  X23         30001 non-null  object\n",
            " 24  Y           30001 non-null  object\n",
            "dtypes: object(25)\n",
            "memory usage: 5.7+ MB\n"
          ]
        }
      ]
    },
    {
      "cell_type": "code",
      "source": [
        "#Checking the columns\n",
        "df.columns"
      ],
      "metadata": {
        "id": "MSCwDcT1z3Ky",
        "outputId": "23db7c98-d473-4624-fadf-9726a9b2d835",
        "colab": {
          "base_uri": "https://localhost:8080/"
        }
      },
      "execution_count": null,
      "outputs": [
        {
          "output_type": "execute_result",
          "data": {
            "text/plain": [
              "Index(['Unnamed: 0', 'X1', 'X2', 'X3', 'X4', 'X5', 'X6', 'X7', 'X8', 'X9',\n",
              "       'X10', 'X11', 'X12', 'X13', 'X14', 'X15', 'X16', 'X17', 'X18', 'X19',\n",
              "       'X20', 'X21', 'X22', 'X23', 'Y'],\n",
              "      dtype='object')"
            ]
          },
          "metadata": {},
          "execution_count": 6
        }
      ]
    },
    {
      "cell_type": "markdown",
      "source": [
        "#**Feature Engineering**"
      ],
      "metadata": {
        "id": "3PettuGbyagQ"
      }
    },
    {
      "cell_type": "markdown",
      "source": [
        "###**Changing The columns Name**"
      ],
      "metadata": {
        "id": "PkK3ISe6wW4j"
      }
    },
    {
      "cell_type": "code",
      "source": [
        "#Converting the first row as header\n",
        "\n",
        "#grab the first row for the header\n",
        "new_header = df.iloc[0]\n",
        "\n",
        "#Dropping the first columns\n",
        "df = df[1:]\n",
        "\n",
        "#Setting new header\n",
        "df.columns = new_header\n"
      ],
      "metadata": {
        "id": "U79LCpPwRFp6"
      },
      "execution_count": null,
      "outputs": []
    },
    {
      "cell_type": "markdown",
      "source": [
        "## **Convert String Columns to An Integer**"
      ],
      "metadata": {
        "id": "FY50efkyvzQL"
      }
    },
    {
      "cell_type": "code",
      "source": [
        "# convert string to an integer\n",
        "columns_list = ['ID', 'LIMIT_BAL', 'SEX', 'EDUCATION', 'MARRIAGE', 'AGE', 'PAY_0',\n",
        "       'PAY_2', 'PAY_3', 'PAY_4', 'PAY_5', 'PAY_6', 'BILL_AMT1', 'BILL_AMT2',\n",
        "       'BILL_AMT3', 'BILL_AMT4', 'BILL_AMT5', 'BILL_AMT6', 'PAY_AMT1',\n",
        "       'PAY_AMT2', 'PAY_AMT3', 'PAY_AMT4', 'PAY_AMT5', 'PAY_AMT6',\n",
        "       'default payment next month']\n",
        "\n",
        "df_news= pd.DataFrame(columns= columns_list)\n",
        "for i in columns_list:\n",
        "  df_news[i] = pd.to_numeric(df[i])\n"
      ],
      "metadata": {
        "id": "76nTErmDfWAf"
      },
      "execution_count": null,
      "outputs": []
    },
    {
      "cell_type": "code",
      "source": [
        "df_news.info()"
      ],
      "metadata": {
        "id": "eXEPsdtulZq0",
        "outputId": "e24bc0bd-7451-4353-9785-f8645d738072",
        "colab": {
          "base_uri": "https://localhost:8080/"
        }
      },
      "execution_count": null,
      "outputs": [
        {
          "output_type": "stream",
          "name": "stdout",
          "text": [
            "<class 'pandas.core.frame.DataFrame'>\n",
            "RangeIndex: 30000 entries, 1 to 30000\n",
            "Data columns (total 25 columns):\n",
            " #   Column                      Non-Null Count  Dtype\n",
            "---  ------                      --------------  -----\n",
            " 0   ID                          30000 non-null  int64\n",
            " 1   LIMIT_BAL                   30000 non-null  int64\n",
            " 2   SEX                         30000 non-null  int64\n",
            " 3   EDUCATION                   30000 non-null  int64\n",
            " 4   MARRIAGE                    30000 non-null  int64\n",
            " 5   AGE                         30000 non-null  int64\n",
            " 6   PAY_0                       30000 non-null  int64\n",
            " 7   PAY_2                       30000 non-null  int64\n",
            " 8   PAY_3                       30000 non-null  int64\n",
            " 9   PAY_4                       30000 non-null  int64\n",
            " 10  PAY_5                       30000 non-null  int64\n",
            " 11  PAY_6                       30000 non-null  int64\n",
            " 12  BILL_AMT1                   30000 non-null  int64\n",
            " 13  BILL_AMT2                   30000 non-null  int64\n",
            " 14  BILL_AMT3                   30000 non-null  int64\n",
            " 15  BILL_AMT4                   30000 non-null  int64\n",
            " 16  BILL_AMT5                   30000 non-null  int64\n",
            " 17  BILL_AMT6                   30000 non-null  int64\n",
            " 18  PAY_AMT1                    30000 non-null  int64\n",
            " 19  PAY_AMT2                    30000 non-null  int64\n",
            " 20  PAY_AMT3                    30000 non-null  int64\n",
            " 21  PAY_AMT4                    30000 non-null  int64\n",
            " 22  PAY_AMT5                    30000 non-null  int64\n",
            " 23  PAY_AMT6                    30000 non-null  int64\n",
            " 24  default payment next month  30000 non-null  int64\n",
            "dtypes: int64(25)\n",
            "memory usage: 5.7 MB\n"
          ]
        }
      ]
    },
    {
      "cell_type": "markdown",
      "source": [
        "##**Handling Missing Values**"
      ],
      "metadata": {
        "id": "Dha1viL4zKpK"
      }
    },
    {
      "cell_type": "code",
      "source": [
        "#Missing Value Count\n",
        "def show_missings():\n",
        "  missing = df.columns[df.isnull().any()].tolist()\n",
        "  return missing\n",
        "\n",
        "#Missing data counts and percentage\n",
        "print('Missing Data Counts')\n",
        "print(df_news[show_missings()].isnull().sum().sort_values(ascending = False))\n",
        "print('--'*50)\n",
        "print('Missing Values Percentage')\n",
        "print(round(df[show_missings()].isnull().sum().sort_values(ascending=False)/len(df)*100,0))"
      ],
      "metadata": {
        "id": "D4JH-5pkbQzW",
        "outputId": "ab94749b-6524-4e7b-993e-11c526024da5",
        "colab": {
          "base_uri": "https://localhost:8080/"
        }
      },
      "execution_count": null,
      "outputs": [
        {
          "output_type": "stream",
          "name": "stdout",
          "text": [
            "Missing Data Counts\n",
            "Series([], dtype: float64)\n",
            "----------------------------------------------------------------------------------------------------\n",
            "Missing Values Percentage\n",
            "Series([], dtype: float64)\n"
          ]
        }
      ]
    },
    {
      "cell_type": "markdown",
      "source": [
        "##**Dropping Irrelevent**"
      ],
      "metadata": {
        "id": "qZjf8MCQhlPc"
      }
    },
    {
      "cell_type": "code",
      "source": [
        "#Dropping irrelevent columns\n",
        "df_news.drop('ID',axis=1,inplace=True)"
      ],
      "metadata": {
        "id": "y9ZF6rgFfVF3"
      },
      "execution_count": null,
      "outputs": []
    },
    {
      "cell_type": "markdown",
      "source": [
        "#**Explorative Data Analysis**"
      ],
      "metadata": {
        "id": "iqhUQyLnZEFW"
      }
    },
    {
      "cell_type": "markdown",
      "source": [
        "##**Descriptive Analysis**"
      ],
      "metadata": {
        "id": "qgm1yBZMhBdv"
      }
    },
    {
      "cell_type": "code",
      "source": [
        "#Descriptive analysis\n",
        "df_news.head()"
      ],
      "metadata": {
        "id": "cvN8VooeQsR3",
        "outputId": "5a7605d1-a137-4f08-bf5e-e5dd3d4b4a68",
        "colab": {
          "base_uri": "https://localhost:8080/",
          "height": 352
        }
      },
      "execution_count": null,
      "outputs": [
        {
          "output_type": "execute_result",
          "data": {
            "text/plain": [
              "   LIMIT_BAL  SEX  EDUCATION  MARRIAGE  AGE  PAY_0  PAY_2  PAY_3  PAY_4  \\\n",
              "1      20000    2          2         1   24      2      2     -1     -1   \n",
              "2     120000    2          2         2   26     -1      2      0      0   \n",
              "3      90000    2          2         2   34      0      0      0      0   \n",
              "4      50000    2          2         1   37      0      0      0      0   \n",
              "5      50000    1          2         1   57     -1      0     -1      0   \n",
              "\n",
              "   PAY_5  ...  BILL_AMT4  BILL_AMT5  BILL_AMT6  PAY_AMT1  PAY_AMT2  PAY_AMT3  \\\n",
              "1     -2  ...          0          0          0         0       689         0   \n",
              "2      0  ...       3272       3455       3261         0      1000      1000   \n",
              "3      0  ...      14331      14948      15549      1518      1500      1000   \n",
              "4      0  ...      28314      28959      29547      2000      2019      1200   \n",
              "5      0  ...      20940      19146      19131      2000     36681     10000   \n",
              "\n",
              "   PAY_AMT4  PAY_AMT5  PAY_AMT6  default payment next month  \n",
              "1         0         0         0                           1  \n",
              "2      1000         0      2000                           1  \n",
              "3      1000      1000      5000                           0  \n",
              "4      1100      1069      1000                           0  \n",
              "5      9000       689       679                           0  \n",
              "\n",
              "[5 rows x 24 columns]"
            ],
            "text/html": [
              "\n",
              "  <div id=\"df-6251293f-1317-4132-bbab-3913cf1cddd6\">\n",
              "    <div class=\"colab-df-container\">\n",
              "      <div>\n",
              "<style scoped>\n",
              "    .dataframe tbody tr th:only-of-type {\n",
              "        vertical-align: middle;\n",
              "    }\n",
              "\n",
              "    .dataframe tbody tr th {\n",
              "        vertical-align: top;\n",
              "    }\n",
              "\n",
              "    .dataframe thead th {\n",
              "        text-align: right;\n",
              "    }\n",
              "</style>\n",
              "<table border=\"1\" class=\"dataframe\">\n",
              "  <thead>\n",
              "    <tr style=\"text-align: right;\">\n",
              "      <th></th>\n",
              "      <th>LIMIT_BAL</th>\n",
              "      <th>SEX</th>\n",
              "      <th>EDUCATION</th>\n",
              "      <th>MARRIAGE</th>\n",
              "      <th>AGE</th>\n",
              "      <th>PAY_0</th>\n",
              "      <th>PAY_2</th>\n",
              "      <th>PAY_3</th>\n",
              "      <th>PAY_4</th>\n",
              "      <th>PAY_5</th>\n",
              "      <th>...</th>\n",
              "      <th>BILL_AMT4</th>\n",
              "      <th>BILL_AMT5</th>\n",
              "      <th>BILL_AMT6</th>\n",
              "      <th>PAY_AMT1</th>\n",
              "      <th>PAY_AMT2</th>\n",
              "      <th>PAY_AMT3</th>\n",
              "      <th>PAY_AMT4</th>\n",
              "      <th>PAY_AMT5</th>\n",
              "      <th>PAY_AMT6</th>\n",
              "      <th>default payment next month</th>\n",
              "    </tr>\n",
              "  </thead>\n",
              "  <tbody>\n",
              "    <tr>\n",
              "      <th>1</th>\n",
              "      <td>20000</td>\n",
              "      <td>2</td>\n",
              "      <td>2</td>\n",
              "      <td>1</td>\n",
              "      <td>24</td>\n",
              "      <td>2</td>\n",
              "      <td>2</td>\n",
              "      <td>-1</td>\n",
              "      <td>-1</td>\n",
              "      <td>-2</td>\n",
              "      <td>...</td>\n",
              "      <td>0</td>\n",
              "      <td>0</td>\n",
              "      <td>0</td>\n",
              "      <td>0</td>\n",
              "      <td>689</td>\n",
              "      <td>0</td>\n",
              "      <td>0</td>\n",
              "      <td>0</td>\n",
              "      <td>0</td>\n",
              "      <td>1</td>\n",
              "    </tr>\n",
              "    <tr>\n",
              "      <th>2</th>\n",
              "      <td>120000</td>\n",
              "      <td>2</td>\n",
              "      <td>2</td>\n",
              "      <td>2</td>\n",
              "      <td>26</td>\n",
              "      <td>-1</td>\n",
              "      <td>2</td>\n",
              "      <td>0</td>\n",
              "      <td>0</td>\n",
              "      <td>0</td>\n",
              "      <td>...</td>\n",
              "      <td>3272</td>\n",
              "      <td>3455</td>\n",
              "      <td>3261</td>\n",
              "      <td>0</td>\n",
              "      <td>1000</td>\n",
              "      <td>1000</td>\n",
              "      <td>1000</td>\n",
              "      <td>0</td>\n",
              "      <td>2000</td>\n",
              "      <td>1</td>\n",
              "    </tr>\n",
              "    <tr>\n",
              "      <th>3</th>\n",
              "      <td>90000</td>\n",
              "      <td>2</td>\n",
              "      <td>2</td>\n",
              "      <td>2</td>\n",
              "      <td>34</td>\n",
              "      <td>0</td>\n",
              "      <td>0</td>\n",
              "      <td>0</td>\n",
              "      <td>0</td>\n",
              "      <td>0</td>\n",
              "      <td>...</td>\n",
              "      <td>14331</td>\n",
              "      <td>14948</td>\n",
              "      <td>15549</td>\n",
              "      <td>1518</td>\n",
              "      <td>1500</td>\n",
              "      <td>1000</td>\n",
              "      <td>1000</td>\n",
              "      <td>1000</td>\n",
              "      <td>5000</td>\n",
              "      <td>0</td>\n",
              "    </tr>\n",
              "    <tr>\n",
              "      <th>4</th>\n",
              "      <td>50000</td>\n",
              "      <td>2</td>\n",
              "      <td>2</td>\n",
              "      <td>1</td>\n",
              "      <td>37</td>\n",
              "      <td>0</td>\n",
              "      <td>0</td>\n",
              "      <td>0</td>\n",
              "      <td>0</td>\n",
              "      <td>0</td>\n",
              "      <td>...</td>\n",
              "      <td>28314</td>\n",
              "      <td>28959</td>\n",
              "      <td>29547</td>\n",
              "      <td>2000</td>\n",
              "      <td>2019</td>\n",
              "      <td>1200</td>\n",
              "      <td>1100</td>\n",
              "      <td>1069</td>\n",
              "      <td>1000</td>\n",
              "      <td>0</td>\n",
              "    </tr>\n",
              "    <tr>\n",
              "      <th>5</th>\n",
              "      <td>50000</td>\n",
              "      <td>1</td>\n",
              "      <td>2</td>\n",
              "      <td>1</td>\n",
              "      <td>57</td>\n",
              "      <td>-1</td>\n",
              "      <td>0</td>\n",
              "      <td>-1</td>\n",
              "      <td>0</td>\n",
              "      <td>0</td>\n",
              "      <td>...</td>\n",
              "      <td>20940</td>\n",
              "      <td>19146</td>\n",
              "      <td>19131</td>\n",
              "      <td>2000</td>\n",
              "      <td>36681</td>\n",
              "      <td>10000</td>\n",
              "      <td>9000</td>\n",
              "      <td>689</td>\n",
              "      <td>679</td>\n",
              "      <td>0</td>\n",
              "    </tr>\n",
              "  </tbody>\n",
              "</table>\n",
              "<p>5 rows × 24 columns</p>\n",
              "</div>\n",
              "      <button class=\"colab-df-convert\" onclick=\"convertToInteractive('df-6251293f-1317-4132-bbab-3913cf1cddd6')\"\n",
              "              title=\"Convert this dataframe to an interactive table.\"\n",
              "              style=\"display:none;\">\n",
              "        \n",
              "  <svg xmlns=\"http://www.w3.org/2000/svg\" height=\"24px\"viewBox=\"0 0 24 24\"\n",
              "       width=\"24px\">\n",
              "    <path d=\"M0 0h24v24H0V0z\" fill=\"none\"/>\n",
              "    <path d=\"M18.56 5.44l.94 2.06.94-2.06 2.06-.94-2.06-.94-.94-2.06-.94 2.06-2.06.94zm-11 1L8.5 8.5l.94-2.06 2.06-.94-2.06-.94L8.5 2.5l-.94 2.06-2.06.94zm10 10l.94 2.06.94-2.06 2.06-.94-2.06-.94-.94-2.06-.94 2.06-2.06.94z\"/><path d=\"M17.41 7.96l-1.37-1.37c-.4-.4-.92-.59-1.43-.59-.52 0-1.04.2-1.43.59L10.3 9.45l-7.72 7.72c-.78.78-.78 2.05 0 2.83L4 21.41c.39.39.9.59 1.41.59.51 0 1.02-.2 1.41-.59l7.78-7.78 2.81-2.81c.8-.78.8-2.07 0-2.86zM5.41 20L4 18.59l7.72-7.72 1.47 1.35L5.41 20z\"/>\n",
              "  </svg>\n",
              "      </button>\n",
              "      \n",
              "  <style>\n",
              "    .colab-df-container {\n",
              "      display:flex;\n",
              "      flex-wrap:wrap;\n",
              "      gap: 12px;\n",
              "    }\n",
              "\n",
              "    .colab-df-convert {\n",
              "      background-color: #E8F0FE;\n",
              "      border: none;\n",
              "      border-radius: 50%;\n",
              "      cursor: pointer;\n",
              "      display: none;\n",
              "      fill: #1967D2;\n",
              "      height: 32px;\n",
              "      padding: 0 0 0 0;\n",
              "      width: 32px;\n",
              "    }\n",
              "\n",
              "    .colab-df-convert:hover {\n",
              "      background-color: #E2EBFA;\n",
              "      box-shadow: 0px 1px 2px rgba(60, 64, 67, 0.3), 0px 1px 3px 1px rgba(60, 64, 67, 0.15);\n",
              "      fill: #174EA6;\n",
              "    }\n",
              "\n",
              "    [theme=dark] .colab-df-convert {\n",
              "      background-color: #3B4455;\n",
              "      fill: #D2E3FC;\n",
              "    }\n",
              "\n",
              "    [theme=dark] .colab-df-convert:hover {\n",
              "      background-color: #434B5C;\n",
              "      box-shadow: 0px 1px 3px 1px rgba(0, 0, 0, 0.15);\n",
              "      filter: drop-shadow(0px 1px 2px rgba(0, 0, 0, 0.3));\n",
              "      fill: #FFFFFF;\n",
              "    }\n",
              "  </style>\n",
              "\n",
              "      <script>\n",
              "        const buttonEl =\n",
              "          document.querySelector('#df-6251293f-1317-4132-bbab-3913cf1cddd6 button.colab-df-convert');\n",
              "        buttonEl.style.display =\n",
              "          google.colab.kernel.accessAllowed ? 'block' : 'none';\n",
              "\n",
              "        async function convertToInteractive(key) {\n",
              "          const element = document.querySelector('#df-6251293f-1317-4132-bbab-3913cf1cddd6');\n",
              "          const dataTable =\n",
              "            await google.colab.kernel.invokeFunction('convertToInteractive',\n",
              "                                                     [key], {});\n",
              "          if (!dataTable) return;\n",
              "\n",
              "          const docLinkHtml = 'Like what you see? Visit the ' +\n",
              "            '<a target=\"_blank\" href=https://colab.research.google.com/notebooks/data_table.ipynb>data table notebook</a>'\n",
              "            + ' to learn more about interactive tables.';\n",
              "          element.innerHTML = '';\n",
              "          dataTable['output_type'] = 'display_data';\n",
              "          await google.colab.output.renderOutput(dataTable, element);\n",
              "          const docLink = document.createElement('div');\n",
              "          docLink.innerHTML = docLinkHtml;\n",
              "          element.appendChild(docLink);\n",
              "        }\n",
              "      </script>\n",
              "    </div>\n",
              "  </div>\n",
              "  "
            ]
          },
          "metadata": {},
          "execution_count": 12
        }
      ]
    },
    {
      "cell_type": "code",
      "source": [
        "#Checking the descriptive of data\n",
        "df_news.describe()"
      ],
      "metadata": {
        "colab": {
          "base_uri": "https://localhost:8080/",
          "height": 428
        },
        "id": "UJonreBGZLqe",
        "outputId": "24a9ce4c-6df3-4e4f-cdcf-abb58904e66d"
      },
      "execution_count": null,
      "outputs": [
        {
          "output_type": "execute_result",
          "data": {
            "text/plain": [
              "            LIMIT_BAL           SEX     EDUCATION      MARRIAGE           AGE  \\\n",
              "count    30000.000000  30000.000000  30000.000000  30000.000000  30000.000000   \n",
              "mean    167484.322667      1.603733      1.853133      1.551867     35.485500   \n",
              "std     129747.661567      0.489129      0.790349      0.521970      9.217904   \n",
              "min      10000.000000      1.000000      0.000000      0.000000     21.000000   \n",
              "25%      50000.000000      1.000000      1.000000      1.000000     28.000000   \n",
              "50%     140000.000000      2.000000      2.000000      2.000000     34.000000   \n",
              "75%     240000.000000      2.000000      2.000000      2.000000     41.000000   \n",
              "max    1000000.000000      2.000000      6.000000      3.000000     79.000000   \n",
              "\n",
              "              PAY_0         PAY_2         PAY_3         PAY_4         PAY_5  \\\n",
              "count  30000.000000  30000.000000  30000.000000  30000.000000  30000.000000   \n",
              "mean      -0.016700     -0.133767     -0.166200     -0.220667     -0.266200   \n",
              "std        1.123802      1.197186      1.196868      1.169139      1.133187   \n",
              "min       -2.000000     -2.000000     -2.000000     -2.000000     -2.000000   \n",
              "25%       -1.000000     -1.000000     -1.000000     -1.000000     -1.000000   \n",
              "50%        0.000000      0.000000      0.000000      0.000000      0.000000   \n",
              "75%        0.000000      0.000000      0.000000      0.000000      0.000000   \n",
              "max        8.000000      8.000000      8.000000      8.000000      8.000000   \n",
              "\n",
              "       ...      BILL_AMT4      BILL_AMT5      BILL_AMT6       PAY_AMT1  \\\n",
              "count  ...   30000.000000   30000.000000   30000.000000   30000.000000   \n",
              "mean   ...   43262.948967   40311.400967   38871.760400    5663.580500   \n",
              "std    ...   64332.856134   60797.155770   59554.107537   16563.280354   \n",
              "min    ... -170000.000000  -81334.000000 -339603.000000       0.000000   \n",
              "25%    ...    2326.750000    1763.000000    1256.000000    1000.000000   \n",
              "50%    ...   19052.000000   18104.500000   17071.000000    2100.000000   \n",
              "75%    ...   54506.000000   50190.500000   49198.250000    5006.000000   \n",
              "max    ...  891586.000000  927171.000000  961664.000000  873552.000000   \n",
              "\n",
              "           PAY_AMT2      PAY_AMT3       PAY_AMT4       PAY_AMT5  \\\n",
              "count  3.000000e+04   30000.00000   30000.000000   30000.000000   \n",
              "mean   5.921163e+03    5225.68150    4826.076867    4799.387633   \n",
              "std    2.304087e+04   17606.96147   15666.159744   15278.305679   \n",
              "min    0.000000e+00       0.00000       0.000000       0.000000   \n",
              "25%    8.330000e+02     390.00000     296.000000     252.500000   \n",
              "50%    2.009000e+03    1800.00000    1500.000000    1500.000000   \n",
              "75%    5.000000e+03    4505.00000    4013.250000    4031.500000   \n",
              "max    1.684259e+06  896040.00000  621000.000000  426529.000000   \n",
              "\n",
              "            PAY_AMT6  default payment next month  \n",
              "count   30000.000000                30000.000000  \n",
              "mean     5215.502567                    0.221200  \n",
              "std     17777.465775                    0.415062  \n",
              "min         0.000000                    0.000000  \n",
              "25%       117.750000                    0.000000  \n",
              "50%      1500.000000                    0.000000  \n",
              "75%      4000.000000                    0.000000  \n",
              "max    528666.000000                    1.000000  \n",
              "\n",
              "[8 rows x 24 columns]"
            ],
            "text/html": [
              "\n",
              "  <div id=\"df-d08bc3e5-4470-4ba3-88bc-6f21966f0113\">\n",
              "    <div class=\"colab-df-container\">\n",
              "      <div>\n",
              "<style scoped>\n",
              "    .dataframe tbody tr th:only-of-type {\n",
              "        vertical-align: middle;\n",
              "    }\n",
              "\n",
              "    .dataframe tbody tr th {\n",
              "        vertical-align: top;\n",
              "    }\n",
              "\n",
              "    .dataframe thead th {\n",
              "        text-align: right;\n",
              "    }\n",
              "</style>\n",
              "<table border=\"1\" class=\"dataframe\">\n",
              "  <thead>\n",
              "    <tr style=\"text-align: right;\">\n",
              "      <th></th>\n",
              "      <th>LIMIT_BAL</th>\n",
              "      <th>SEX</th>\n",
              "      <th>EDUCATION</th>\n",
              "      <th>MARRIAGE</th>\n",
              "      <th>AGE</th>\n",
              "      <th>PAY_0</th>\n",
              "      <th>PAY_2</th>\n",
              "      <th>PAY_3</th>\n",
              "      <th>PAY_4</th>\n",
              "      <th>PAY_5</th>\n",
              "      <th>...</th>\n",
              "      <th>BILL_AMT4</th>\n",
              "      <th>BILL_AMT5</th>\n",
              "      <th>BILL_AMT6</th>\n",
              "      <th>PAY_AMT1</th>\n",
              "      <th>PAY_AMT2</th>\n",
              "      <th>PAY_AMT3</th>\n",
              "      <th>PAY_AMT4</th>\n",
              "      <th>PAY_AMT5</th>\n",
              "      <th>PAY_AMT6</th>\n",
              "      <th>default payment next month</th>\n",
              "    </tr>\n",
              "  </thead>\n",
              "  <tbody>\n",
              "    <tr>\n",
              "      <th>count</th>\n",
              "      <td>30000.000000</td>\n",
              "      <td>30000.000000</td>\n",
              "      <td>30000.000000</td>\n",
              "      <td>30000.000000</td>\n",
              "      <td>30000.000000</td>\n",
              "      <td>30000.000000</td>\n",
              "      <td>30000.000000</td>\n",
              "      <td>30000.000000</td>\n",
              "      <td>30000.000000</td>\n",
              "      <td>30000.000000</td>\n",
              "      <td>...</td>\n",
              "      <td>30000.000000</td>\n",
              "      <td>30000.000000</td>\n",
              "      <td>30000.000000</td>\n",
              "      <td>30000.000000</td>\n",
              "      <td>3.000000e+04</td>\n",
              "      <td>30000.00000</td>\n",
              "      <td>30000.000000</td>\n",
              "      <td>30000.000000</td>\n",
              "      <td>30000.000000</td>\n",
              "      <td>30000.000000</td>\n",
              "    </tr>\n",
              "    <tr>\n",
              "      <th>mean</th>\n",
              "      <td>167484.322667</td>\n",
              "      <td>1.603733</td>\n",
              "      <td>1.853133</td>\n",
              "      <td>1.551867</td>\n",
              "      <td>35.485500</td>\n",
              "      <td>-0.016700</td>\n",
              "      <td>-0.133767</td>\n",
              "      <td>-0.166200</td>\n",
              "      <td>-0.220667</td>\n",
              "      <td>-0.266200</td>\n",
              "      <td>...</td>\n",
              "      <td>43262.948967</td>\n",
              "      <td>40311.400967</td>\n",
              "      <td>38871.760400</td>\n",
              "      <td>5663.580500</td>\n",
              "      <td>5.921163e+03</td>\n",
              "      <td>5225.68150</td>\n",
              "      <td>4826.076867</td>\n",
              "      <td>4799.387633</td>\n",
              "      <td>5215.502567</td>\n",
              "      <td>0.221200</td>\n",
              "    </tr>\n",
              "    <tr>\n",
              "      <th>std</th>\n",
              "      <td>129747.661567</td>\n",
              "      <td>0.489129</td>\n",
              "      <td>0.790349</td>\n",
              "      <td>0.521970</td>\n",
              "      <td>9.217904</td>\n",
              "      <td>1.123802</td>\n",
              "      <td>1.197186</td>\n",
              "      <td>1.196868</td>\n",
              "      <td>1.169139</td>\n",
              "      <td>1.133187</td>\n",
              "      <td>...</td>\n",
              "      <td>64332.856134</td>\n",
              "      <td>60797.155770</td>\n",
              "      <td>59554.107537</td>\n",
              "      <td>16563.280354</td>\n",
              "      <td>2.304087e+04</td>\n",
              "      <td>17606.96147</td>\n",
              "      <td>15666.159744</td>\n",
              "      <td>15278.305679</td>\n",
              "      <td>17777.465775</td>\n",
              "      <td>0.415062</td>\n",
              "    </tr>\n",
              "    <tr>\n",
              "      <th>min</th>\n",
              "      <td>10000.000000</td>\n",
              "      <td>1.000000</td>\n",
              "      <td>0.000000</td>\n",
              "      <td>0.000000</td>\n",
              "      <td>21.000000</td>\n",
              "      <td>-2.000000</td>\n",
              "      <td>-2.000000</td>\n",
              "      <td>-2.000000</td>\n",
              "      <td>-2.000000</td>\n",
              "      <td>-2.000000</td>\n",
              "      <td>...</td>\n",
              "      <td>-170000.000000</td>\n",
              "      <td>-81334.000000</td>\n",
              "      <td>-339603.000000</td>\n",
              "      <td>0.000000</td>\n",
              "      <td>0.000000e+00</td>\n",
              "      <td>0.00000</td>\n",
              "      <td>0.000000</td>\n",
              "      <td>0.000000</td>\n",
              "      <td>0.000000</td>\n",
              "      <td>0.000000</td>\n",
              "    </tr>\n",
              "    <tr>\n",
              "      <th>25%</th>\n",
              "      <td>50000.000000</td>\n",
              "      <td>1.000000</td>\n",
              "      <td>1.000000</td>\n",
              "      <td>1.000000</td>\n",
              "      <td>28.000000</td>\n",
              "      <td>-1.000000</td>\n",
              "      <td>-1.000000</td>\n",
              "      <td>-1.000000</td>\n",
              "      <td>-1.000000</td>\n",
              "      <td>-1.000000</td>\n",
              "      <td>...</td>\n",
              "      <td>2326.750000</td>\n",
              "      <td>1763.000000</td>\n",
              "      <td>1256.000000</td>\n",
              "      <td>1000.000000</td>\n",
              "      <td>8.330000e+02</td>\n",
              "      <td>390.00000</td>\n",
              "      <td>296.000000</td>\n",
              "      <td>252.500000</td>\n",
              "      <td>117.750000</td>\n",
              "      <td>0.000000</td>\n",
              "    </tr>\n",
              "    <tr>\n",
              "      <th>50%</th>\n",
              "      <td>140000.000000</td>\n",
              "      <td>2.000000</td>\n",
              "      <td>2.000000</td>\n",
              "      <td>2.000000</td>\n",
              "      <td>34.000000</td>\n",
              "      <td>0.000000</td>\n",
              "      <td>0.000000</td>\n",
              "      <td>0.000000</td>\n",
              "      <td>0.000000</td>\n",
              "      <td>0.000000</td>\n",
              "      <td>...</td>\n",
              "      <td>19052.000000</td>\n",
              "      <td>18104.500000</td>\n",
              "      <td>17071.000000</td>\n",
              "      <td>2100.000000</td>\n",
              "      <td>2.009000e+03</td>\n",
              "      <td>1800.00000</td>\n",
              "      <td>1500.000000</td>\n",
              "      <td>1500.000000</td>\n",
              "      <td>1500.000000</td>\n",
              "      <td>0.000000</td>\n",
              "    </tr>\n",
              "    <tr>\n",
              "      <th>75%</th>\n",
              "      <td>240000.000000</td>\n",
              "      <td>2.000000</td>\n",
              "      <td>2.000000</td>\n",
              "      <td>2.000000</td>\n",
              "      <td>41.000000</td>\n",
              "      <td>0.000000</td>\n",
              "      <td>0.000000</td>\n",
              "      <td>0.000000</td>\n",
              "      <td>0.000000</td>\n",
              "      <td>0.000000</td>\n",
              "      <td>...</td>\n",
              "      <td>54506.000000</td>\n",
              "      <td>50190.500000</td>\n",
              "      <td>49198.250000</td>\n",
              "      <td>5006.000000</td>\n",
              "      <td>5.000000e+03</td>\n",
              "      <td>4505.00000</td>\n",
              "      <td>4013.250000</td>\n",
              "      <td>4031.500000</td>\n",
              "      <td>4000.000000</td>\n",
              "      <td>0.000000</td>\n",
              "    </tr>\n",
              "    <tr>\n",
              "      <th>max</th>\n",
              "      <td>1000000.000000</td>\n",
              "      <td>2.000000</td>\n",
              "      <td>6.000000</td>\n",
              "      <td>3.000000</td>\n",
              "      <td>79.000000</td>\n",
              "      <td>8.000000</td>\n",
              "      <td>8.000000</td>\n",
              "      <td>8.000000</td>\n",
              "      <td>8.000000</td>\n",
              "      <td>8.000000</td>\n",
              "      <td>...</td>\n",
              "      <td>891586.000000</td>\n",
              "      <td>927171.000000</td>\n",
              "      <td>961664.000000</td>\n",
              "      <td>873552.000000</td>\n",
              "      <td>1.684259e+06</td>\n",
              "      <td>896040.00000</td>\n",
              "      <td>621000.000000</td>\n",
              "      <td>426529.000000</td>\n",
              "      <td>528666.000000</td>\n",
              "      <td>1.000000</td>\n",
              "    </tr>\n",
              "  </tbody>\n",
              "</table>\n",
              "<p>8 rows × 24 columns</p>\n",
              "</div>\n",
              "      <button class=\"colab-df-convert\" onclick=\"convertToInteractive('df-d08bc3e5-4470-4ba3-88bc-6f21966f0113')\"\n",
              "              title=\"Convert this dataframe to an interactive table.\"\n",
              "              style=\"display:none;\">\n",
              "        \n",
              "  <svg xmlns=\"http://www.w3.org/2000/svg\" height=\"24px\"viewBox=\"0 0 24 24\"\n",
              "       width=\"24px\">\n",
              "    <path d=\"M0 0h24v24H0V0z\" fill=\"none\"/>\n",
              "    <path d=\"M18.56 5.44l.94 2.06.94-2.06 2.06-.94-2.06-.94-.94-2.06-.94 2.06-2.06.94zm-11 1L8.5 8.5l.94-2.06 2.06-.94-2.06-.94L8.5 2.5l-.94 2.06-2.06.94zm10 10l.94 2.06.94-2.06 2.06-.94-2.06-.94-.94-2.06-.94 2.06-2.06.94z\"/><path d=\"M17.41 7.96l-1.37-1.37c-.4-.4-.92-.59-1.43-.59-.52 0-1.04.2-1.43.59L10.3 9.45l-7.72 7.72c-.78.78-.78 2.05 0 2.83L4 21.41c.39.39.9.59 1.41.59.51 0 1.02-.2 1.41-.59l7.78-7.78 2.81-2.81c.8-.78.8-2.07 0-2.86zM5.41 20L4 18.59l7.72-7.72 1.47 1.35L5.41 20z\"/>\n",
              "  </svg>\n",
              "      </button>\n",
              "      \n",
              "  <style>\n",
              "    .colab-df-container {\n",
              "      display:flex;\n",
              "      flex-wrap:wrap;\n",
              "      gap: 12px;\n",
              "    }\n",
              "\n",
              "    .colab-df-convert {\n",
              "      background-color: #E8F0FE;\n",
              "      border: none;\n",
              "      border-radius: 50%;\n",
              "      cursor: pointer;\n",
              "      display: none;\n",
              "      fill: #1967D2;\n",
              "      height: 32px;\n",
              "      padding: 0 0 0 0;\n",
              "      width: 32px;\n",
              "    }\n",
              "\n",
              "    .colab-df-convert:hover {\n",
              "      background-color: #E2EBFA;\n",
              "      box-shadow: 0px 1px 2px rgba(60, 64, 67, 0.3), 0px 1px 3px 1px rgba(60, 64, 67, 0.15);\n",
              "      fill: #174EA6;\n",
              "    }\n",
              "\n",
              "    [theme=dark] .colab-df-convert {\n",
              "      background-color: #3B4455;\n",
              "      fill: #D2E3FC;\n",
              "    }\n",
              "\n",
              "    [theme=dark] .colab-df-convert:hover {\n",
              "      background-color: #434B5C;\n",
              "      box-shadow: 0px 1px 3px 1px rgba(0, 0, 0, 0.15);\n",
              "      filter: drop-shadow(0px 1px 2px rgba(0, 0, 0, 0.3));\n",
              "      fill: #FFFFFF;\n",
              "    }\n",
              "  </style>\n",
              "\n",
              "      <script>\n",
              "        const buttonEl =\n",
              "          document.querySelector('#df-d08bc3e5-4470-4ba3-88bc-6f21966f0113 button.colab-df-convert');\n",
              "        buttonEl.style.display =\n",
              "          google.colab.kernel.accessAllowed ? 'block' : 'none';\n",
              "\n",
              "        async function convertToInteractive(key) {\n",
              "          const element = document.querySelector('#df-d08bc3e5-4470-4ba3-88bc-6f21966f0113');\n",
              "          const dataTable =\n",
              "            await google.colab.kernel.invokeFunction('convertToInteractive',\n",
              "                                                     [key], {});\n",
              "          if (!dataTable) return;\n",
              "\n",
              "          const docLinkHtml = 'Like what you see? Visit the ' +\n",
              "            '<a target=\"_blank\" href=https://colab.research.google.com/notebooks/data_table.ipynb>data table notebook</a>'\n",
              "            + ' to learn more about interactive tables.';\n",
              "          element.innerHTML = '';\n",
              "          dataTable['output_type'] = 'display_data';\n",
              "          await google.colab.output.renderOutput(dataTable, element);\n",
              "          const docLink = document.createElement('div');\n",
              "          docLink.innerHTML = docLinkHtml;\n",
              "          element.appendChild(docLink);\n",
              "        }\n",
              "      </script>\n",
              "    </div>\n",
              "  </div>\n",
              "  "
            ]
          },
          "metadata": {},
          "execution_count": 13
        }
      ]
    },
    {
      "cell_type": "markdown",
      "source": [
        "##**Target Columns**"
      ],
      "metadata": {
        "id": "fAehTFC_hNoH"
      }
    },
    {
      "cell_type": "code",
      "source": [
        "#Counting the Number of default and not.\n",
        "#default payment (Yes = 1, No = 0)\n",
        "df_news['default payment next month'].value_counts()"
      ],
      "metadata": {
        "colab": {
          "base_uri": "https://localhost:8080/"
        },
        "id": "70pfYSKlOXfz",
        "outputId": "6be0b358-4c8c-4059-d540-4b69abf32a03"
      },
      "execution_count": 67,
      "outputs": [
        {
          "output_type": "execute_result",
          "data": {
            "text/plain": [
              "0    23364\n",
              "1     6636\n",
              "Name: default payment next month, dtype: int64"
            ]
          },
          "metadata": {},
          "execution_count": 67
        }
      ]
    },
    {
      "cell_type": "code",
      "source": [
        "#Plotinfg the target columns\n",
        "sns.countplot(x= df_news['default payment next month'])"
      ],
      "metadata": {
        "colab": {
          "base_uri": "https://localhost:8080/",
          "height": 297
        },
        "id": "D5pw43cAhU5y",
        "outputId": "754d162d-1a4c-4b84-e03f-6844a511ea02"
      },
      "execution_count": null,
      "outputs": [
        {
          "output_type": "execute_result",
          "data": {
            "text/plain": [
              "<matplotlib.axes._subplots.AxesSubplot at 0x7f6059c36690>"
            ]
          },
          "metadata": {},
          "execution_count": 14
        },
        {
          "output_type": "display_data",
          "data": {
            "text/plain": [
              "<Figure size 432x288 with 1 Axes>"
            ],
            "image/png": "[encoded data removed]"
          },
          "metadata": {
            "needs_background": "light"
          }
        }
      ]
    },
    {
      "cell_type": "markdown",
      "source": [
        "##**Gender Relationship**"
      ],
      "metadata": {
        "id": "FAQxYq_CVEcC"
      }
    },
    {
      "cell_type": "code",
      "source": [
        "#Checking count\n",
        "#Gender (1 = male; 2 = female).\n",
        "df_news.SEX.value_counts()"
      ],
      "metadata": {
        "id": "l7NYPytEyr78",
        "outputId": "63655e60-38c5-4fc6-db4e-b77b961e2c5c",
        "colab": {
          "base_uri": "https://localhost:8080/"
        }
      },
      "execution_count": 68,
      "outputs": [
        {
          "output_type": "execute_result",
          "data": {
            "text/plain": [
              "2    18112\n",
              "1    11888\n",
              "Name: SEX, dtype: int64"
            ]
          },
          "metadata": {},
          "execution_count": 68
        }
      ]
    },
    {
      "cell_type": "code",
      "source": [
        "#Plotting the Graphical representation of sex\n",
        "fig, ax = plt.subplots()\n",
        "sns.barplot(x= 'SEX', y='default payment next month', data= df_news)\n",
        "plt.show()"
      ],
      "metadata": {
        "colab": {
          "base_uri": "https://localhost:8080/",
          "height": 279
        },
        "id": "D5h0Bv7ts0bI",
        "outputId": "e38921c4-c024-4603-f5ea-2f6626467b27"
      },
      "execution_count": null,
      "outputs": [
        {
          "output_type": "display_data",
          "data": {
            "text/plain": [
              "<Figure size 432x288 with 1 Axes>"
            ],
            "image/png": "[encoded data removed]"
          },
          "metadata": {
            "needs_background": "light"
          }
        }
      ]
    },
    {
      "cell_type": "code",
      "source": [
        "g = sns.catplot(x=\"SEX\", col=\"default payment next month\",\n",
        "                data=df_news, kind=\"count\", cmap='Y');"
      ],
      "metadata": {
        "id": "BtH8l5Zd3Xx-",
        "outputId": "10fd3f47-ff34-407c-8670-3f5a6a78ea2c",
        "colab": {
          "base_uri": "https://localhost:8080/",
          "height": 369
        }
      },
      "execution_count": 76,
      "outputs": [
        {
          "output_type": "display_data",
          "data": {
            "text/plain": [
              "<Figure size 720x360 with 2 Axes>"
            ],
            "image/png": "[encoded data removed]"
          },
          "metadata": {
            "needs_background": "light"
          }
        }
      ]
    },
    {
      "cell_type": "markdown",
      "source": [
        "##**Marriage**"
      ],
      "metadata": {
        "id": "l24QgAi5VQ-g"
      }
    },
    {
      "cell_type": "code",
      "source": [
        "#Checking Counts\n",
        "#Marital status (1 = married; 2 = single; 3&0 = others).\n",
        "df_news.MARRIAGE.value_counts()"
      ],
      "metadata": {
        "id": "th0l68HAy2HT",
        "outputId": "de6c3283-835a-4002-eb01-faab8aa9b0e0",
        "colab": {
          "base_uri": "https://localhost:8080/"
        }
      },
      "execution_count": 70,
      "outputs": [
        {
          "output_type": "execute_result",
          "data": {
            "text/plain": [
              "2    15964\n",
              "1    13659\n",
              "3      323\n",
              "0       54\n",
              "Name: MARRIAGE, dtype: int64"
            ]
          },
          "metadata": {},
          "execution_count": 70
        }
      ]
    },
    {
      "cell_type": "code",
      "source": [
        "#Ploting the marriage count \n",
        "sns.catplot(x=\"MARRIAGE\", col=\"default payment next month\",\n",
        "                data=df_news, kind=\"count\");"
      ],
      "metadata": {
        "id": "8u0O1opJFQn6",
        "outputId": "7685bb73-1bba-4e76-b8ae-76b30f4f0594",
        "colab": {
          "base_uri": "https://localhost:8080/",
          "height": 369
        }
      },
      "execution_count": 80,
      "outputs": [
        {
          "output_type": "display_data",
          "data": {
            "text/plain": [
              "<Figure size 720x360 with 2 Axes>"
            ],
            "image/png": "[encoded data removed]"
          },
          "metadata": {
            "needs_background": "light"
          }
        }
      ]
    },
    {
      "cell_type": "markdown",
      "source": [
        "##**Educatiuon**"
      ],
      "metadata": {
        "id": "eADKaSloVX7g"
      }
    },
    {
      "cell_type": "code",
      "source": [
        "#Checking counts\n",
        "#Education (1 = graduate school; 2 = university; 3 = high school; 4 = others).\n",
        "df_news.EDUCATION.value_counts()"
      ],
      "metadata": {
        "id": "Zx_sIj6G0F5v",
        "outputId": "66b0e06d-070b-437e-991e-a2b1fe411435",
        "colab": {
          "base_uri": "https://localhost:8080/"
        }
      },
      "execution_count": 71,
      "outputs": [
        {
          "output_type": "execute_result",
          "data": {
            "text/plain": [
              "2    14030\n",
              "1    10585\n",
              "3     4917\n",
              "5      280\n",
              "4      123\n",
              "6       51\n",
              "0       14\n",
              "Name: EDUCATION, dtype: int64"
            ]
          },
          "metadata": {},
          "execution_count": 71
        }
      ]
    },
    {
      "cell_type": "code",
      "source": [
        "#Plotting the education \n",
        "#Education (1 = graduate school; 2 = university; 3 = high school; 4 = others).6sns.catplot(x=\"EDUCATION\", col=\"default payment next month\",\n",
        "                data=df_news, kind=\"count\");"
      ],
      "metadata": {
        "id": "7KSkttp3FuQn",
        "outputId": "a76a1a17-050b-4ba3-9a32-3f0fca18f1b2",
        "colab": {
          "base_uri": "https://localhost:8080/",
          "height": 369
        }
      },
      "execution_count": 81,
      "outputs": [
        {
          "output_type": "display_data",
          "data": {
            "text/plain": [
              "<Figure size 720x360 with 2 Axes>"
            ],
            "image/png": "[encoded data removed]"
          },
          "metadata": {
            "needs_background": "light"
          }
        }
      ]
    },
    {
      "cell_type": "markdown",
      "source": [
        "##**Limit Balance**"
      ],
      "metadata": {
        "id": "OYM2nEIiwB1V"
      }
    },
    {
      "cell_type": "code",
      "source": [
        "#Plotting the Limit balance\n",
        "sns.countplot(x=df_news.LIMIT_BAL)"
      ],
      "metadata": {
        "colab": {
          "base_uri": "https://localhost:8080/",
          "height": 300
        },
        "id": "I-ttwE0Bm8Mn",
        "outputId": "4d71e1e3-ede5-4b0d-e8f7-7f2d913b4873"
      },
      "execution_count": null,
      "outputs": [
        {
          "output_type": "execute_result",
          "data": {
            "text/plain": [
              "<matplotlib.axes._subplots.AxesSubplot at 0x7f605956a510>"
            ]
          },
          "metadata": {},
          "execution_count": 18
        },
        {
          "output_type": "display_data",
          "data": {
            "text/plain": [
              "<Figure size 432x288 with 1 Axes>"
            ],
            "image/png": "[encoded data removed]"
          },
          "metadata": {
            "needs_background": "light"
          }
        }
      ]
    },
    {
      "cell_type": "markdown",
      "source": [
        "##**Payment Status**"
      ],
      "metadata": {
        "id": "RZgo8h4kbce-"
      }
    },
    {
      "cell_type": "code",
      "source": [
        "#Making dataframe on Payment status\n",
        "df_pay = df_news[['PAY_0','PAY_2', 'PAY_3', 'PAY_4', 'PAY_5', 'PAY_6']]\n",
        "df_pay.head()"
      ],
      "metadata": {
        "colab": {
          "base_uri": "https://localhost:8080/",
          "height": 206
        },
        "id": "w7iO4jVN1e7d",
        "outputId": "068e1e1b-9edb-407b-8fbd-c7c195214f4f"
      },
      "execution_count": null,
      "outputs": [
        {
          "output_type": "execute_result",
          "data": {
            "text/plain": [
              "   PAY_0  PAY_2  PAY_3  PAY_4  PAY_5  PAY_6\n",
              "1      2      2     -1     -1     -2     -2\n",
              "2     -1      2      0      0      0      2\n",
              "3      0      0      0      0      0      0\n",
              "4      0      0      0      0      0      0\n",
              "5     -1      0     -1      0      0      0"
            ],
            "text/html": [
              "\n",
              "  <div id=\"df-945933a4-49bf-4551-8549-4c808cfbc8b0\">\n",
              "    <div class=\"colab-df-container\">\n",
              "      <div>\n",
              "<style scoped>\n",
              "    .dataframe tbody tr th:only-of-type {\n",
              "        vertical-align: middle;\n",
              "    }\n",
              "\n",
              "    .dataframe tbody tr th {\n",
              "        vertical-align: top;\n",
              "    }\n",
              "\n",
              "    .dataframe thead th {\n",
              "        text-align: right;\n",
              "    }\n",
              "</style>\n",
              "<table border=\"1\" class=\"dataframe\">\n",
              "  <thead>\n",
              "    <tr style=\"text-align: right;\">\n",
              "      <th></th>\n",
              "      <th>PAY_0</th>\n",
              "      <th>PAY_2</th>\n",
              "      <th>PAY_3</th>\n",
              "      <th>PAY_4</th>\n",
              "      <th>PAY_5</th>\n",
              "      <th>PAY_6</th>\n",
              "    </tr>\n",
              "  </thead>\n",
              "  <tbody>\n",
              "    <tr>\n",
              "      <th>1</th>\n",
              "      <td>2</td>\n",
              "      <td>2</td>\n",
              "      <td>-1</td>\n",
              "      <td>-1</td>\n",
              "      <td>-2</td>\n",
              "      <td>-2</td>\n",
              "    </tr>\n",
              "    <tr>\n",
              "      <th>2</th>\n",
              "      <td>-1</td>\n",
              "      <td>2</td>\n",
              "      <td>0</td>\n",
              "      <td>0</td>\n",
              "      <td>0</td>\n",
              "      <td>2</td>\n",
              "    </tr>\n",
              "    <tr>\n",
              "      <th>3</th>\n",
              "      <td>0</td>\n",
              "      <td>0</td>\n",
              "      <td>0</td>\n",
              "      <td>0</td>\n",
              "      <td>0</td>\n",
              "      <td>0</td>\n",
              "    </tr>\n",
              "    <tr>\n",
              "      <th>4</th>\n",
              "      <td>0</td>\n",
              "      <td>0</td>\n",
              "      <td>0</td>\n",
              "      <td>0</td>\n",
              "      <td>0</td>\n",
              "      <td>0</td>\n",
              "    </tr>\n",
              "    <tr>\n",
              "      <th>5</th>\n",
              "      <td>-1</td>\n",
              "      <td>0</td>\n",
              "      <td>-1</td>\n",
              "      <td>0</td>\n",
              "      <td>0</td>\n",
              "      <td>0</td>\n",
              "    </tr>\n",
              "  </tbody>\n",
              "</table>\n",
              "</div>\n",
              "      <button class=\"colab-df-convert\" onclick=\"convertToInteractive('df-945933a4-49bf-4551-8549-4c808cfbc8b0')\"\n",
              "              title=\"Convert this dataframe to an interactive table.\"\n",
              "              style=\"display:none;\">\n",
              "        \n",
              "  <svg xmlns=\"http://www.w3.org/2000/svg\" height=\"24px\"viewBox=\"0 0 24 24\"\n",
              "       width=\"24px\">\n",
              "    <path d=\"M0 0h24v24H0V0z\" fill=\"none\"/>\n",
              "    <path d=\"M18.56 5.44l.94 2.06.94-2.06 2.06-.94-2.06-.94-.94-2.06-.94 2.06-2.06.94zm-11 1L8.5 8.5l.94-2.06 2.06-.94-2.06-.94L8.5 2.5l-.94 2.06-2.06.94zm10 10l.94 2.06.94-2.06 2.06-.94-2.06-.94-.94-2.06-.94 2.06-2.06.94z\"/><path d=\"M17.41 7.96l-1.37-1.37c-.4-.4-.92-.59-1.43-.59-.52 0-1.04.2-1.43.59L10.3 9.45l-7.72 7.72c-.78.78-.78 2.05 0 2.83L4 21.41c.39.39.9.59 1.41.59.51 0 1.02-.2 1.41-.59l7.78-7.78 2.81-2.81c.8-.78.8-2.07 0-2.86zM5.41 20L4 18.59l7.72-7.72 1.47 1.35L5.41 20z\"/>\n",
              "  </svg>\n",
              "      </button>\n",
              "      \n",
              "  <style>\n",
              "    .colab-df-container {\n",
              "      display:flex;\n",
              "      flex-wrap:wrap;\n",
              "      gap: 12px;\n",
              "    }\n",
              "\n",
              "    .colab-df-convert {\n",
              "      background-color: #E8F0FE;\n",
              "      border: none;\n",
              "      border-radius: 50%;\n",
              "      cursor: pointer;\n",
              "      display: none;\n",
              "      fill: #1967D2;\n",
              "      height: 32px;\n",
              "      padding: 0 0 0 0;\n",
              "      width: 32px;\n",
              "    }\n",
              "\n",
              "    .colab-df-convert:hover {\n",
              "      background-color: #E2EBFA;\n",
              "      box-shadow: 0px 1px 2px rgba(60, 64, 67, 0.3), 0px 1px 3px 1px rgba(60, 64, 67, 0.15);\n",
              "      fill: #174EA6;\n",
              "    }\n",
              "\n",
              "    [theme=dark] .colab-df-convert {\n",
              "      background-color: #3B4455;\n",
              "      fill: #D2E3FC;\n",
              "    }\n",
              "\n",
              "    [theme=dark] .colab-df-convert:hover {\n",
              "      background-color: #434B5C;\n",
              "      box-shadow: 0px 1px 3px 1px rgba(0, 0, 0, 0.15);\n",
              "      filter: drop-shadow(0px 1px 2px rgba(0, 0, 0, 0.3));\n",
              "      fill: #FFFFFF;\n",
              "    }\n",
              "  </style>\n",
              "\n",
              "      <script>\n",
              "        const buttonEl =\n",
              "          document.querySelector('#df-945933a4-49bf-4551-8549-4c808cfbc8b0 button.colab-df-convert');\n",
              "        buttonEl.style.display =\n",
              "          google.colab.kernel.accessAllowed ? 'block' : 'none';\n",
              "\n",
              "        async function convertToInteractive(key) {\n",
              "          const element = document.querySelector('#df-945933a4-49bf-4551-8549-4c808cfbc8b0');\n",
              "          const dataTable =\n",
              "            await google.colab.kernel.invokeFunction('convertToInteractive',\n",
              "                                                     [key], {});\n",
              "          if (!dataTable) return;\n",
              "\n",
              "          const docLinkHtml = 'Like what you see? Visit the ' +\n",
              "            '<a target=\"_blank\" href=https://colab.research.google.com/notebooks/data_table.ipynb>data table notebook</a>'\n",
              "            + ' to learn more about interactive tables.';\n",
              "          element.innerHTML = '';\n",
              "          dataTable['output_type'] = 'display_data';\n",
              "          await google.colab.output.renderOutput(dataTable, element);\n",
              "          const docLink = document.createElement('div');\n",
              "          docLink.innerHTML = docLinkHtml;\n",
              "          element.appendChild(docLink);\n",
              "        }\n",
              "      </script>\n",
              "    </div>\n",
              "  </div>\n",
              "  "
            ]
          },
          "metadata": {},
          "execution_count": 19
        }
      ]
    },
    {
      "cell_type": "code",
      "source": [
        "#Describtive analysis of Payment status columns\n",
        "df_pay.describe()"
      ],
      "metadata": {
        "colab": {
          "base_uri": "https://localhost:8080/",
          "height": 300
        },
        "id": "2APJ2N5-VuD2",
        "outputId": "d6d3a58c-8569-40a6-a5ac-49d217464019"
      },
      "execution_count": null,
      "outputs": [
        {
          "output_type": "execute_result",
          "data": {
            "text/plain": [
              "              PAY_0         PAY_2         PAY_3         PAY_4         PAY_5  \\\n",
              "count  30000.000000  30000.000000  30000.000000  30000.000000  30000.000000   \n",
              "mean      -0.016700     -0.133767     -0.166200     -0.220667     -0.266200   \n",
              "std        1.123802      1.197186      1.196868      1.169139      1.133187   \n",
              "min       -2.000000     -2.000000     -2.000000     -2.000000     -2.000000   \n",
              "25%       -1.000000     -1.000000     -1.000000     -1.000000     -1.000000   \n",
              "50%        0.000000      0.000000      0.000000      0.000000      0.000000   \n",
              "75%        0.000000      0.000000      0.000000      0.000000      0.000000   \n",
              "max        8.000000      8.000000      8.000000      8.000000      8.000000   \n",
              "\n",
              "              PAY_6  \n",
              "count  30000.000000  \n",
              "mean      -0.291100  \n",
              "std        1.149988  \n",
              "min       -2.000000  \n",
              "25%       -1.000000  \n",
              "50%        0.000000  \n",
              "75%        0.000000  \n",
              "max        8.000000  "
            ],
            "text/html": [
              "\n",
              "  <div id=\"df-10b7fb1b-863e-4b68-9860-44dca38d3f6a\">\n",
              "    <div class=\"colab-df-container\">\n",
              "      <div>\n",
              "<style scoped>\n",
              "    .dataframe tbody tr th:only-of-type {\n",
              "        vertical-align: middle;\n",
              "    }\n",
              "\n",
              "    .dataframe tbody tr th {\n",
              "        vertical-align: top;\n",
              "    }\n",
              "\n",
              "    .dataframe thead th {\n",
              "        text-align: right;\n",
              "    }\n",
              "</style>\n",
              "<table border=\"1\" class=\"dataframe\">\n",
              "  <thead>\n",
              "    <tr style=\"text-align: right;\">\n",
              "      <th></th>\n",
              "      <th>PAY_0</th>\n",
              "      <th>PAY_2</th>\n",
              "      <th>PAY_3</th>\n",
              "      <th>PAY_4</th>\n",
              "      <th>PAY_5</th>\n",
              "      <th>PAY_6</th>\n",
              "    </tr>\n",
              "  </thead>\n",
              "  <tbody>\n",
              "    <tr>\n",
              "      <th>count</th>\n",
              "      <td>30000.000000</td>\n",
              "      <td>30000.000000</td>\n",
              "      <td>30000.000000</td>\n",
              "      <td>30000.000000</td>\n",
              "      <td>30000.000000</td>\n",
              "      <td>30000.000000</td>\n",
              "    </tr>\n",
              "    <tr>\n",
              "      <th>mean</th>\n",
              "      <td>-0.016700</td>\n",
              "      <td>-0.133767</td>\n",
              "      <td>-0.166200</td>\n",
              "      <td>-0.220667</td>\n",
              "      <td>-0.266200</td>\n",
              "      <td>-0.291100</td>\n",
              "    </tr>\n",
              "    <tr>\n",
              "      <th>std</th>\n",
              "      <td>1.123802</td>\n",
              "      <td>1.197186</td>\n",
              "      <td>1.196868</td>\n",
              "      <td>1.169139</td>\n",
              "      <td>1.133187</td>\n",
              "      <td>1.149988</td>\n",
              "    </tr>\n",
              "    <tr>\n",
              "      <th>min</th>\n",
              "      <td>-2.000000</td>\n",
              "      <td>-2.000000</td>\n",
              "      <td>-2.000000</td>\n",
              "      <td>-2.000000</td>\n",
              "      <td>-2.000000</td>\n",
              "      <td>-2.000000</td>\n",
              "    </tr>\n",
              "    <tr>\n",
              "      <th>25%</th>\n",
              "      <td>-1.000000</td>\n",
              "      <td>-1.000000</td>\n",
              "      <td>-1.000000</td>\n",
              "      <td>-1.000000</td>\n",
              "      <td>-1.000000</td>\n",
              "      <td>-1.000000</td>\n",
              "    </tr>\n",
              "    <tr>\n",
              "      <th>50%</th>\n",
              "      <td>0.000000</td>\n",
              "      <td>0.000000</td>\n",
              "      <td>0.000000</td>\n",
              "      <td>0.000000</td>\n",
              "      <td>0.000000</td>\n",
              "      <td>0.000000</td>\n",
              "    </tr>\n",
              "    <tr>\n",
              "      <th>75%</th>\n",
              "      <td>0.000000</td>\n",
              "      <td>0.000000</td>\n",
              "      <td>0.000000</td>\n",
              "      <td>0.000000</td>\n",
              "      <td>0.000000</td>\n",
              "      <td>0.000000</td>\n",
              "    </tr>\n",
              "    <tr>\n",
              "      <th>max</th>\n",
              "      <td>8.000000</td>\n",
              "      <td>8.000000</td>\n",
              "      <td>8.000000</td>\n",
              "      <td>8.000000</td>\n",
              "      <td>8.000000</td>\n",
              "      <td>8.000000</td>\n",
              "    </tr>\n",
              "  </tbody>\n",
              "</table>\n",
              "</div>\n",
              "      <button class=\"colab-df-convert\" onclick=\"convertToInteractive('df-10b7fb1b-863e-4b68-9860-44dca38d3f6a')\"\n",
              "              title=\"Convert this dataframe to an interactive table.\"\n",
              "              style=\"display:none;\">\n",
              "        \n",
              "  <svg xmlns=\"http://www.w3.org/2000/svg\" height=\"24px\"viewBox=\"0 0 24 24\"\n",
              "       width=\"24px\">\n",
              "    <path d=\"M0 0h24v24H0V0z\" fill=\"none\"/>\n",
              "    <path d=\"M18.56 5.44l.94 2.06.94-2.06 2.06-.94-2.06-.94-.94-2.06-.94 2.06-2.06.94zm-11 1L8.5 8.5l.94-2.06 2.06-.94-2.06-.94L8.5 2.5l-.94 2.06-2.06.94zm10 10l.94 2.06.94-2.06 2.06-.94-2.06-.94-.94-2.06-.94 2.06-2.06.94z\"/><path d=\"M17.41 7.96l-1.37-1.37c-.4-.4-.92-.59-1.43-.59-.52 0-1.04.2-1.43.59L10.3 9.45l-7.72 7.72c-.78.78-.78 2.05 0 2.83L4 21.41c.39.39.9.59 1.41.59.51 0 1.02-.2 1.41-.59l7.78-7.78 2.81-2.81c.8-.78.8-2.07 0-2.86zM5.41 20L4 18.59l7.72-7.72 1.47 1.35L5.41 20z\"/>\n",
              "  </svg>\n",
              "      </button>\n",
              "      \n",
              "  <style>\n",
              "    .colab-df-container {\n",
              "      display:flex;\n",
              "      flex-wrap:wrap;\n",
              "      gap: 12px;\n",
              "    }\n",
              "\n",
              "    .colab-df-convert {\n",
              "      background-color: #E8F0FE;\n",
              "      border: none;\n",
              "      border-radius: 50%;\n",
              "      cursor: pointer;\n",
              "      display: none;\n",
              "      fill: #1967D2;\n",
              "      height: 32px;\n",
              "      padding: 0 0 0 0;\n",
              "      width: 32px;\n",
              "    }\n",
              "\n",
              "    .colab-df-convert:hover {\n",
              "      background-color: #E2EBFA;\n",
              "      box-shadow: 0px 1px 2px rgba(60, 64, 67, 0.3), 0px 1px 3px 1px rgba(60, 64, 67, 0.15);\n",
              "      fill: #174EA6;\n",
              "    }\n",
              "\n",
              "    [theme=dark] .colab-df-convert {\n",
              "      background-color: #3B4455;\n",
              "      fill: #D2E3FC;\n",
              "    }\n",
              "\n",
              "    [theme=dark] .colab-df-convert:hover {\n",
              "      background-color: #434B5C;\n",
              "      box-shadow: 0px 1px 3px 1px rgba(0, 0, 0, 0.15);\n",
              "      filter: drop-shadow(0px 1px 2px rgba(0, 0, 0, 0.3));\n",
              "      fill: #FFFFFF;\n",
              "    }\n",
              "  </style>\n",
              "\n",
              "      <script>\n",
              "        const buttonEl =\n",
              "          document.querySelector('#df-10b7fb1b-863e-4b68-9860-44dca38d3f6a button.colab-df-convert');\n",
              "        buttonEl.style.display =\n",
              "          google.colab.kernel.accessAllowed ? 'block' : 'none';\n",
              "\n",
              "        async function convertToInteractive(key) {\n",
              "          const element = document.querySelector('#df-10b7fb1b-863e-4b68-9860-44dca38d3f6a');\n",
              "          const dataTable =\n",
              "            await google.colab.kernel.invokeFunction('convertToInteractive',\n",
              "                                                     [key], {});\n",
              "          if (!dataTable) return;\n",
              "\n",
              "          const docLinkHtml = 'Like what you see? Visit the ' +\n",
              "            '<a target=\"_blank\" href=https://colab.research.google.com/notebooks/data_table.ipynb>data table notebook</a>'\n",
              "            + ' to learn more about interactive tables.';\n",
              "          element.innerHTML = '';\n",
              "          dataTable['output_type'] = 'display_data';\n",
              "          await google.colab.output.renderOutput(dataTable, element);\n",
              "          const docLink = document.createElement('div');\n",
              "          docLink.innerHTML = docLinkHtml;\n",
              "          element.appendChild(docLink);\n",
              "        }\n",
              "      </script>\n",
              "    </div>\n",
              "  </div>\n",
              "  "
            ]
          },
          "metadata": {},
          "execution_count": 20
        }
      ]
    },
    {
      "cell_type": "code",
      "source": [
        "sns.heatmap(df_pay.corr(),cmap='YlGnBu', annot=True)"
      ],
      "metadata": {
        "colab": {
          "base_uri": "https://localhost:8080/",
          "height": 288
        },
        "id": "yb8CuLmentKC",
        "outputId": "ede4cce2-b5d8-490f-de8a-2d8f11c5990f"
      },
      "execution_count": null,
      "outputs": [
        {
          "output_type": "execute_result",
          "data": {
            "text/plain": [
              "<matplotlib.axes._subplots.AxesSubplot at 0x7f6059486a10>"
            ]
          },
          "metadata": {},
          "execution_count": 21
        },
        {
          "output_type": "display_data",
          "data": {
            "text/plain": [
              "<Figure size 432x288 with 2 Axes>"
            ],
            "image/png": "[encoded data removed]"
          },
          "metadata": {
            "needs_background": "light"
          }
        }
      ]
    },
    {
      "cell_type": "markdown",
      "source": [
        "##**Bill Amount**"
      ],
      "metadata": {
        "id": "u_ahxNXsbm5O"
      }
    },
    {
      "cell_type": "code",
      "source": [
        "#Creating columns for Bill Amount\n",
        "df_bill = df_news[['BILL_AMT1', 'BILL_AMT2',\n",
        "       'BILL_AMT3', 'BILL_AMT4', 'BILL_AMT5', 'BILL_AMT6']]\n",
        "df_bill.head()"
      ],
      "metadata": {
        "colab": {
          "base_uri": "https://localhost:8080/",
          "height": 206
        },
        "id": "vh8DV_4pVt_0",
        "outputId": "1ca01e6c-e357-4ee7-827f-841958eac762"
      },
      "execution_count": null,
      "outputs": [
        {
          "output_type": "execute_result",
          "data": {
            "text/plain": [
              "   BILL_AMT1  BILL_AMT2  BILL_AMT3  BILL_AMT4  BILL_AMT5  BILL_AMT6\n",
              "1       3913       3102        689          0          0          0\n",
              "2       2682       1725       2682       3272       3455       3261\n",
              "3      29239      14027      13559      14331      14948      15549\n",
              "4      46990      48233      49291      28314      28959      29547\n",
              "5       8617       5670      35835      20940      19146      19131"
            ],
            "text/html": [
              "\n",
              "  <div id=\"df-fb0e6f90-1fbe-4ca5-abe3-be40f60ca83e\">\n",
              "    <div class=\"colab-df-container\">\n",
              "      <div>\n",
              "<style scoped>\n",
              "    .dataframe tbody tr th:only-of-type {\n",
              "        vertical-align: middle;\n",
              "    }\n",
              "\n",
              "    .dataframe tbody tr th {\n",
              "        vertical-align: top;\n",
              "    }\n",
              "\n",
              "    .dataframe thead th {\n",
              "        text-align: right;\n",
              "    }\n",
              "</style>\n",
              "<table border=\"1\" class=\"dataframe\">\n",
              "  <thead>\n",
              "    <tr style=\"text-align: right;\">\n",
              "      <th></th>\n",
              "      <th>BILL_AMT1</th>\n",
              "      <th>BILL_AMT2</th>\n",
              "      <th>BILL_AMT3</th>\n",
              "      <th>BILL_AMT4</th>\n",
              "      <th>BILL_AMT5</th>\n",
              "      <th>BILL_AMT6</th>\n",
              "    </tr>\n",
              "  </thead>\n",
              "  <tbody>\n",
              "    <tr>\n",
              "      <th>1</th>\n",
              "      <td>3913</td>\n",
              "      <td>3102</td>\n",
              "      <td>689</td>\n",
              "      <td>0</td>\n",
              "      <td>0</td>\n",
              "      <td>0</td>\n",
              "    </tr>\n",
              "    <tr>\n",
              "      <th>2</th>\n",
              "      <td>2682</td>\n",
              "      <td>1725</td>\n",
              "      <td>2682</td>\n",
              "      <td>3272</td>\n",
              "      <td>3455</td>\n",
              "      <td>3261</td>\n",
              "    </tr>\n",
              "    <tr>\n",
              "      <th>3</th>\n",
              "      <td>29239</td>\n",
              "      <td>14027</td>\n",
              "      <td>13559</td>\n",
              "      <td>14331</td>\n",
              "      <td>14948</td>\n",
              "      <td>15549</td>\n",
              "    </tr>\n",
              "    <tr>\n",
              "      <th>4</th>\n",
              "      <td>46990</td>\n",
              "      <td>48233</td>\n",
              "      <td>49291</td>\n",
              "      <td>28314</td>\n",
              "      <td>28959</td>\n",
              "      <td>29547</td>\n",
              "    </tr>\n",
              "    <tr>\n",
              "      <th>5</th>\n",
              "      <td>8617</td>\n",
              "      <td>5670</td>\n",
              "      <td>35835</td>\n",
              "      <td>20940</td>\n",
              "      <td>19146</td>\n",
              "      <td>19131</td>\n",
              "    </tr>\n",
              "  </tbody>\n",
              "</table>\n",
              "</div>\n",
              "      <button class=\"colab-df-convert\" onclick=\"convertToInteractive('df-fb0e6f90-1fbe-4ca5-abe3-be40f60ca83e')\"\n",
              "              title=\"Convert this dataframe to an interactive table.\"\n",
              "              style=\"display:none;\">\n",
              "        \n",
              "  <svg xmlns=\"http://www.w3.org/2000/svg\" height=\"24px\"viewBox=\"0 0 24 24\"\n",
              "       width=\"24px\">\n",
              "    <path d=\"M0 0h24v24H0V0z\" fill=\"none\"/>\n",
              "    <path d=\"M18.56 5.44l.94 2.06.94-2.06 2.06-.94-2.06-.94-.94-2.06-.94 2.06-2.06.94zm-11 1L8.5 8.5l.94-2.06 2.06-.94-2.06-.94L8.5 2.5l-.94 2.06-2.06.94zm10 10l.94 2.06.94-2.06 2.06-.94-2.06-.94-.94-2.06-.94 2.06-2.06.94z\"/><path d=\"M17.41 7.96l-1.37-1.37c-.4-.4-.92-.59-1.43-.59-.52 0-1.04.2-1.43.59L10.3 9.45l-7.72 7.72c-.78.78-.78 2.05 0 2.83L4 21.41c.39.39.9.59 1.41.59.51 0 1.02-.2 1.41-.59l7.78-7.78 2.81-2.81c.8-.78.8-2.07 0-2.86zM5.41 20L4 18.59l7.72-7.72 1.47 1.35L5.41 20z\"/>\n",
              "  </svg>\n",
              "      </button>\n",
              "      \n",
              "  <style>\n",
              "    .colab-df-container {\n",
              "      display:flex;\n",
              "      flex-wrap:wrap;\n",
              "      gap: 12px;\n",
              "    }\n",
              "\n",
              "    .colab-df-convert {\n",
              "      background-color: #E8F0FE;\n",
              "      border: none;\n",
              "      border-radius: 50%;\n",
              "      cursor: pointer;\n",
              "      display: none;\n",
              "      fill: #1967D2;\n",
              "      height: 32px;\n",
              "      padding: 0 0 0 0;\n",
              "      width: 32px;\n",
              "    }\n",
              "\n",
              "    .colab-df-convert:hover {\n",
              "      background-color: #E2EBFA;\n",
              "      box-shadow: 0px 1px 2px rgba(60, 64, 67, 0.3), 0px 1px 3px 1px rgba(60, 64, 67, 0.15);\n",
              "      fill: #174EA6;\n",
              "    }\n",
              "\n",
              "    [theme=dark] .colab-df-convert {\n",
              "      background-color: #3B4455;\n",
              "      fill: #D2E3FC;\n",
              "    }\n",
              "\n",
              "    [theme=dark] .colab-df-convert:hover {\n",
              "      background-color: #434B5C;\n",
              "      box-shadow: 0px 1px 3px 1px rgba(0, 0, 0, 0.15);\n",
              "      filter: drop-shadow(0px 1px 2px rgba(0, 0, 0, 0.3));\n",
              "      fill: #FFFFFF;\n",
              "    }\n",
              "  </style>\n",
              "\n",
              "      <script>\n",
              "        const buttonEl =\n",
              "          document.querySelector('#df-fb0e6f90-1fbe-4ca5-abe3-be40f60ca83e button.colab-df-convert');\n",
              "        buttonEl.style.display =\n",
              "          google.colab.kernel.accessAllowed ? 'block' : 'none';\n",
              "\n",
              "        async function convertToInteractive(key) {\n",
              "          const element = document.querySelector('#df-fb0e6f90-1fbe-4ca5-abe3-be40f60ca83e');\n",
              "          const dataTable =\n",
              "            await google.colab.kernel.invokeFunction('convertToInteractive',\n",
              "                                                     [key], {});\n",
              "          if (!dataTable) return;\n",
              "\n",
              "          const docLinkHtml = 'Like what you see? Visit the ' +\n",
              "            '<a target=\"_blank\" href=https://colab.research.google.com/notebooks/data_table.ipynb>data table notebook</a>'\n",
              "            + ' to learn more about interactive tables.';\n",
              "          element.innerHTML = '';\n",
              "          dataTable['output_type'] = 'display_data';\n",
              "          await google.colab.output.renderOutput(dataTable, element);\n",
              "          const docLink = document.createElement('div');\n",
              "          docLink.innerHTML = docLinkHtml;\n",
              "          element.appendChild(docLink);\n",
              "        }\n",
              "      </script>\n",
              "    </div>\n",
              "  </div>\n",
              "  "
            ]
          },
          "metadata": {},
          "execution_count": 22
        }
      ]
    },
    {
      "cell_type": "code",
      "source": [
        "#Describtive analysis of Bill Amount\n",
        "df_bill.describe()"
      ],
      "metadata": {
        "colab": {
          "base_uri": "https://localhost:8080/",
          "height": 300
        },
        "id": "FniWM7-VWzOe",
        "outputId": "99b66ad5-9816-4664-804c-b7a47cd980d2"
      },
      "execution_count": null,
      "outputs": [
        {
          "output_type": "execute_result",
          "data": {
            "text/plain": [
              "           BILL_AMT1      BILL_AMT2     BILL_AMT3      BILL_AMT4  \\\n",
              "count   30000.000000   30000.000000  3.000000e+04   30000.000000   \n",
              "mean    51223.330900   49179.075167  4.701315e+04   43262.948967   \n",
              "std     73635.860576   71173.768783  6.934939e+04   64332.856134   \n",
              "min   -165580.000000  -69777.000000 -1.572640e+05 -170000.000000   \n",
              "25%      3558.750000    2984.750000  2.666250e+03    2326.750000   \n",
              "50%     22381.500000   21200.000000  2.008850e+04   19052.000000   \n",
              "75%     67091.000000   64006.250000  6.016475e+04   54506.000000   \n",
              "max    964511.000000  983931.000000  1.664089e+06  891586.000000   \n",
              "\n",
              "           BILL_AMT5      BILL_AMT6  \n",
              "count   30000.000000   30000.000000  \n",
              "mean    40311.400967   38871.760400  \n",
              "std     60797.155770   59554.107537  \n",
              "min    -81334.000000 -339603.000000  \n",
              "25%      1763.000000    1256.000000  \n",
              "50%     18104.500000   17071.000000  \n",
              "75%     50190.500000   49198.250000  \n",
              "max    927171.000000  961664.000000  "
            ],
            "text/html": [
              "\n",
              "  <div id=\"df-b458c75e-68fe-4e60-ac3f-355d9a8023e8\">\n",
              "    <div class=\"colab-df-container\">\n",
              "      <div>\n",
              "<style scoped>\n",
              "    .dataframe tbody tr th:only-of-type {\n",
              "        vertical-align: middle;\n",
              "    }\n",
              "\n",
              "    .dataframe tbody tr th {\n",
              "        vertical-align: top;\n",
              "    }\n",
              "\n",
              "    .dataframe thead th {\n",
              "        text-align: right;\n",
              "    }\n",
              "</style>\n",
              "<table border=\"1\" class=\"dataframe\">\n",
              "  <thead>\n",
              "    <tr style=\"text-align: right;\">\n",
              "      <th></th>\n",
              "      <th>BILL_AMT1</th>\n",
              "      <th>BILL_AMT2</th>\n",
              "      <th>BILL_AMT3</th>\n",
              "      <th>BILL_AMT4</th>\n",
              "      <th>BILL_AMT5</th>\n",
              "      <th>BILL_AMT6</th>\n",
              "    </tr>\n",
              "  </thead>\n",
              "  <tbody>\n",
              "    <tr>\n",
              "      <th>count</th>\n",
              "      <td>30000.000000</td>\n",
              "      <td>30000.000000</td>\n",
              "      <td>3.000000e+04</td>\n",
              "      <td>30000.000000</td>\n",
              "      <td>30000.000000</td>\n",
              "      <td>30000.000000</td>\n",
              "    </tr>\n",
              "    <tr>\n",
              "      <th>mean</th>\n",
              "      <td>51223.330900</td>\n",
              "      <td>49179.075167</td>\n",
              "      <td>4.701315e+04</td>\n",
              "      <td>43262.948967</td>\n",
              "      <td>40311.400967</td>\n",
              "      <td>38871.760400</td>\n",
              "    </tr>\n",
              "    <tr>\n",
              "      <th>std</th>\n",
              "      <td>73635.860576</td>\n",
              "      <td>71173.768783</td>\n",
              "      <td>6.934939e+04</td>\n",
              "      <td>64332.856134</td>\n",
              "      <td>60797.155770</td>\n",
              "      <td>59554.107537</td>\n",
              "    </tr>\n",
              "    <tr>\n",
              "      <th>min</th>\n",
              "      <td>-165580.000000</td>\n",
              "      <td>-69777.000000</td>\n",
              "      <td>-1.572640e+05</td>\n",
              "      <td>-170000.000000</td>\n",
              "      <td>-81334.000000</td>\n",
              "      <td>-339603.000000</td>\n",
              "    </tr>\n",
              "    <tr>\n",
              "      <th>25%</th>\n",
              "      <td>3558.750000</td>\n",
              "      <td>2984.750000</td>\n",
              "      <td>2.666250e+03</td>\n",
              "      <td>2326.750000</td>\n",
              "      <td>1763.000000</td>\n",
              "      <td>1256.000000</td>\n",
              "    </tr>\n",
              "    <tr>\n",
              "      <th>50%</th>\n",
              "      <td>22381.500000</td>\n",
              "      <td>21200.000000</td>\n",
              "      <td>2.008850e+04</td>\n",
              "      <td>19052.000000</td>\n",
              "      <td>18104.500000</td>\n",
              "      <td>17071.000000</td>\n",
              "    </tr>\n",
              "    <tr>\n",
              "      <th>75%</th>\n",
              "      <td>67091.000000</td>\n",
              "      <td>64006.250000</td>\n",
              "      <td>6.016475e+04</td>\n",
              "      <td>54506.000000</td>\n",
              "      <td>50190.500000</td>\n",
              "      <td>49198.250000</td>\n",
              "    </tr>\n",
              "    <tr>\n",
              "      <th>max</th>\n",
              "      <td>964511.000000</td>\n",
              "      <td>983931.000000</td>\n",
              "      <td>1.664089e+06</td>\n",
              "      <td>891586.000000</td>\n",
              "      <td>927171.000000</td>\n",
              "      <td>961664.000000</td>\n",
              "    </tr>\n",
              "  </tbody>\n",
              "</table>\n",
              "</div>\n",
              "      <button class=\"colab-df-convert\" onclick=\"convertToInteractive('df-b458c75e-68fe-4e60-ac3f-355d9a8023e8')\"\n",
              "              title=\"Convert this dataframe to an interactive table.\"\n",
              "              style=\"display:none;\">\n",
              "        \n",
              "  <svg xmlns=\"http://www.w3.org/2000/svg\" height=\"24px\"viewBox=\"0 0 24 24\"\n",
              "       width=\"24px\">\n",
              "    <path d=\"M0 0h24v24H0V0z\" fill=\"none\"/>\n",
              "    <path d=\"M18.56 5.44l.94 2.06.94-2.06 2.06-.94-2.06-.94-.94-2.06-.94 2.06-2.06.94zm-11 1L8.5 8.5l.94-2.06 2.06-.94-2.06-.94L8.5 2.5l-.94 2.06-2.06.94zm10 10l.94 2.06.94-2.06 2.06-.94-2.06-.94-.94-2.06-.94 2.06-2.06.94z\"/><path d=\"M17.41 7.96l-1.37-1.37c-.4-.4-.92-.59-1.43-.59-.52 0-1.04.2-1.43.59L10.3 9.45l-7.72 7.72c-.78.78-.78 2.05 0 2.83L4 21.41c.39.39.9.59 1.41.59.51 0 1.02-.2 1.41-.59l7.78-7.78 2.81-2.81c.8-.78.8-2.07 0-2.86zM5.41 20L4 18.59l7.72-7.72 1.47 1.35L5.41 20z\"/>\n",
              "  </svg>\n",
              "      </button>\n",
              "      \n",
              "  <style>\n",
              "    .colab-df-container {\n",
              "      display:flex;\n",
              "      flex-wrap:wrap;\n",
              "      gap: 12px;\n",
              "    }\n",
              "\n",
              "    .colab-df-convert {\n",
              "      background-color: #E8F0FE;\n",
              "      border: none;\n",
              "      border-radius: 50%;\n",
              "      cursor: pointer;\n",
              "      display: none;\n",
              "      fill: #1967D2;\n",
              "      height: 32px;\n",
              "      padding: 0 0 0 0;\n",
              "      width: 32px;\n",
              "    }\n",
              "\n",
              "    .colab-df-convert:hover {\n",
              "      background-color: #E2EBFA;\n",
              "      box-shadow: 0px 1px 2px rgba(60, 64, 67, 0.3), 0px 1px 3px 1px rgba(60, 64, 67, 0.15);\n",
              "      fill: #174EA6;\n",
              "    }\n",
              "\n",
              "    [theme=dark] .colab-df-convert {\n",
              "      background-color: #3B4455;\n",
              "      fill: #D2E3FC;\n",
              "    }\n",
              "\n",
              "    [theme=dark] .colab-df-convert:hover {\n",
              "      background-color: #434B5C;\n",
              "      box-shadow: 0px 1px 3px 1px rgba(0, 0, 0, 0.15);\n",
              "      filter: drop-shadow(0px 1px 2px rgba(0, 0, 0, 0.3));\n",
              "      fill: #FFFFFF;\n",
              "    }\n",
              "  </style>\n",
              "\n",
              "      <script>\n",
              "        const buttonEl =\n",
              "          document.querySelector('#df-b458c75e-68fe-4e60-ac3f-355d9a8023e8 button.colab-df-convert');\n",
              "        buttonEl.style.display =\n",
              "          google.colab.kernel.accessAllowed ? 'block' : 'none';\n",
              "\n",
              "        async function convertToInteractive(key) {\n",
              "          const element = document.querySelector('#df-b458c75e-68fe-4e60-ac3f-355d9a8023e8');\n",
              "          const dataTable =\n",
              "            await google.colab.kernel.invokeFunction('convertToInteractive',\n",
              "                                                     [key], {});\n",
              "          if (!dataTable) return;\n",
              "\n",
              "          const docLinkHtml = 'Like what you see? Visit the ' +\n",
              "            '<a target=\"_blank\" href=https://colab.research.google.com/notebooks/data_table.ipynb>data table notebook</a>'\n",
              "            + ' to learn more about interactive tables.';\n",
              "          element.innerHTML = '';\n",
              "          dataTable['output_type'] = 'display_data';\n",
              "          await google.colab.output.renderOutput(dataTable, element);\n",
              "          const docLink = document.createElement('div');\n",
              "          docLink.innerHTML = docLinkHtml;\n",
              "          element.appendChild(docLink);\n",
              "        }\n",
              "      </script>\n",
              "    </div>\n",
              "  </div>\n",
              "  "
            ]
          },
          "metadata": {},
          "execution_count": 23
        }
      ]
    },
    {
      "cell_type": "code",
      "source": [
        "#Ploting the plot of correlation on bill amount\n",
        "sns.heatmap(df_bill.corr(), annot=True)"
      ],
      "metadata": {
        "colab": {
          "base_uri": "https://localhost:8080/",
          "height": 331
        },
        "id": "xHyD--yWokga",
        "outputId": "8c4d6b31-d341-492d-b9a5-f982dc9bd504"
      },
      "execution_count": null,
      "outputs": [
        {
          "output_type": "execute_result",
          "data": {
            "text/plain": [
              "<matplotlib.axes._subplots.AxesSubplot at 0x7f6056a3f590>"
            ]
          },
          "metadata": {},
          "execution_count": 24
        },
        {
          "output_type": "display_data",
          "data": {
            "text/plain": [
              "<Figure size 432x288 with 2 Axes>"
            ],
            "image/png": "[encoded data removed]"
          },
          "metadata": {
            "needs_background": "light"
          }
        }
      ]
    },
    {
      "cell_type": "markdown",
      "source": [
        "##**Payment Amount**"
      ],
      "metadata": {
        "id": "Q4-G15PQbshe"
      }
    },
    {
      "cell_type": "code",
      "source": [
        "#Creating the dataframe for Payment amount\n",
        "df_amt = df_news[['PAY_AMT1',\n",
        "       'PAY_AMT2', 'PAY_AMT3', 'PAY_AMT4', 'PAY_AMT5', 'PAY_AMT6']]\n",
        "df_amt.head()"
      ],
      "metadata": {
        "colab": {
          "base_uri": "https://localhost:8080/",
          "height": 206
        },
        "id": "ZffahuOoW1dp",
        "outputId": "b6fefbe2-06ee-4c6e-e338-30a18c0848b4"
      },
      "execution_count": null,
      "outputs": [
        {
          "output_type": "execute_result",
          "data": {
            "text/plain": [
              "   PAY_AMT1  PAY_AMT2  PAY_AMT3  PAY_AMT4  PAY_AMT5  PAY_AMT6\n",
              "1         0       689         0         0         0         0\n",
              "2         0      1000      1000      1000         0      2000\n",
              "3      1518      1500      1000      1000      1000      5000\n",
              "4      2000      2019      1200      1100      1069      1000\n",
              "5      2000     36681     10000      9000       689       679"
            ],
            "text/html": [
              "\n",
              "  <div id=\"df-2d32be23-a90a-4c9c-a551-14e1eef8c657\">\n",
              "    <div class=\"colab-df-container\">\n",
              "      <div>\n",
              "<style scoped>\n",
              "    .dataframe tbody tr th:only-of-type {\n",
              "        vertical-align: middle;\n",
              "    }\n",
              "\n",
              "    .dataframe tbody tr th {\n",
              "        vertical-align: top;\n",
              "    }\n",
              "\n",
              "    .dataframe thead th {\n",
              "        text-align: right;\n",
              "    }\n",
              "</style>\n",
              "<table border=\"1\" class=\"dataframe\">\n",
              "  <thead>\n",
              "    <tr style=\"text-align: right;\">\n",
              "      <th></th>\n",
              "      <th>PAY_AMT1</th>\n",
              "      <th>PAY_AMT2</th>\n",
              "      <th>PAY_AMT3</th>\n",
              "      <th>PAY_AMT4</th>\n",
              "      <th>PAY_AMT5</th>\n",
              "      <th>PAY_AMT6</th>\n",
              "    </tr>\n",
              "  </thead>\n",
              "  <tbody>\n",
              "    <tr>\n",
              "      <th>1</th>\n",
              "      <td>0</td>\n",
              "      <td>689</td>\n",
              "      <td>0</td>\n",
              "      <td>0</td>\n",
              "      <td>0</td>\n",
              "      <td>0</td>\n",
              "    </tr>\n",
              "    <tr>\n",
              "      <th>2</th>\n",
              "      <td>0</td>\n",
              "      <td>1000</td>\n",
              "      <td>1000</td>\n",
              "      <td>1000</td>\n",
              "      <td>0</td>\n",
              "      <td>2000</td>\n",
              "    </tr>\n",
              "    <tr>\n",
              "      <th>3</th>\n",
              "      <td>1518</td>\n",
              "      <td>1500</td>\n",
              "      <td>1000</td>\n",
              "      <td>1000</td>\n",
              "      <td>1000</td>\n",
              "      <td>5000</td>\n",
              "    </tr>\n",
              "    <tr>\n",
              "      <th>4</th>\n",
              "      <td>2000</td>\n",
              "      <td>2019</td>\n",
              "      <td>1200</td>\n",
              "      <td>1100</td>\n",
              "      <td>1069</td>\n",
              "      <td>1000</td>\n",
              "    </tr>\n",
              "    <tr>\n",
              "      <th>5</th>\n",
              "      <td>2000</td>\n",
              "      <td>36681</td>\n",
              "      <td>10000</td>\n",
              "      <td>9000</td>\n",
              "      <td>689</td>\n",
              "      <td>679</td>\n",
              "    </tr>\n",
              "  </tbody>\n",
              "</table>\n",
              "</div>\n",
              "      <button class=\"colab-df-convert\" onclick=\"convertToInteractive('df-2d32be23-a90a-4c9c-a551-14e1eef8c657')\"\n",
              "              title=\"Convert this dataframe to an interactive table.\"\n",
              "              style=\"display:none;\">\n",
              "        \n",
              "  <svg xmlns=\"http://www.w3.org/2000/svg\" height=\"24px\"viewBox=\"0 0 24 24\"\n",
              "       width=\"24px\">\n",
              "    <path d=\"M0 0h24v24H0V0z\" fill=\"none\"/>\n",
              "    <path d=\"M18.56 5.44l.94 2.06.94-2.06 2.06-.94-2.06-.94-.94-2.06-.94 2.06-2.06.94zm-11 1L8.5 8.5l.94-2.06 2.06-.94-2.06-.94L8.5 2.5l-.94 2.06-2.06.94zm10 10l.94 2.06.94-2.06 2.06-.94-2.06-.94-.94-2.06-.94 2.06-2.06.94z\"/><path d=\"M17.41 7.96l-1.37-1.37c-.4-.4-.92-.59-1.43-.59-.52 0-1.04.2-1.43.59L10.3 9.45l-7.72 7.72c-.78.78-.78 2.05 0 2.83L4 21.41c.39.39.9.59 1.41.59.51 0 1.02-.2 1.41-.59l7.78-7.78 2.81-2.81c.8-.78.8-2.07 0-2.86zM5.41 20L4 18.59l7.72-7.72 1.47 1.35L5.41 20z\"/>\n",
              "  </svg>\n",
              "      </button>\n",
              "      \n",
              "  <style>\n",
              "    .colab-df-container {\n",
              "      display:flex;\n",
              "      flex-wrap:wrap;\n",
              "      gap: 12px;\n",
              "    }\n",
              "\n",
              "    .colab-df-convert {\n",
              "      background-color: #E8F0FE;\n",
              "      border: none;\n",
              "      border-radius: 50%;\n",
              "      cursor: pointer;\n",
              "      display: none;\n",
              "      fill: #1967D2;\n",
              "      height: 32px;\n",
              "      padding: 0 0 0 0;\n",
              "      width: 32px;\n",
              "    }\n",
              "\n",
              "    .colab-df-convert:hover {\n",
              "      background-color: #E2EBFA;\n",
              "      box-shadow: 0px 1px 2px rgba(60, 64, 67, 0.3), 0px 1px 3px 1px rgba(60, 64, 67, 0.15);\n",
              "      fill: #174EA6;\n",
              "    }\n",
              "\n",
              "    [theme=dark] .colab-df-convert {\n",
              "      background-color: #3B4455;\n",
              "      fill: #D2E3FC;\n",
              "    }\n",
              "\n",
              "    [theme=dark] .colab-df-convert:hover {\n",
              "      background-color: #434B5C;\n",
              "      box-shadow: 0px 1px 3px 1px rgba(0, 0, 0, 0.15);\n",
              "      filter: drop-shadow(0px 1px 2px rgba(0, 0, 0, 0.3));\n",
              "      fill: #FFFFFF;\n",
              "    }\n",
              "  </style>\n",
              "\n",
              "      <script>\n",
              "        const buttonEl =\n",
              "          document.querySelector('#df-2d32be23-a90a-4c9c-a551-14e1eef8c657 button.colab-df-convert');\n",
              "        buttonEl.style.display =\n",
              "          google.colab.kernel.accessAllowed ? 'block' : 'none';\n",
              "\n",
              "        async function convertToInteractive(key) {\n",
              "          const element = document.querySelector('#df-2d32be23-a90a-4c9c-a551-14e1eef8c657');\n",
              "          const dataTable =\n",
              "            await google.colab.kernel.invokeFunction('convertToInteractive',\n",
              "                                                     [key], {});\n",
              "          if (!dataTable) return;\n",
              "\n",
              "          const docLinkHtml = 'Like what you see? Visit the ' +\n",
              "            '<a target=\"_blank\" href=https://colab.research.google.com/notebooks/data_table.ipynb>data table notebook</a>'\n",
              "            + ' to learn more about interactive tables.';\n",
              "          element.innerHTML = '';\n",
              "          dataTable['output_type'] = 'display_data';\n",
              "          await google.colab.output.renderOutput(dataTable, element);\n",
              "          const docLink = document.createElement('div');\n",
              "          docLink.innerHTML = docLinkHtml;\n",
              "          element.appendChild(docLink);\n",
              "        }\n",
              "      </script>\n",
              "    </div>\n",
              "  </div>\n",
              "  "
            ]
          },
          "metadata": {},
          "execution_count": 25
        }
      ]
    },
    {
      "cell_type": "code",
      "source": [
        "#Descriptive analysis of payment amount\n",
        "df_amt.describe()"
      ],
      "metadata": {
        "colab": {
          "base_uri": "https://localhost:8080/",
          "height": 300
        },
        "id": "bRZED3NzXMbw",
        "outputId": "14c0535f-f7b7-4897-d592-18f120c776d0"
      },
      "execution_count": null,
      "outputs": [
        {
          "output_type": "execute_result",
          "data": {
            "text/plain": [
              "            PAY_AMT1      PAY_AMT2      PAY_AMT3       PAY_AMT4  \\\n",
              "count   30000.000000  3.000000e+04   30000.00000   30000.000000   \n",
              "mean     5663.580500  5.921163e+03    5225.68150    4826.076867   \n",
              "std     16563.280354  2.304087e+04   17606.96147   15666.159744   \n",
              "min         0.000000  0.000000e+00       0.00000       0.000000   \n",
              "25%      1000.000000  8.330000e+02     390.00000     296.000000   \n",
              "50%      2100.000000  2.009000e+03    1800.00000    1500.000000   \n",
              "75%      5006.000000  5.000000e+03    4505.00000    4013.250000   \n",
              "max    873552.000000  1.684259e+06  896040.00000  621000.000000   \n",
              "\n",
              "            PAY_AMT5       PAY_AMT6  \n",
              "count   30000.000000   30000.000000  \n",
              "mean     4799.387633    5215.502567  \n",
              "std     15278.305679   17777.465775  \n",
              "min         0.000000       0.000000  \n",
              "25%       252.500000     117.750000  \n",
              "50%      1500.000000    1500.000000  \n",
              "75%      4031.500000    4000.000000  \n",
              "max    426529.000000  528666.000000  "
            ],
            "text/html": [
              "\n",
              "  <div id=\"df-9d45d5c2-7f32-4816-ae15-d79d0d782b3b\">\n",
              "    <div class=\"colab-df-container\">\n",
              "      <div>\n",
              "<style scoped>\n",
              "    .dataframe tbody tr th:only-of-type {\n",
              "        vertical-align: middle;\n",
              "    }\n",
              "\n",
              "    .dataframe tbody tr th {\n",
              "        vertical-align: top;\n",
              "    }\n",
              "\n",
              "    .dataframe thead th {\n",
              "        text-align: right;\n",
              "    }\n",
              "</style>\n",
              "<table border=\"1\" class=\"dataframe\">\n",
              "  <thead>\n",
              "    <tr style=\"text-align: right;\">\n",
              "      <th></th>\n",
              "      <th>PAY_AMT1</th>\n",
              "      <th>PAY_AMT2</th>\n",
              "      <th>PAY_AMT3</th>\n",
              "      <th>PAY_AMT4</th>\n",
              "      <th>PAY_AMT5</th>\n",
              "      <th>PAY_AMT6</th>\n",
              "    </tr>\n",
              "  </thead>\n",
              "  <tbody>\n",
              "    <tr>\n",
              "      <th>count</th>\n",
              "      <td>30000.000000</td>\n",
              "      <td>3.000000e+04</td>\n",
              "      <td>30000.00000</td>\n",
              "      <td>30000.000000</td>\n",
              "      <td>30000.000000</td>\n",
              "      <td>30000.000000</td>\n",
              "    </tr>\n",
              "    <tr>\n",
              "      <th>mean</th>\n",
              "      <td>5663.580500</td>\n",
              "      <td>5.921163e+03</td>\n",
              "      <td>5225.68150</td>\n",
              "      <td>4826.076867</td>\n",
              "      <td>4799.387633</td>\n",
              "      <td>5215.502567</td>\n",
              "    </tr>\n",
              "    <tr>\n",
              "      <th>std</th>\n",
              "      <td>16563.280354</td>\n",
              "      <td>2.304087e+04</td>\n",
              "      <td>17606.96147</td>\n",
              "      <td>15666.159744</td>\n",
              "      <td>15278.305679</td>\n",
              "      <td>17777.465775</td>\n",
              "    </tr>\n",
              "    <tr>\n",
              "      <th>min</th>\n",
              "      <td>0.000000</td>\n",
              "      <td>0.000000e+00</td>\n",
              "      <td>0.00000</td>\n",
              "      <td>0.000000</td>\n",
              "      <td>0.000000</td>\n",
              "      <td>0.000000</td>\n",
              "    </tr>\n",
              "    <tr>\n",
              "      <th>25%</th>\n",
              "      <td>1000.000000</td>\n",
              "      <td>8.330000e+02</td>\n",
              "      <td>390.00000</td>\n",
              "      <td>296.000000</td>\n",
              "      <td>252.500000</td>\n",
              "      <td>117.750000</td>\n",
              "    </tr>\n",
              "    <tr>\n",
              "      <th>50%</th>\n",
              "      <td>2100.000000</td>\n",
              "      <td>2.009000e+03</td>\n",
              "      <td>1800.00000</td>\n",
              "      <td>1500.000000</td>\n",
              "      <td>1500.000000</td>\n",
              "      <td>1500.000000</td>\n",
              "    </tr>\n",
              "    <tr>\n",
              "      <th>75%</th>\n",
              "      <td>5006.000000</td>\n",
              "      <td>5.000000e+03</td>\n",
              "      <td>4505.00000</td>\n",
              "      <td>4013.250000</td>\n",
              "      <td>4031.500000</td>\n",
              "      <td>4000.000000</td>\n",
              "    </tr>\n",
              "    <tr>\n",
              "      <th>max</th>\n",
              "      <td>873552.000000</td>\n",
              "      <td>1.684259e+06</td>\n",
              "      <td>896040.00000</td>\n",
              "      <td>621000.000000</td>\n",
              "      <td>426529.000000</td>\n",
              "      <td>528666.000000</td>\n",
              "    </tr>\n",
              "  </tbody>\n",
              "</table>\n",
              "</div>\n",
              "      <button class=\"colab-df-convert\" onclick=\"convertToInteractive('df-9d45d5c2-7f32-4816-ae15-d79d0d782b3b')\"\n",
              "              title=\"Convert this dataframe to an interactive table.\"\n",
              "              style=\"display:none;\">\n",
              "        \n",
              "  <svg xmlns=\"http://www.w3.org/2000/svg\" height=\"24px\"viewBox=\"0 0 24 24\"\n",
              "       width=\"24px\">\n",
              "    <path d=\"M0 0h24v24H0V0z\" fill=\"none\"/>\n",
              "    <path d=\"M18.56 5.44l.94 2.06.94-2.06 2.06-.94-2.06-.94-.94-2.06-.94 2.06-2.06.94zm-11 1L8.5 8.5l.94-2.06 2.06-.94-2.06-.94L8.5 2.5l-.94 2.06-2.06.94zm10 10l.94 2.06.94-2.06 2.06-.94-2.06-.94-.94-2.06-.94 2.06-2.06.94z\"/><path d=\"M17.41 7.96l-1.37-1.37c-.4-.4-.92-.59-1.43-.59-.52 0-1.04.2-1.43.59L10.3 9.45l-7.72 7.72c-.78.78-.78 2.05 0 2.83L4 21.41c.39.39.9.59 1.41.59.51 0 1.02-.2 1.41-.59l7.78-7.78 2.81-2.81c.8-.78.8-2.07 0-2.86zM5.41 20L4 18.59l7.72-7.72 1.47 1.35L5.41 20z\"/>\n",
              "  </svg>\n",
              "      </button>\n",
              "      \n",
              "  <style>\n",
              "    .colab-df-container {\n",
              "      display:flex;\n",
              "      flex-wrap:wrap;\n",
              "      gap: 12px;\n",
              "    }\n",
              "\n",
              "    .colab-df-convert {\n",
              "      background-color: #E8F0FE;\n",
              "      border: none;\n",
              "      border-radius: 50%;\n",
              "      cursor: pointer;\n",
              "      display: none;\n",
              "      fill: #1967D2;\n",
              "      height: 32px;\n",
              "      padding: 0 0 0 0;\n",
              "      width: 32px;\n",
              "    }\n",
              "\n",
              "    .colab-df-convert:hover {\n",
              "      background-color: #E2EBFA;\n",
              "      box-shadow: 0px 1px 2px rgba(60, 64, 67, 0.3), 0px 1px 3px 1px rgba(60, 64, 67, 0.15);\n",
              "      fill: #174EA6;\n",
              "    }\n",
              "\n",
              "    [theme=dark] .colab-df-convert {\n",
              "      background-color: #3B4455;\n",
              "      fill: #D2E3FC;\n",
              "    }\n",
              "\n",
              "    [theme=dark] .colab-df-convert:hover {\n",
              "      background-color: #434B5C;\n",
              "      box-shadow: 0px 1px 3px 1px rgba(0, 0, 0, 0.15);\n",
              "      filter: drop-shadow(0px 1px 2px rgba(0, 0, 0, 0.3));\n",
              "      fill: #FFFFFF;\n",
              "    }\n",
              "  </style>\n",
              "\n",
              "      <script>\n",
              "        const buttonEl =\n",
              "          document.querySelector('#df-9d45d5c2-7f32-4816-ae15-d79d0d782b3b button.colab-df-convert');\n",
              "        buttonEl.style.display =\n",
              "          google.colab.kernel.accessAllowed ? 'block' : 'none';\n",
              "\n",
              "        async function convertToInteractive(key) {\n",
              "          const element = document.querySelector('#df-9d45d5c2-7f32-4816-ae15-d79d0d782b3b');\n",
              "          const dataTable =\n",
              "            await google.colab.kernel.invokeFunction('convertToInteractive',\n",
              "                                                     [key], {});\n",
              "          if (!dataTable) return;\n",
              "\n",
              "          const docLinkHtml = 'Like what you see? Visit the ' +\n",
              "            '<a target=\"_blank\" href=https://colab.research.google.com/notebooks/data_table.ipynb>data table notebook</a>'\n",
              "            + ' to learn more about interactive tables.';\n",
              "          element.innerHTML = '';\n",
              "          dataTable['output_type'] = 'display_data';\n",
              "          await google.colab.output.renderOutput(dataTable, element);\n",
              "          const docLink = document.createElement('div');\n",
              "          docLink.innerHTML = docLinkHtml;\n",
              "          element.appendChild(docLink);\n",
              "        }\n",
              "      </script>\n",
              "    </div>\n",
              "  </div>\n",
              "  "
            ]
          },
          "metadata": {},
          "execution_count": 26
        }
      ]
    },
    {
      "cell_type": "code",
      "source": [
        "#Plotting correlation relationship on Payment Amount\n",
        "sns.heatmap(df_amt.corr(),cmap='YlGnBu', annot=True)"
      ],
      "metadata": {
        "colab": {
          "base_uri": "https://localhost:8080/",
          "height": 328
        },
        "id": "Uis-NkOs2VX0",
        "outputId": "521f21f6-c4f7-4b10-fe8d-bf430b7d9510"
      },
      "execution_count": null,
      "outputs": [
        {
          "output_type": "execute_result",
          "data": {
            "text/plain": [
              "<matplotlib.axes._subplots.AxesSubplot at 0x7f605695b090>"
            ]
          },
          "metadata": {},
          "execution_count": 27
        },
        {
          "output_type": "display_data",
          "data": {
            "text/plain": [
              "<Figure size 432x288 with 2 Axes>"
            ],
            "image/png": "[encoded data removed]"
          },
          "metadata": {
            "needs_background": "light"
          }
        }
      ]
    },
    {
      "cell_type": "markdown",
      "source": [
        "##**Age Distribution**"
      ],
      "metadata": {
        "id": "sOSdeZW02KSi"
      }
    },
    {
      "cell_type": "code",
      "source": [
        "#Ploting age foriable to get better understanding\n",
        "sns.distplot(df_news.AGE)"
      ],
      "metadata": {
        "colab": {
          "base_uri": "https://localhost:8080/",
          "height": 297
        },
        "id": "uiVPqRYcbYJy",
        "outputId": "75ffbded-959a-465e-e312-193db03790f3"
      },
      "execution_count": null,
      "outputs": [
        {
          "output_type": "execute_result",
          "data": {
            "text/plain": [
              "<matplotlib.axes._subplots.AxesSubplot at 0x7f6056846b90>"
            ]
          },
          "metadata": {},
          "execution_count": 28
        },
        {
          "output_type": "display_data",
          "data": {
            "text/plain": [
              "<Figure size 432x288 with 1 Axes>"
            ],
            "image/png": "[encoded data removed]"
          },
          "metadata": {
            "needs_background": "light"
          }
        }
      ]
    },
    {
      "cell_type": "code",
      "source": [
        "#Finding the correlation among features\n",
        "plt.subplots(figsize=(24,24))\n",
        "plt.title(\"Correlation of Features\")\n",
        "sns.heatmap(df_news.corr(),cmap='YlGnBu', annot=True)"
      ],
      "metadata": {
        "colab": {
          "base_uri": "https://localhost:8080/",
          "height": 1000
        },
        "id": "RNOv8-r6X6r3",
        "outputId": "c7213fe5-97f6-4504-b82a-65fc5f3d5559"
      },
      "execution_count": null,
      "outputs": [
        {
          "output_type": "execute_result",
          "data": {
            "text/plain": [
              "<matplotlib.axes._subplots.AxesSubplot at 0x7f605673e210>"
            ]
          },
          "metadata": {},
          "execution_count": 29
        },
        {
          "output_type": "display_data",
          "data": {
            "text/plain": [
              "<Figure size 1728x1728 with 2 Axes>"
            ],
            "image/png": "[encoded data removed]"
          },
          "metadata": {
            "needs_background": "light"
          }
        }
      ]
    },
    {
      "cell_type": "markdown",
      "source": [
        "#**Model Traning**"
      ],
      "metadata": {
        "id": "fVS0nPikeKF2"
      }
    },
    {
      "cell_type": "markdown",
      "source": [
        "##**Handling Imbalance**"
      ],
      "metadata": {
        "id": "xfj6Gx-dhj0A"
      }
    },
    {
      "cell_type": "code",
      "source": [
        "#Counting the target distribution\n",
        "df_news['default payment next month'].value_counts()"
      ],
      "metadata": {
        "colab": {
          "base_uri": "https://localhost:8080/"
        },
        "id": "NVEUbWgZh0mg",
        "outputId": "7fff97f1-d25f-4eff-df40-4054fbf1571c"
      },
      "execution_count": null,
      "outputs": [
        {
          "output_type": "execute_result",
          "data": {
            "text/plain": [
              "0    23364\n",
              "1     6636\n",
              "Name: default payment next month, dtype: int64"
            ]
          },
          "metadata": {},
          "execution_count": 30
        }
      ]
    },
    {
      "cell_type": "code",
      "source": [
        "#Handling imbalance dataset\n",
        "from imblearn.over_sampling import SMOTE\n",
        "\n",
        "smote = SMOTE()\n",
        "\n",
        "#Defining x and y variable\n",
        "x = df_news.drop('default payment next month', axis=1)\n",
        "y = df_news['default payment next month']\n",
        "\n",
        "#Fit predictor and target\n",
        "x_sm, y_sm = smote.fit_resample(x,y)\n",
        "\n",
        "print('Original data shape: ',len(y))\n",
        "print('Resample data shape: ',len(y_sm))"
      ],
      "metadata": {
        "colab": {
          "base_uri": "https://localhost:8080/"
        },
        "id": "L5CoueEalda3",
        "outputId": "9c2c31a8-99fe-4f1e-da63-ac364c5f86d5"
      },
      "execution_count": null,
      "outputs": [
        {
          "output_type": "stream",
          "name": "stdout",
          "text": [
            "Original data shape:  30000\n",
            "Resample data shape:  46728\n"
          ]
        }
      ]
    },
    {
      "cell_type": "markdown",
      "source": [
        "##**Scaling with Standard Scalar**"
      ],
      "metadata": {
        "id": "lNBh4ExTj4k0"
      }
    },
    {
      "cell_type": "code",
      "source": [
        "#Scaling the features data\n",
        "from sklearn.preprocessing import StandardScaler\n",
        "sc = StandardScaler()\n",
        "sc.fit_transform(x_sm)\n",
        "x_sm.head()"
      ],
      "metadata": {
        "colab": {
          "base_uri": "https://localhost:8080/",
          "height": 299
        },
        "id": "skGRhn9De_Ho",
        "outputId": "82096622-1f76-4f01-e396-d490a3afa149"
      },
      "execution_count": null,
      "outputs": [
        {
          "output_type": "execute_result",
          "data": {
            "text/plain": [
              "   LIMIT_BAL  SEX  EDUCATION  MARRIAGE  AGE  PAY_0  PAY_2  PAY_3  PAY_4  \\\n",
              "0      20000    2          2         1   24      2      2     -1     -1   \n",
              "1     120000    2          2         2   26     -1      2      0      0   \n",
              "2      90000    2          2         2   34      0      0      0      0   \n",
              "3      50000    2          2         1   37      0      0      0      0   \n",
              "4      50000    1          2         1   57     -1      0     -1      0   \n",
              "\n",
              "   PAY_5  ...  BILL_AMT3  BILL_AMT4  BILL_AMT5  BILL_AMT6  PAY_AMT1  PAY_AMT2  \\\n",
              "0     -2  ...        689          0          0          0         0       689   \n",
              "1      0  ...       2682       3272       3455       3261         0      1000   \n",
              "2      0  ...      13559      14331      14948      15549      1518      1500   \n",
              "3      0  ...      49291      28314      28959      29547      2000      2019   \n",
              "4      0  ...      35835      20940      19146      19131      2000     36681   \n",
              "\n",
              "   PAY_AMT3  PAY_AMT4  PAY_AMT5  PAY_AMT6  \n",
              "0         0         0         0         0  \n",
              "1      1000      1000         0      2000  \n",
              "2      1000      1000      1000      5000  \n",
              "3      1200      1100      1069      1000  \n",
              "4     10000      9000       689       679  \n",
              "\n",
              "[5 rows x 23 columns]"
            ],
            "text/html": [
              "\n",
              "  <div id=\"df-4b05dea7-fa31-40f6-8f55-973e5f06c060\">\n",
              "    <div class=\"colab-df-container\">\n",
              "      <div>\n",
              "<style scoped>\n",
              "    .dataframe tbody tr th:only-of-type {\n",
              "        vertical-align: middle;\n",
              "    }\n",
              "\n",
              "    .dataframe tbody tr th {\n",
              "        vertical-align: top;\n",
              "    }\n",
              "\n",
              "    .dataframe thead th {\n",
              "        text-align: right;\n",
              "    }\n",
              "</style>\n",
              "<table border=\"1\" class=\"dataframe\">\n",
              "  <thead>\n",
              "    <tr style=\"text-align: right;\">\n",
              "      <th></th>\n",
              "      <th>LIMIT_BAL</th>\n",
              "      <th>SEX</th>\n",
              "      <th>EDUCATION</th>\n",
              "      <th>MARRIAGE</th>\n",
              "      <th>AGE</th>\n",
              "      <th>PAY_0</th>\n",
              "      <th>PAY_2</th>\n",
              "      <th>PAY_3</th>\n",
              "      <th>PAY_4</th>\n",
              "      <th>PAY_5</th>\n",
              "      <th>...</th>\n",
              "      <th>BILL_AMT3</th>\n",
              "      <th>BILL_AMT4</th>\n",
              "      <th>BILL_AMT5</th>\n",
              "      <th>BILL_AMT6</th>\n",
              "      <th>PAY_AMT1</th>\n",
              "      <th>PAY_AMT2</th>\n",
              "      <th>PAY_AMT3</th>\n",
              "      <th>PAY_AMT4</th>\n",
              "      <th>PAY_AMT5</th>\n",
              "      <th>PAY_AMT6</th>\n",
              "    </tr>\n",
              "  </thead>\n",
              "  <tbody>\n",
              "    <tr>\n",
              "      <th>0</th>\n",
              "      <td>20000</td>\n",
              "      <td>2</td>\n",
              "      <td>2</td>\n",
              "      <td>1</td>\n",
              "      <td>24</td>\n",
              "      <td>2</td>\n",
              "      <td>2</td>\n",
              "      <td>-1</td>\n",
              "      <td>-1</td>\n",
              "      <td>-2</td>\n",
              "      <td>...</td>\n",
              "      <td>689</td>\n",
              "      <td>0</td>\n",
              "      <td>0</td>\n",
              "      <td>0</td>\n",
              "      <td>0</td>\n",
              "      <td>689</td>\n",
              "      <td>0</td>\n",
              "      <td>0</td>\n",
              "      <td>0</td>\n",
              "      <td>0</td>\n",
              "    </tr>\n",
              "    <tr>\n",
              "      <th>1</th>\n",
              "      <td>120000</td>\n",
              "      <td>2</td>\n",
              "      <td>2</td>\n",
              "      <td>2</td>\n",
              "      <td>26</td>\n",
              "      <td>-1</td>\n",
              "      <td>2</td>\n",
              "      <td>0</td>\n",
              "      <td>0</td>\n",
              "      <td>0</td>\n",
              "      <td>...</td>\n",
              "      <td>2682</td>\n",
              "      <td>3272</td>\n",
              "      <td>3455</td>\n",
              "      <td>3261</td>\n",
              "      <td>0</td>\n",
              "      <td>1000</td>\n",
              "      <td>1000</td>\n",
              "      <td>1000</td>\n",
              "      <td>0</td>\n",
              "      <td>2000</td>\n",
              "    </tr>\n",
              "    <tr>\n",
              "      <th>2</th>\n",
              "      <td>90000</td>\n",
              "      <td>2</td>\n",
              "      <td>2</td>\n",
              "      <td>2</td>\n",
              "      <td>34</td>\n",
              "      <td>0</td>\n",
              "      <td>0</td>\n",
              "      <td>0</td>\n",
              "      <td>0</td>\n",
              "      <td>0</td>\n",
              "      <td>...</td>\n",
              "      <td>13559</td>\n",
              "      <td>14331</td>\n",
              "      <td>14948</td>\n",
              "      <td>15549</td>\n",
              "      <td>1518</td>\n",
              "      <td>1500</td>\n",
              "      <td>1000</td>\n",
              "      <td>1000</td>\n",
              "      <td>1000</td>\n",
              "      <td>5000</td>\n",
              "    </tr>\n",
              "    <tr>\n",
              "      <th>3</th>\n",
              "      <td>50000</td>\n",
              "      <td>2</td>\n",
              "      <td>2</td>\n",
              "      <td>1</td>\n",
              "      <td>37</td>\n",
              "      <td>0</td>\n",
              "      <td>0</td>\n",
              "      <td>0</td>\n",
              "      <td>0</td>\n",
              "      <td>0</td>\n",
              "      <td>...</td>\n",
              "      <td>49291</td>\n",
              "      <td>28314</td>\n",
              "      <td>28959</td>\n",
              "      <td>29547</td>\n",
              "      <td>2000</td>\n",
              "      <td>2019</td>\n",
              "      <td>1200</td>\n",
              "      <td>1100</td>\n",
              "      <td>1069</td>\n",
              "      <td>1000</td>\n",
              "    </tr>\n",
              "    <tr>\n",
              "      <th>4</th>\n",
              "      <td>50000</td>\n",
              "      <td>1</td>\n",
              "      <td>2</td>\n",
              "      <td>1</td>\n",
              "      <td>57</td>\n",
              "      <td>-1</td>\n",
              "      <td>0</td>\n",
              "      <td>-1</td>\n",
              "      <td>0</td>\n",
              "      <td>0</td>\n",
              "      <td>...</td>\n",
              "      <td>35835</td>\n",
              "      <td>20940</td>\n",
              "      <td>19146</td>\n",
              "      <td>19131</td>\n",
              "      <td>2000</td>\n",
              "      <td>36681</td>\n",
              "      <td>10000</td>\n",
              "      <td>9000</td>\n",
              "      <td>689</td>\n",
              "      <td>679</td>\n",
              "    </tr>\n",
              "  </tbody>\n",
              "</table>\n",
              "<p>5 rows × 23 columns</p>\n",
              "</div>\n",
              "      <button class=\"colab-df-convert\" onclick=\"convertToInteractive('df-4b05dea7-fa31-40f6-8f55-973e5f06c060')\"\n",
              "              title=\"Convert this dataframe to an interactive table.\"\n",
              "              style=\"display:none;\">\n",
              "        \n",
              "  <svg xmlns=\"http://www.w3.org/2000/svg\" height=\"24px\"viewBox=\"0 0 24 24\"\n",
              "       width=\"24px\">\n",
              "    <path d=\"M0 0h24v24H0V0z\" fill=\"none\"/>\n",
              "    <path d=\"M18.56 5.44l.94 2.06.94-2.06 2.06-.94-2.06-.94-.94-2.06-.94 2.06-2.06.94zm-11 1L8.5 8.5l.94-2.06 2.06-.94-2.06-.94L8.5 2.5l-.94 2.06-2.06.94zm10 10l.94 2.06.94-2.06 2.06-.94-2.06-.94-.94-2.06-.94 2.06-2.06.94z\"/><path d=\"M17.41 7.96l-1.37-1.37c-.4-.4-.92-.59-1.43-.59-.52 0-1.04.2-1.43.59L10.3 9.45l-7.72 7.72c-.78.78-.78 2.05 0 2.83L4 21.41c.39.39.9.59 1.41.59.51 0 1.02-.2 1.41-.59l7.78-7.78 2.81-2.81c.8-.78.8-2.07 0-2.86zM5.41 20L4 18.59l7.72-7.72 1.47 1.35L5.41 20z\"/>\n",
              "  </svg>\n",
              "      </button>\n",
              "      \n",
              "  <style>\n",
              "    .colab-df-container {\n",
              "      display:flex;\n",
              "      flex-wrap:wrap;\n",
              "      gap: 12px;\n",
              "    }\n",
              "\n",
              "    .colab-df-convert {\n",
              "      background-color: #E8F0FE;\n",
              "      border: none;\n",
              "      border-radius: 50%;\n",
              "      cursor: pointer;\n",
              "      display: none;\n",
              "      fill: #1967D2;\n",
              "      height: 32px;\n",
              "      padding: 0 0 0 0;\n",
              "      width: 32px;\n",
              "    }\n",
              "\n",
              "    .colab-df-convert:hover {\n",
              "      background-color: #E2EBFA;\n",
              "      box-shadow: 0px 1px 2px rgba(60, 64, 67, 0.3), 0px 1px 3px 1px rgba(60, 64, 67, 0.15);\n",
              "      fill: #174EA6;\n",
              "    }\n",
              "\n",
              "    [theme=dark] .colab-df-convert {\n",
              "      background-color: #3B4455;\n",
              "      fill: #D2E3FC;\n",
              "    }\n",
              "\n",
              "    [theme=dark] .colab-df-convert:hover {\n",
              "      background-color: #434B5C;\n",
              "      box-shadow: 0px 1px 3px 1px rgba(0, 0, 0, 0.15);\n",
              "      filter: drop-shadow(0px 1px 2px rgba(0, 0, 0, 0.3));\n",
              "      fill: #FFFFFF;\n",
              "    }\n",
              "  </style>\n",
              "\n",
              "      <script>\n",
              "        const buttonEl =\n",
              "          document.querySelector('#df-4b05dea7-fa31-40f6-8f55-973e5f06c060 button.colab-df-convert');\n",
              "        buttonEl.style.display =\n",
              "          google.colab.kernel.accessAllowed ? 'block' : 'none';\n",
              "\n",
              "        async function convertToInteractive(key) {\n",
              "          const element = document.querySelector('#df-4b05dea7-fa31-40f6-8f55-973e5f06c060');\n",
              "          const dataTable =\n",
              "            await google.colab.kernel.invokeFunction('convertToInteractive',\n",
              "                                                     [key], {});\n",
              "          if (!dataTable) return;\n",
              "\n",
              "          const docLinkHtml = 'Like what you see? Visit the ' +\n",
              "            '<a target=\"_blank\" href=https://colab.research.google.com/notebooks/data_table.ipynb>data table notebook</a>'\n",
              "            + ' to learn more about interactive tables.';\n",
              "          element.innerHTML = '';\n",
              "          dataTable['output_type'] = 'display_data';\n",
              "          await google.colab.output.renderOutput(dataTable, element);\n",
              "          const docLink = document.createElement('div');\n",
              "          docLink.innerHTML = docLinkHtml;\n",
              "          element.appendChild(docLink);\n",
              "        }\n",
              "      </script>\n",
              "    </div>\n",
              "  </div>\n",
              "  "
            ]
          },
          "metadata": {},
          "execution_count": 32
        }
      ]
    },
    {
      "cell_type": "markdown",
      "source": [
        "##**Train Test Split**"
      ],
      "metadata": {
        "id": "NXl10otbqnlz"
      }
    },
    {
      "cell_type": "code",
      "source": [
        "#Spliting train test split\n",
        "from sklearn.model_selection import train_test_split\n",
        "xtrain, xtest, ytrain, ytest = train_test_split(x_sm, y_sm, random_state=42, test_size=0.3)"
      ],
      "metadata": {
        "id": "YcS-wk_omqMt"
      },
      "execution_count": null,
      "outputs": []
    },
    {
      "cell_type": "markdown",
      "source": [
        "##**Preprocessing for Traning Model**"
      ],
      "metadata": {
        "id": "qaD_BgyQHUkl"
      }
    },
    {
      "cell_type": "code",
      "source": [
        "#Importing required libraries for evaluation\n",
        "from sklearn.metrics import recall_score\n",
        "from sklearn.metrics import precision_score\n",
        "from sklearn.metrics import accuracy_score\n",
        "from sklearn.metrics import f1_score\n",
        "from sklearn.metrics import roc_auc_score\n",
        "from sklearn.metrics import classification_report\n",
        "from sklearn import metrics"
      ],
      "metadata": {
        "id": "IFKX53RM5ush"
      },
      "execution_count": null,
      "outputs": []
    },
    {
      "cell_type": "markdown",
      "source": [
        "##**Logistic Regression**"
      ],
      "metadata": {
        "id": "_54WXe0U3-pc"
      }
    },
    {
      "cell_type": "code",
      "source": [
        "#Implimenting the Logistic Regression\n",
        "from sklearn.linear_model import LogisticRegression\n",
        "lr = LogisticRegression()\n",
        "lr.fit(xtrain,ytrain)\n",
        "\n",
        "#Predicting with train model\n",
        "yp_lr_train =  lr.predict(xtrain)\n",
        "yp_lr_test = lr.predict(xtest)\n",
        "\n",
        "#Evaluating the model\n",
        "yp_lr_train_sc = classification_report(ytrain, yp_lr_train)\n",
        "yp_lr_test_sc = classification_report(ytest, yp_lr_test)\n",
        "\n",
        "#Printing the model eveluation metrics\n",
        "print(\"Train score: \\n\",yp_lr_train_sc)\n",
        "print('Test score : \\n',yp_lr_test_sc)"
      ],
      "metadata": {
        "id": "R9LUKZ0V4WxZ",
        "colab": {
          "base_uri": "https://localhost:8080/"
        },
        "outputId": "d9fbc35c-5a9a-48a0-f213-149149c598e6"
      },
      "execution_count": null,
      "outputs": [
        {
          "output_type": "stream",
          "name": "stdout",
          "text": [
            "Train score: \n",
            "               precision    recall  f1-score   support\n",
            "\n",
            "           0       0.61      0.67      0.64     16359\n",
            "           1       0.63      0.57      0.60     16350\n",
            "\n",
            "    accuracy                           0.62     32709\n",
            "   macro avg       0.62      0.62      0.62     32709\n",
            "weighted avg       0.62      0.62      0.62     32709\n",
            "\n",
            "Test score : \n",
            "               precision    recall  f1-score   support\n",
            "\n",
            "           0       0.60      0.65      0.63      7005\n",
            "           1       0.62      0.57      0.60      7014\n",
            "\n",
            "    accuracy                           0.61     14019\n",
            "   macro avg       0.61      0.61      0.61     14019\n",
            "weighted avg       0.61      0.61      0.61     14019\n",
            "\n"
          ]
        }
      ]
    },
    {
      "cell_type": "markdown",
      "source": [
        "##**Decision Tree**"
      ],
      "metadata": {
        "id": "rl9BiHmNxHGu"
      }
    },
    {
      "cell_type": "code",
      "source": [
        "#Implimenting the Decision Tree Classifier\n",
        "from sklearn.tree import DecisionTreeClassifier\n",
        "dt = DecisionTreeClassifier()\n",
        "dt.fit(xtrain,ytrain)\n",
        "\n",
        "#Predicting with trained model\n",
        "yp_dt_train = dt.predict(xtrain)\n",
        "yp_dt_test = dt.predict(xtest)\n",
        "\n",
        "#Evaluating the model\n",
        "yp_dt_train_sc = classification_report(ytrain,yp_dt_train)\n",
        "yp_dt_test_sc = classification_report(ytest, yp_lr_test)\n",
        "\n",
        "#Printing the model eveluation metrics\n",
        "print('Train Score : \\n',yp_dt_train_sc)\n",
        "print('Test Score  :\\n',yp_dt_test_sc)\n"
      ],
      "metadata": {
        "id": "zKu1mLLPNmIp",
        "colab": {
          "base_uri": "https://localhost:8080/"
        },
        "outputId": "4179cd04-22ab-4bd1-b620-a5ed359f819c"
      },
      "execution_count": null,
      "outputs": [
        {
          "output_type": "stream",
          "name": "stdout",
          "text": [
            "Train Score : \n",
            "               precision    recall  f1-score   support\n",
            "\n",
            "           0       1.00      1.00      1.00     16359\n",
            "           1       1.00      1.00      1.00     16350\n",
            "\n",
            "    accuracy                           1.00     32709\n",
            "   macro avg       1.00      1.00      1.00     32709\n",
            "weighted avg       1.00      1.00      1.00     32709\n",
            "\n",
            "Test Score  :\n",
            "               precision    recall  f1-score   support\n",
            "\n",
            "           0       0.60      0.65      0.63      7005\n",
            "           1       0.62      0.57      0.60      7014\n",
            "\n",
            "    accuracy                           0.61     14019\n",
            "   macro avg       0.61      0.61      0.61     14019\n",
            "weighted avg       0.61      0.61      0.61     14019\n",
            "\n"
          ]
        }
      ]
    },
    {
      "cell_type": "markdown",
      "source": [
        "##**Random Forest Classifier**"
      ],
      "metadata": {
        "id": "eYchyYPn07UZ"
      }
    },
    {
      "cell_type": "code",
      "source": [
        "#Implimenting the Decision Random Forest Classifier\n",
        "from sklearn.ensemble import RandomForestClassifier\n",
        "rf = RandomForestClassifier()\n",
        "rf.fit(xtrain,ytrain)\n",
        "\n",
        "#Predicting with trained model\n",
        "yp_rf_train = rf.predict(xtrain)\n",
        "yp_rf_test = rf.predict(xtest)\n",
        "\n",
        "#Evaluating the model\n",
        "yp_rf_train_sc = classification_report(ytrain,yp_rf_train)\n",
        "yp_rf_test_sc = classification_report(ytest,yp_rf_test)\n",
        "\n",
        "#Printing the model eveluation metrics\n",
        "print('Train Score: \\n',yp_rf_train_sc)\n",
        "print('Test Score : \\n',yp_dt_test_sc)"
      ],
      "metadata": {
        "colab": {
          "base_uri": "https://localhost:8080/"
        },
        "id": "yuqGLyEKqf5s",
        "outputId": "9c8bdfc7-25a2-4dae-bd99-2aff741fc91c"
      },
      "execution_count": null,
      "outputs": [
        {
          "output_type": "stream",
          "name": "stdout",
          "text": [
            "Train Score: \n",
            "               precision    recall  f1-score   support\n",
            "\n",
            "           0       1.00      1.00      1.00     16359\n",
            "           1       1.00      1.00      1.00     16350\n",
            "\n",
            "    accuracy                           1.00     32709\n",
            "   macro avg       1.00      1.00      1.00     32709\n",
            "weighted avg       1.00      1.00      1.00     32709\n",
            "\n",
            "Test Score : \n",
            "               precision    recall  f1-score   support\n",
            "\n",
            "           0       0.60      0.65      0.63      7005\n",
            "           1       0.62      0.57      0.60      7014\n",
            "\n",
            "    accuracy                           0.61     14019\n",
            "   macro avg       0.61      0.61      0.61     14019\n",
            "weighted avg       0.61      0.61      0.61     14019\n",
            "\n"
          ]
        }
      ]
    },
    {
      "cell_type": "markdown",
      "source": [
        "##**XGBoost Classifier**"
      ],
      "metadata": {
        "id": "G0pFyOih2lN1"
      }
    },
    {
      "cell_type": "code",
      "source": [
        "#Implimenting the XGBoost Classifier\n",
        "from xgboost import XGBClassifier\n",
        "xgb = XGBClassifier()\n",
        "xgb.fit(xtrain,ytrain)\n",
        "\n",
        "#Predicting with trained model\n",
        "yp_xgb_train = xgb.predict(xtrain)\n",
        "yp_xgb_test = xgb.predict(xtest)\n",
        "\n",
        "#Evaluating the model\n",
        "yp_xgb_train_sc = classification_report(yp_xgb_train, ytrain)\n",
        "yp_xgb_test_sc = classification_report(yp_xgb_test,ytest)\n",
        "\n",
        "#Printing the model eveluation metrics\n",
        "print('Train Score: \\n',yp_xgb_train_sc)\n",
        "print('Test Score : \\n',yp_xgb_test_sc)"
      ],
      "metadata": {
        "colab": {
          "base_uri": "https://localhost:8080/"
        },
        "id": "onWEOTXb2Y6T",
        "outputId": "eb7807ad-a0dd-4ebe-c2bd-521b66f033ae"
      },
      "execution_count": null,
      "outputs": [
        {
          "output_type": "stream",
          "name": "stdout",
          "text": [
            "Train Score: \n",
            "               precision    recall  f1-score   support\n",
            "\n",
            "           0       0.82      0.77      0.79     17334\n",
            "           1       0.76      0.81      0.78     15375\n",
            "\n",
            "    accuracy                           0.79     32709\n",
            "   macro avg       0.79      0.79      0.79     32709\n",
            "weighted avg       0.79      0.79      0.79     32709\n",
            "\n",
            "Test Score : \n",
            "               precision    recall  f1-score   support\n",
            "\n",
            "           0       0.81      0.76      0.79      7499\n",
            "           1       0.74      0.80      0.77      6520\n",
            "\n",
            "    accuracy                           0.78     14019\n",
            "   macro avg       0.78      0.78      0.78     14019\n",
            "weighted avg       0.78      0.78      0.78     14019\n",
            "\n"
          ]
        }
      ]
    },
    {
      "cell_type": "code",
      "source": [
        "#Implimenting the Support Vector Machine Classifier\n",
        "from sklearn.svm import SVC\n",
        "svm = SVC()\n",
        "svm.fit(xtrain,ytrain)\n",
        "\n",
        "#Predicting with trained model\n",
        "yp_svm_train = svm.predict(xtrain)\n",
        "yp_svm_test = svm.predict(xtest)\n",
        "\n",
        "#Evaluating the model\n",
        "yp_svm_train_sc = classification_report(yp_svm_train,ytrain)\n",
        "yp_svm_test_sc = classification_report(yp_svm_test, ytest)\n",
        "\n",
        "#Printing the model eveluation metrics\n",
        "print('Train Score: \\n',yp_svm_train_sc)\n",
        "print('Test Score : \\n',yp_svm_test_sc)"
      ],
      "metadata": {
        "colab": {
          "base_uri": "https://localhost:8080/"
        },
        "id": "BItrtV5r95GA",
        "outputId": "43c156ea-3556-4815-d8db-45a4dedf3b7d"
      },
      "execution_count": null,
      "outputs": [
        {
          "output_type": "stream",
          "name": "stdout",
          "text": [
            "Train Score: \n",
            "               precision    recall  f1-score   support\n",
            "\n",
            "           0       0.57      0.64      0.60     14366\n",
            "           1       0.69      0.61      0.65     18343\n",
            "\n",
            "    accuracy                           0.63     32709\n",
            "   macro avg       0.63      0.63      0.62     32709\n",
            "weighted avg       0.63      0.63      0.63     32709\n",
            "\n",
            "Test Score : \n",
            "               precision    recall  f1-score   support\n",
            "\n",
            "           0       0.55      0.63      0.59      6099\n",
            "           1       0.68      0.60      0.64      7920\n",
            "\n",
            "    accuracy                           0.61     14019\n",
            "   macro avg       0.61      0.62      0.61     14019\n",
            "weighted avg       0.62      0.61      0.62     14019\n",
            "\n"
          ]
        }
      ]
    },
    {
      "cell_type": "code",
      "source": [
        ""
      ],
      "metadata": {
        "id": "i6MWQbANMFWF"
      },
      "execution_count": null,
      "outputs": []
    },
    {
      "cell_type": "markdown",
      "source": [
        "#**Model HyperTuning**"
      ],
      "metadata": {
        "id": "7QYpp7UcYnt-"
      }
    },
    {
      "cell_type": "markdown",
      "source": [
        "##**Parameter Initialization**"
      ],
      "metadata": {
        "id": "WTZW5FCwkOs0"
      }
    },
    {
      "cell_type": "code",
      "source": [
        "#object initilization for hypertuning\n",
        "param_dict_lr = {\n",
        "    'C':[1e-3,1e-2,1e-1,1,10,100,1e+3]\n",
        "}\n",
        "\n",
        "param_dict_dt = {\n",
        "    'criterion':['gini','entropy'],\n",
        "    'max_depth':[4,5,6,7,8,9,10,11,12,15,20,30,40,50,70,90,120,150]\n",
        "}\n",
        "\n",
        "param_dict_rf = {\n",
        "    'max_depth':[4,6,8],\n",
        "    'min_samples_leaf':[40, 60],\n",
        "    'min_samples_split':[50,100,150],\n",
        "    'n_estimators':[50, 80, 100]\n",
        "}\n",
        "\n",
        "param_dict_xgb = {\n",
        "    'max_depth':[2,10,1],\n",
        "    'n_estimators':range(60,220,40),\n",
        "    'learning_rate' : [0.1, 0.05, 0.005,0.0005]\n",
        "}\n",
        "\n",
        "param_dict_svm = {\n",
        "    'C':[0.1,1,10,100,1000],\n",
        "    'gamma':[1,0.1,0.01,0.001,0.0001],\n",
        "    'kernel':['rbf', 'Polynomial','Sigmoid','Linear']\n",
        "}"
      ],
      "metadata": {
        "id": "M3QuF3Gz5L8x"
      },
      "execution_count": null,
      "outputs": []
    },
    {
      "cell_type": "markdown",
      "source": [
        "##**Hypertuning Logistic Regression With GridSearchCV**\n",
        "\n",
        "\n",
        "\n"
      ],
      "metadata": {
        "id": "iEAuQUZOzmHr"
      }
    },
    {
      "cell_type": "code",
      "source": [
        "#Implimenting GridsearchCV with Predefined Parameter\n",
        "from sklearn.model_selection import GridSearchCV\n",
        "lr_grid = GridSearchCV(estimator=lr,\n",
        "                       param_grid= param_dict_lr,\n",
        "                       cv=3, verbose=3, scoring='roc_auc')\n",
        "lr_grid.fit(xtrain,ytrain)"
      ],
      "metadata": {
        "id": "GriE0An4k5WW",
        "outputId": "d296d181-01a7-4d42-a60e-2567c0f55b19",
        "colab": {
          "base_uri": "https://localhost:8080/"
        }
      },
      "execution_count": 66,
      "outputs": [
        {
          "output_type": "stream",
          "name": "stdout",
          "text": [
            "Fitting 3 folds for each of 7 candidates, totalling 21 fits\n",
            "[CV 1/3] END ...........................C=0.001;, score=0.662 total time=   1.0s\n",
            "[CV 2/3] END ...........................C=0.001;, score=0.661 total time=   1.1s\n",
            "[CV 3/3] END ...........................C=0.001;, score=0.649 total time=   0.9s\n",
            "[CV 1/3] END ............................C=0.01;, score=0.663 total time=   1.0s\n",
            "[CV 2/3] END ............................C=0.01;, score=0.661 total time=   0.9s\n",
            "[CV 3/3] END ............................C=0.01;, score=0.649 total time=   1.0s\n",
            "[CV 1/3] END .............................C=0.1;, score=0.660 total time=   0.9s\n",
            "[CV 2/3] END .............................C=0.1;, score=0.663 total time=   0.9s\n",
            "[CV 3/3] END .............................C=0.1;, score=0.648 total time=   0.9s\n",
            "[CV 1/3] END ...............................C=1;, score=0.661 total time=   1.0s\n",
            "[CV 2/3] END ...............................C=1;, score=0.660 total time=   1.4s\n",
            "[CV 3/3] END ...............................C=1;, score=0.648 total time=   0.5s\n",
            "[CV 1/3] END ..............................C=10;, score=0.663 total time=   0.5s\n",
            "[CV 2/3] END ..............................C=10;, score=0.657 total time=   0.5s\n",
            "[CV 3/3] END ..............................C=10;, score=0.648 total time=   0.5s\n",
            "[CV 1/3] END .............................C=100;, score=0.662 total time=   0.5s\n",
            "[CV 2/3] END .............................C=100;, score=0.657 total time=   0.5s\n",
            "[CV 3/3] END .............................C=100;, score=0.648 total time=   0.5s\n",
            "[CV 1/3] END ..........................C=1000.0;, score=0.663 total time=   0.5s\n",
            "[CV 2/3] END ..........................C=1000.0;, score=0.657 total time=   0.5s\n",
            "[CV 3/3] END ..........................C=1000.0;, score=0.648 total time=   0.5s\n"
          ]
        },
        {
          "output_type": "execute_result",
          "data": {
            "text/plain": [
              "GridSearchCV(cv=3, estimator=LogisticRegression(),\n",
              "             param_grid={'C': [0.001, 0.01, 0.1, 1, 10, 100, 1000.0]},\n",
              "             scoring='roc_auc', verbose=3)"
            ]
          },
          "metadata": {},
          "execution_count": 66
        }
      ]
    },
    {
      "cell_type": "code",
      "source": [
        "#Evaluating model of train \n",
        "print('Train Score: ',lr_grid.best_estimator_.score(xtrain,ytrain))\n",
        "print('Test Score : ',lr_grid.best_estimator_.score(xtest,ytest))"
      ],
      "metadata": {
        "id": "0nrOE_6-k5BL",
        "outputId": "020788a3-afbd-4ee7-8a38-e7856a601cac",
        "colab": {
          "base_uri": "https://localhost:8080/"
        }
      },
      "execution_count": null,
      "outputs": [
        {
          "output_type": "stream",
          "name": "stdout",
          "text": [
            "Train Score:  0.6172001589776515\n",
            "Test Score :  0.6130965118767387\n"
          ]
        }
      ]
    },
    {
      "cell_type": "code",
      "source": [
        "#Selecting the best parameters\n",
        "lr_grid.best_params_"
      ],
      "metadata": {
        "id": "cfTBLyif0CnI",
        "outputId": "6c89603d-7b3b-4bf4-fb4f-3155cbe33b25",
        "colab": {
          "base_uri": "https://localhost:8080/"
        }
      },
      "execution_count": null,
      "outputs": [
        {
          "output_type": "execute_result",
          "data": {
            "text/plain": [
              "{'C': 0.1}"
            ]
          },
          "metadata": {},
          "execution_count": 78
        }
      ]
    },
    {
      "cell_type": "markdown",
      "source": [
        "##**Hypertuning Decision Tree With GridSearchCV**\n"
      ],
      "metadata": {
        "id": "UndpB4Vgz4Qk"
      }
    },
    {
      "cell_type": "code",
      "source": [
        "#Implimenting GridsearchCV with Predefined Parameter\n",
        "dt_grid = GridSearchCV(estimator=dt,\n",
        "                       param_grid=param_dict_dt,\n",
        "                       cv = 3, verbose=3, scoring='roc_auc')\n",
        "\n",
        "#Fitting the hypertuned model\n",
        "dt_grid.fit(xtrain,ytrain)"
      ],
      "metadata": {
        "id": "CAraGMuWoOFV",
        "outputId": "c01b6b7a-ae53-4179-8791-1fcd7208068f",
        "colab": {
          "base_uri": "https://localhost:8080/"
        }
      },
      "execution_count": null,
      "outputs": [
        {
          "output_type": "stream",
          "name": "stdout",
          "text": [
            "Fitting 5 folds for each of 36 candidates, totalling 180 fits\n",
            "[CV 1/5] END .......criterion=gini, max_depth=4;, score=0.787 total time=   0.3s\n",
            "[CV 2/5] END .......criterion=gini, max_depth=4;, score=0.796 total time=   0.3s\n",
            "[CV 3/5] END .......criterion=gini, max_depth=4;, score=0.786 total time=   0.3s\n",
            "[CV 4/5] END .......criterion=gini, max_depth=4;, score=0.782 total time=   0.3s\n",
            "[CV 5/5] END .......criterion=gini, max_depth=4;, score=0.778 total time=   0.3s\n",
            "[CV 1/5] END .......criterion=gini, max_depth=5;, score=0.797 total time=   0.4s\n",
            "[CV 2/5] END .......criterion=gini, max_depth=5;, score=0.812 total time=   0.4s\n",
            "[CV 3/5] END .......criterion=gini, max_depth=5;, score=0.798 total time=   0.4s\n",
            "[CV 4/5] END .......criterion=gini, max_depth=5;, score=0.794 total time=   0.4s\n",
            "[CV 5/5] END .......criterion=gini, max_depth=5;, score=0.790 total time=   0.3s\n",
            "[CV 1/5] END .......criterion=gini, max_depth=6;, score=0.804 total time=   0.4s\n",
            "[CV 2/5] END .......criterion=gini, max_depth=6;, score=0.822 total time=   0.5s\n",
            "[CV 3/5] END .......criterion=gini, max_depth=6;, score=0.809 total time=   0.6s\n",
            "[CV 4/5] END .......criterion=gini, max_depth=6;, score=0.803 total time=   1.1s\n",
            "[CV 5/5] END .......criterion=gini, max_depth=6;, score=0.802 total time=   0.5s\n",
            "[CV 1/5] END .......criterion=gini, max_depth=7;, score=0.816 total time=   0.5s\n",
            "[CV 2/5] END .......criterion=gini, max_depth=7;, score=0.829 total time=   0.5s\n",
            "[CV 3/5] END .......criterion=gini, max_depth=7;, score=0.817 total time=   0.5s\n",
            "[CV 4/5] END .......criterion=gini, max_depth=7;, score=0.808 total time=   0.4s\n",
            "[CV 5/5] END .......criterion=gini, max_depth=7;, score=0.810 total time=   0.4s\n",
            "[CV 1/5] END .......criterion=gini, max_depth=8;, score=0.820 total time=   0.4s\n",
            "[CV 2/5] END .......criterion=gini, max_depth=8;, score=0.832 total time=   0.4s\n",
            "[CV 3/5] END .......criterion=gini, max_depth=8;, score=0.820 total time=   0.4s\n",
            "[CV 4/5] END .......criterion=gini, max_depth=8;, score=0.811 total time=   0.6s\n",
            "[CV 5/5] END .......criterion=gini, max_depth=8;, score=0.813 total time=   0.5s\n",
            "[CV 1/5] END .......criterion=gini, max_depth=9;, score=0.818 total time=   0.6s\n",
            "[CV 2/5] END .......criterion=gini, max_depth=9;, score=0.836 total time=   0.6s\n",
            "[CV 3/5] END .......criterion=gini, max_depth=9;, score=0.820 total time=   0.5s\n",
            "[CV 4/5] END .......criterion=gini, max_depth=9;, score=0.810 total time=   0.6s\n",
            "[CV 5/5] END .......criterion=gini, max_depth=9;, score=0.818 total time=   0.5s\n",
            "[CV 1/5] END ......criterion=gini, max_depth=10;, score=0.818 total time=   0.6s\n",
            "[CV 2/5] END ......criterion=gini, max_depth=10;, score=0.827 total time=   0.7s\n",
            "[CV 3/5] END ......criterion=gini, max_depth=10;, score=0.819 total time=   0.8s\n",
            "[CV 4/5] END ......criterion=gini, max_depth=10;, score=0.805 total time=   0.5s\n",
            "[CV 5/5] END ......criterion=gini, max_depth=10;, score=0.817 total time=   0.6s\n",
            "[CV 1/5] END ......criterion=gini, max_depth=11;, score=0.816 total time=   0.7s\n",
            "[CV 2/5] END ......criterion=gini, max_depth=11;, score=0.818 total time=   0.7s\n",
            "[CV 3/5] END ......criterion=gini, max_depth=11;, score=0.812 total time=   0.7s\n",
            "[CV 4/5] END ......criterion=gini, max_depth=11;, score=0.801 total time=   0.6s\n",
            "[CV 5/5] END ......criterion=gini, max_depth=11;, score=0.813 total time=   0.7s\n",
            "[CV 1/5] END ......criterion=gini, max_depth=12;, score=0.805 total time=   0.8s\n",
            "[CV 2/5] END ......criterion=gini, max_depth=12;, score=0.811 total time=   0.7s\n",
            "[CV 3/5] END ......criterion=gini, max_depth=12;, score=0.805 total time=   0.7s\n",
            "[CV 4/5] END ......criterion=gini, max_depth=12;, score=0.793 total time=   0.7s\n",
            "[CV 5/5] END ......criterion=gini, max_depth=12;, score=0.806 total time=   0.7s\n",
            "[CV 1/5] END ......criterion=gini, max_depth=15;, score=0.772 total time=   0.9s\n",
            "[CV 2/5] END ......criterion=gini, max_depth=15;, score=0.785 total time=   0.9s\n",
            "[CV 3/5] END ......criterion=gini, max_depth=15;, score=0.766 total time=   0.8s\n",
            "[CV 4/5] END ......criterion=gini, max_depth=15;, score=0.763 total time=   0.8s\n",
            "[CV 5/5] END ......criterion=gini, max_depth=15;, score=0.774 total time=   1.0s\n",
            "[CV 1/5] END ......criterion=gini, max_depth=20;, score=0.752 total time=   0.8s\n",
            "[CV 2/5] END ......criterion=gini, max_depth=20;, score=0.750 total time=   0.8s\n",
            "[CV 3/5] END ......criterion=gini, max_depth=20;, score=0.745 total time=   0.9s\n",
            "[CV 4/5] END ......criterion=gini, max_depth=20;, score=0.743 total time=   1.0s\n",
            "[CV 5/5] END ......criterion=gini, max_depth=20;, score=0.749 total time=   0.9s\n",
            "[CV 1/5] END ......criterion=gini, max_depth=30;, score=0.753 total time=   0.9s\n",
            "[CV 2/5] END ......criterion=gini, max_depth=30;, score=0.747 total time=   2.4s\n",
            "[CV 3/5] END ......criterion=gini, max_depth=30;, score=0.735 total time=   1.0s\n",
            "[CV 4/5] END ......criterion=gini, max_depth=30;, score=0.743 total time=   1.0s\n",
            "[CV 5/5] END ......criterion=gini, max_depth=30;, score=0.739 total time=   0.9s\n",
            "[CV 1/5] END ......criterion=gini, max_depth=40;, score=0.748 total time=   0.8s\n",
            "[CV 2/5] END ......criterion=gini, max_depth=40;, score=0.750 total time=   0.7s\n",
            "[CV 3/5] END ......criterion=gini, max_depth=40;, score=0.739 total time=   0.8s\n",
            "[CV 4/5] END ......criterion=gini, max_depth=40;, score=0.743 total time=   0.8s\n",
            "[CV 5/5] END ......criterion=gini, max_depth=40;, score=0.744 total time=   0.9s\n",
            "[CV 1/5] END ......criterion=gini, max_depth=50;, score=0.750 total time=   0.9s\n",
            "[CV 2/5] END ......criterion=gini, max_depth=50;, score=0.753 total time=   0.9s\n",
            "[CV 3/5] END ......criterion=gini, max_depth=50;, score=0.739 total time=   1.2s\n",
            "[CV 4/5] END ......criterion=gini, max_depth=50;, score=0.740 total time=   0.9s\n",
            "[CV 5/5] END ......criterion=gini, max_depth=50;, score=0.743 total time=   1.0s\n",
            "[CV 1/5] END ......criterion=gini, max_depth=70;, score=0.752 total time=   1.0s\n",
            "[CV 2/5] END ......criterion=gini, max_depth=70;, score=0.747 total time=   1.0s\n",
            "[CV 3/5] END ......criterion=gini, max_depth=70;, score=0.737 total time=   0.9s\n",
            "[CV 4/5] END ......criterion=gini, max_depth=70;, score=0.740 total time=   0.9s\n",
            "[CV 5/5] END ......criterion=gini, max_depth=70;, score=0.742 total time=   1.0s\n",
            "[CV 1/5] END ......criterion=gini, max_depth=90;, score=0.754 total time=   0.9s\n",
            "[CV 2/5] END ......criterion=gini, max_depth=90;, score=0.751 total time=   0.9s\n",
            "[CV 3/5] END ......criterion=gini, max_depth=90;, score=0.738 total time=   1.0s\n",
            "[CV 4/5] END ......criterion=gini, max_depth=90;, score=0.740 total time=   0.8s\n",
            "[CV 5/5] END ......criterion=gini, max_depth=90;, score=0.748 total time=   0.8s\n",
            "[CV 1/5] END .....criterion=gini, max_depth=120;, score=0.750 total time=   1.0s\n",
            "[CV 2/5] END .....criterion=gini, max_depth=120;, score=0.751 total time=   0.9s\n",
            "[CV 3/5] END .....criterion=gini, max_depth=120;, score=0.738 total time=   1.0s\n",
            "[CV 4/5] END .....criterion=gini, max_depth=120;, score=0.743 total time=   1.0s\n",
            "[CV 5/5] END .....criterion=gini, max_depth=120;, score=0.742 total time=   0.9s\n",
            "[CV 1/5] END .....criterion=gini, max_depth=150;, score=0.748 total time=   0.9s\n",
            "[CV 2/5] END .....criterion=gini, max_depth=150;, score=0.749 total time=   0.9s\n",
            "[CV 3/5] END .....criterion=gini, max_depth=150;, score=0.740 total time=   0.8s\n",
            "[CV 4/5] END .....criterion=gini, max_depth=150;, score=0.749 total time=   0.9s\n",
            "[CV 5/5] END .....criterion=gini, max_depth=150;, score=0.748 total time=   1.0s\n",
            "[CV 1/5] END ....criterion=entropy, max_depth=4;, score=0.786 total time=   0.4s\n",
            "[CV 2/5] END ....criterion=entropy, max_depth=4;, score=0.792 total time=   0.5s\n",
            "[CV 3/5] END ....criterion=entropy, max_depth=4;, score=0.785 total time=   1.2s\n",
            "[CV 4/5] END ....criterion=entropy, max_depth=4;, score=0.782 total time=   0.5s\n",
            "[CV 5/5] END ....criterion=entropy, max_depth=4;, score=0.778 total time=   0.6s\n",
            "[CV 1/5] END ....criterion=entropy, max_depth=5;, score=0.798 total time=   0.6s\n",
            "[CV 2/5] END ....criterion=entropy, max_depth=5;, score=0.808 total time=   0.6s\n",
            "[CV 3/5] END ....criterion=entropy, max_depth=5;, score=0.798 total time=   0.5s\n",
            "[CV 4/5] END ....criterion=entropy, max_depth=5;, score=0.794 total time=   0.5s\n",
            "[CV 5/5] END ....criterion=entropy, max_depth=5;, score=0.791 total time=   0.7s\n",
            "[CV 1/5] END ....criterion=entropy, max_depth=6;, score=0.805 total time=   0.5s\n",
            "[CV 2/5] END ....criterion=entropy, max_depth=6;, score=0.816 total time=   0.8s\n",
            "[CV 3/5] END ....criterion=entropy, max_depth=6;, score=0.810 total time=   0.7s\n",
            "[CV 4/5] END ....criterion=entropy, max_depth=6;, score=0.802 total time=   0.7s\n",
            "[CV 5/5] END ....criterion=entropy, max_depth=6;, score=0.801 total time=   0.7s\n",
            "[CV 1/5] END ....criterion=entropy, max_depth=7;, score=0.817 total time=   0.9s\n",
            "[CV 2/5] END ....criterion=entropy, max_depth=7;, score=0.825 total time=   0.8s\n",
            "[CV 3/5] END ....criterion=entropy, max_depth=7;, score=0.815 total time=   0.8s\n",
            "[CV 4/5] END ....criterion=entropy, max_depth=7;, score=0.807 total time=   0.9s\n",
            "[CV 5/5] END ....criterion=entropy, max_depth=7;, score=0.810 total time=   0.8s\n",
            "[CV 1/5] END ....criterion=entropy, max_depth=8;, score=0.821 total time=   1.0s\n",
            "[CV 2/5] END ....criterion=entropy, max_depth=8;, score=0.830 total time=   0.9s\n",
            "[CV 3/5] END ....criterion=entropy, max_depth=8;, score=0.820 total time=   1.1s\n",
            "[CV 4/5] END ....criterion=entropy, max_depth=8;, score=0.812 total time=   0.8s\n",
            "[CV 5/5] END ....criterion=entropy, max_depth=8;, score=0.817 total time=   1.0s\n",
            "[CV 1/5] END ....criterion=entropy, max_depth=9;, score=0.823 total time=   1.0s\n",
            "[CV 2/5] END ....criterion=entropy, max_depth=9;, score=0.835 total time=   1.6s\n",
            "[CV 3/5] END ....criterion=entropy, max_depth=9;, score=0.819 total time=   1.2s\n",
            "[CV 4/5] END ....criterion=entropy, max_depth=9;, score=0.814 total time=   2.0s\n",
            "[CV 5/5] END ....criterion=entropy, max_depth=9;, score=0.821 total time=   1.3s\n",
            "[CV 1/5] END ...criterion=entropy, max_depth=10;, score=0.818 total time=   1.8s\n",
            "[CV 2/5] END ...criterion=entropy, max_depth=10;, score=0.835 total time=   1.1s\n",
            "[CV 3/5] END ...criterion=entropy, max_depth=10;, score=0.817 total time=   1.3s\n",
            "[CV 4/5] END ...criterion=entropy, max_depth=10;, score=0.811 total time=   1.5s\n",
            "[CV 5/5] END ...criterion=entropy, max_depth=10;, score=0.823 total time=   1.4s\n",
            "[CV 1/5] END ...criterion=entropy, max_depth=11;, score=0.818 total time=   1.4s\n",
            "[CV 2/5] END ...criterion=entropy, max_depth=11;, score=0.824 total time=   1.5s\n",
            "[CV 3/5] END ...criterion=entropy, max_depth=11;, score=0.812 total time=   1.2s\n",
            "[CV 4/5] END ...criterion=entropy, max_depth=11;, score=0.803 total time=   1.4s\n",
            "[CV 5/5] END ...criterion=entropy, max_depth=11;, score=0.816 total time=   1.2s\n",
            "[CV 1/5] END ...criterion=entropy, max_depth=12;, score=0.812 total time=   1.1s\n",
            "[CV 2/5] END ...criterion=entropy, max_depth=12;, score=0.818 total time=   1.1s\n",
            "[CV 3/5] END ...criterion=entropy, max_depth=12;, score=0.807 total time=   1.1s\n",
            "[CV 4/5] END ...criterion=entropy, max_depth=12;, score=0.797 total time=   1.1s\n",
            "[CV 5/5] END ...criterion=entropy, max_depth=12;, score=0.813 total time=   1.0s\n",
            "[CV 1/5] END ...criterion=entropy, max_depth=15;, score=0.784 total time=   1.2s\n",
            "[CV 2/5] END ...criterion=entropy, max_depth=15;, score=0.793 total time=   1.3s\n",
            "[CV 3/5] END ...criterion=entropy, max_depth=15;, score=0.778 total time=   1.2s\n",
            "[CV 4/5] END ...criterion=entropy, max_depth=15;, score=0.771 total time=   1.2s\n",
            "[CV 5/5] END ...criterion=entropy, max_depth=15;, score=0.790 total time=   1.2s\n",
            "[CV 1/5] END ...criterion=entropy, max_depth=20;, score=0.757 total time=   1.3s\n",
            "[CV 2/5] END ...criterion=entropy, max_depth=20;, score=0.761 total time=   1.4s\n",
            "[CV 3/5] END ...criterion=entropy, max_depth=20;, score=0.747 total time=   1.4s\n",
            "[CV 4/5] END ...criterion=entropy, max_depth=20;, score=0.746 total time=   1.4s\n",
            "[CV 5/5] END ...criterion=entropy, max_depth=20;, score=0.753 total time=   1.4s\n",
            "[CV 1/5] END ...criterion=entropy, max_depth=30;, score=0.745 total time=   1.3s\n",
            "[CV 2/5] END ...criterion=entropy, max_depth=30;, score=0.742 total time=   1.3s\n",
            "[CV 3/5] END ...criterion=entropy, max_depth=30;, score=0.745 total time=   1.3s\n",
            "[CV 4/5] END ...criterion=entropy, max_depth=30;, score=0.741 total time=   2.1s\n",
            "[CV 5/5] END ...criterion=entropy, max_depth=30;, score=0.741 total time=   1.3s\n",
            "[CV 1/5] END ...criterion=entropy, max_depth=40;, score=0.748 total time=   1.1s\n",
            "[CV 2/5] END ...criterion=entropy, max_depth=40;, score=0.744 total time=   1.5s\n",
            "[CV 3/5] END ...criterion=entropy, max_depth=40;, score=0.737 total time=   1.4s\n",
            "[CV 4/5] END ...criterion=entropy, max_depth=40;, score=0.743 total time=   1.3s\n",
            "[CV 5/5] END ...criterion=entropy, max_depth=40;, score=0.744 total time=   1.3s\n",
            "[CV 1/5] END ...criterion=entropy, max_depth=50;, score=0.744 total time=   1.2s\n",
            "[CV 2/5] END ...criterion=entropy, max_depth=50;, score=0.739 total time=   1.2s\n",
            "[CV 3/5] END ...criterion=entropy, max_depth=50;, score=0.737 total time=   1.7s\n",
            "[CV 4/5] END ...criterion=entropy, max_depth=50;, score=0.742 total time=   2.0s\n",
            "[CV 5/5] END ...criterion=entropy, max_depth=50;, score=0.747 total time=   1.4s\n",
            "[CV 1/5] END ...criterion=entropy, max_depth=70;, score=0.748 total time=   1.4s\n",
            "[CV 2/5] END ...criterion=entropy, max_depth=70;, score=0.741 total time=   1.6s\n",
            "[CV 3/5] END ...criterion=entropy, max_depth=70;, score=0.735 total time=   1.6s\n",
            "[CV 4/5] END ...criterion=entropy, max_depth=70;, score=0.737 total time=   1.7s\n",
            "[CV 5/5] END ...criterion=entropy, max_depth=70;, score=0.738 total time=   1.6s\n",
            "[CV 1/5] END ...criterion=entropy, max_depth=90;, score=0.745 total time=   1.5s\n",
            "[CV 2/5] END ...criterion=entropy, max_depth=90;, score=0.739 total time=   1.7s\n",
            "[CV 3/5] END ...criterion=entropy, max_depth=90;, score=0.738 total time=   1.5s\n",
            "[CV 4/5] END ...criterion=entropy, max_depth=90;, score=0.739 total time=   1.5s\n",
            "[CV 5/5] END ...criterion=entropy, max_depth=90;, score=0.742 total time=   1.5s\n",
            "[CV 1/5] END ..criterion=entropy, max_depth=120;, score=0.746 total time=   1.6s\n",
            "[CV 2/5] END ..criterion=entropy, max_depth=120;, score=0.740 total time=   1.5s\n",
            "[CV 3/5] END ..criterion=entropy, max_depth=120;, score=0.736 total time=   1.5s\n",
            "[CV 4/5] END ..criterion=entropy, max_depth=120;, score=0.740 total time=   1.5s\n",
            "[CV 5/5] END ..criterion=entropy, max_depth=120;, score=0.743 total time=   1.8s\n",
            "[CV 1/5] END ..criterion=entropy, max_depth=150;, score=0.744 total time=   1.6s\n",
            "[CV 2/5] END ..criterion=entropy, max_depth=150;, score=0.741 total time=   1.5s\n",
            "[CV 3/5] END ..criterion=entropy, max_depth=150;, score=0.741 total time=   1.0s\n",
            "[CV 4/5] END ..criterion=entropy, max_depth=150;, score=0.734 total time=   0.9s\n",
            "[CV 5/5] END ..criterion=entropy, max_depth=150;, score=0.742 total time=   0.9s\n"
          ]
        },
        {
          "output_type": "execute_result",
          "data": {
            "text/plain": [
              "GridSearchCV(cv=5, estimator=DecisionTreeClassifier(),\n",
              "             param_grid={'criterion': ['gini', 'entropy'],\n",
              "                         'max_depth': [4, 5, 6, 7, 8, 9, 10, 11, 12, 15, 20, 30,\n",
              "                                       40, 50, 70, 90, 120, 150]},\n",
              "             scoring='roc_auc', verbose=3)"
            ]
          },
          "metadata": {},
          "execution_count": 75
        }
      ]
    },
    {
      "cell_type": "code",
      "source": [
        "#Evaluating the trained decision tree with gridsearchCV\n",
        "print('Train Score: ',dt_grid.best_estimator_.score(xtrain,ytrain))\n",
        "print('Test Score : ',dt_grid.best_estimator_.score(xtest,ytest))"
      ],
      "metadata": {
        "id": "-g-i1nBNqmFQ",
        "outputId": "a905bc92-fa8b-493a-852e-1c8700d05c2b",
        "colab": {
          "base_uri": "https://localhost:8080/"
        }
      },
      "execution_count": null,
      "outputs": [
        {
          "output_type": "stream",
          "name": "stdout",
          "text": [
            "Train Score:  0.7753523495062521\n",
            "Test Score :  0.7504101576431985\n"
          ]
        }
      ]
    },
    {
      "cell_type": "code",
      "source": [
        "#Selecting the best parameters\n",
        "dt_grid.best_params_"
      ],
      "metadata": {
        "id": "ZTgUC0zgrcCS",
        "outputId": "8f4ebd86-3120-4ae4-d512-8edd8cd5c6ff",
        "colab": {
          "base_uri": "https://localhost:8080/"
        }
      },
      "execution_count": null,
      "outputs": [
        {
          "output_type": "execute_result",
          "data": {
            "text/plain": [
              "{'criterion': 'entropy', 'max_depth': 9}"
            ]
          },
          "metadata": {},
          "execution_count": 77
        }
      ]
    },
    {
      "cell_type": "markdown",
      "source": [
        "##**Hypertuning Random Forest With GridSearchCV**\n"
      ],
      "metadata": {
        "id": "RE6Q6avXIxhS"
      }
    },
    {
      "cell_type": "code",
      "source": [
        "#Implimenting GridsearchCV with Predefined Parameter\n",
        "rf_grid = GridSearchCV(estimator=rf,\n",
        "                       param_grid=param_dict_rf,\n",
        "                       cv = 3, verbose=3, scoring='roc_auc')\n",
        "\n",
        "#Fitting tuned model\n",
        "rf_grid.fit(xtrain,ytrain)"
      ],
      "metadata": {
        "id": "8u-Ts1YbsAWK",
        "outputId": "51d8cb7e-f4e1-4142-ce2a-493df80311a8",
        "colab": {
          "base_uri": "https://localhost:8080/"
        }
      },
      "execution_count": null,
      "outputs": [
        {
          "output_type": "stream",
          "name": "stdout",
          "text": [
            "Fitting 3 folds for each of 54 candidates, totalling 162 fits\n",
            "[CV 1/3] END max_depth=4, min_samples_leaf=40, min_samples_split=50, n_estimators=50;, score=0.819 total time=   1.6s\n",
            "[CV 2/3] END max_depth=4, min_samples_leaf=40, min_samples_split=50, n_estimators=50;, score=0.814 total time=   1.6s\n",
            "[CV 3/3] END max_depth=4, min_samples_leaf=40, min_samples_split=50, n_estimators=50;, score=0.804 total time=   1.6s\n",
            "[CV 1/3] END max_depth=4, min_samples_leaf=40, min_samples_split=50, n_estimators=80;, score=0.821 total time=   2.4s\n",
            "[CV 2/3] END max_depth=4, min_samples_leaf=40, min_samples_split=50, n_estimators=80;, score=0.814 total time=   2.1s\n",
            "[CV 3/3] END max_depth=4, min_samples_leaf=40, min_samples_split=50, n_estimators=80;, score=0.802 total time=   1.7s\n",
            "[CV 1/3] END max_depth=4, min_samples_leaf=40, min_samples_split=50, n_estimators=100;, score=0.821 total time=   2.1s\n",
            "[CV 2/3] END max_depth=4, min_samples_leaf=40, min_samples_split=50, n_estimators=100;, score=0.815 total time=   2.1s\n",
            "[CV 3/3] END max_depth=4, min_samples_leaf=40, min_samples_split=50, n_estimators=100;, score=0.804 total time=   2.1s\n",
            "[CV 1/3] END max_depth=4, min_samples_leaf=40, min_samples_split=100, n_estimators=50;, score=0.819 total time=   1.1s\n",
            "[CV 2/3] END max_depth=4, min_samples_leaf=40, min_samples_split=100, n_estimators=50;, score=0.813 total time=   1.1s\n",
            "[CV 3/3] END max_depth=4, min_samples_leaf=40, min_samples_split=100, n_estimators=50;, score=0.806 total time=   1.0s\n",
            "[CV 1/3] END max_depth=4, min_samples_leaf=40, min_samples_split=100, n_estimators=80;, score=0.819 total time=   1.7s\n",
            "[CV 2/3] END max_depth=4, min_samples_leaf=40, min_samples_split=100, n_estimators=80;, score=0.815 total time=   1.7s\n",
            "[CV 3/3] END max_depth=4, min_samples_leaf=40, min_samples_split=100, n_estimators=80;, score=0.805 total time=   1.7s\n",
            "[CV 1/3] END max_depth=4, min_samples_leaf=40, min_samples_split=100, n_estimators=100;, score=0.819 total time=   2.1s\n",
            "[CV 2/3] END max_depth=4, min_samples_leaf=40, min_samples_split=100, n_estimators=100;, score=0.813 total time=   2.1s\n",
            "[CV 3/3] END max_depth=4, min_samples_leaf=40, min_samples_split=100, n_estimators=100;, score=0.804 total time=   2.1s\n",
            "[CV 1/3] END max_depth=4, min_samples_leaf=40, min_samples_split=150, n_estimators=50;, score=0.819 total time=   1.0s\n",
            "[CV 2/3] END max_depth=4, min_samples_leaf=40, min_samples_split=150, n_estimators=50;, score=0.813 total time=   1.1s\n",
            "[CV 3/3] END max_depth=4, min_samples_leaf=40, min_samples_split=150, n_estimators=50;, score=0.804 total time=   1.1s\n",
            "[CV 1/3] END max_depth=4, min_samples_leaf=40, min_samples_split=150, n_estimators=80;, score=0.821 total time=   1.6s\n",
            "[CV 2/3] END max_depth=4, min_samples_leaf=40, min_samples_split=150, n_estimators=80;, score=0.814 total time=   1.7s\n",
            "[CV 3/3] END max_depth=4, min_samples_leaf=40, min_samples_split=150, n_estimators=80;, score=0.806 total time=   1.6s\n",
            "[CV 1/3] END max_depth=4, min_samples_leaf=40, min_samples_split=150, n_estimators=100;, score=0.819 total time=   2.8s\n",
            "[CV 2/3] END max_depth=4, min_samples_leaf=40, min_samples_split=150, n_estimators=100;, score=0.814 total time=   2.9s\n",
            "[CV 3/3] END max_depth=4, min_samples_leaf=40, min_samples_split=150, n_estimators=100;, score=0.807 total time=   3.0s\n",
            "[CV 1/3] END max_depth=4, min_samples_leaf=60, min_samples_split=50, n_estimators=50;, score=0.820 total time=   2.0s\n",
            "[CV 2/3] END max_depth=4, min_samples_leaf=60, min_samples_split=50, n_estimators=50;, score=0.813 total time=   1.9s\n",
            "[CV 3/3] END max_depth=4, min_samples_leaf=60, min_samples_split=50, n_estimators=50;, score=0.803 total time=   1.6s\n",
            "[CV 1/3] END max_depth=4, min_samples_leaf=60, min_samples_split=50, n_estimators=80;, score=0.822 total time=   2.1s\n",
            "[CV 2/3] END max_depth=4, min_samples_leaf=60, min_samples_split=50, n_estimators=80;, score=0.812 total time=   2.2s\n",
            "[CV 3/3] END max_depth=4, min_samples_leaf=60, min_samples_split=50, n_estimators=80;, score=0.804 total time=   3.2s\n",
            "[CV 1/3] END max_depth=4, min_samples_leaf=60, min_samples_split=50, n_estimators=100;, score=0.821 total time=   2.5s\n",
            "[CV 2/3] END max_depth=4, min_samples_leaf=60, min_samples_split=50, n_estimators=100;, score=0.813 total time=   2.8s\n",
            "[CV 3/3] END max_depth=4, min_samples_leaf=60, min_samples_split=50, n_estimators=100;, score=0.806 total time=   2.8s\n",
            "[CV 1/3] END max_depth=4, min_samples_leaf=60, min_samples_split=100, n_estimators=50;, score=0.822 total time=   1.5s\n",
            "[CV 2/3] END max_depth=4, min_samples_leaf=60, min_samples_split=100, n_estimators=50;, score=0.817 total time=   1.6s\n",
            "[CV 3/3] END max_depth=4, min_samples_leaf=60, min_samples_split=100, n_estimators=50;, score=0.804 total time=   1.5s\n",
            "[CV 1/3] END max_depth=4, min_samples_leaf=60, min_samples_split=100, n_estimators=80;, score=0.821 total time=   1.9s\n",
            "[CV 2/3] END max_depth=4, min_samples_leaf=60, min_samples_split=100, n_estimators=80;, score=0.814 total time=   1.7s\n",
            "[CV 3/3] END max_depth=4, min_samples_leaf=60, min_samples_split=100, n_estimators=80;, score=0.804 total time=   3.5s\n",
            "[CV 1/3] END max_depth=4, min_samples_leaf=60, min_samples_split=100, n_estimators=100;, score=0.820 total time=   3.5s\n",
            "[CV 2/3] END max_depth=4, min_samples_leaf=60, min_samples_split=100, n_estimators=100;, score=0.814 total time=   2.3s\n",
            "[CV 3/3] END max_depth=4, min_samples_leaf=60, min_samples_split=100, n_estimators=100;, score=0.804 total time=   2.8s\n",
            "[CV 1/3] END max_depth=4, min_samples_leaf=60, min_samples_split=150, n_estimators=50;, score=0.821 total time=   1.4s\n",
            "[CV 2/3] END max_depth=4, min_samples_leaf=60, min_samples_split=150, n_estimators=50;, score=0.810 total time=   1.5s\n",
            "[CV 3/3] END max_depth=4, min_samples_leaf=60, min_samples_split=150, n_estimators=50;, score=0.808 total time=   1.5s\n",
            "[CV 1/3] END max_depth=4, min_samples_leaf=60, min_samples_split=150, n_estimators=80;, score=0.820 total time=   2.2s\n",
            "[CV 2/3] END max_depth=4, min_samples_leaf=60, min_samples_split=150, n_estimators=80;, score=0.815 total time=   2.1s\n",
            "[CV 3/3] END max_depth=4, min_samples_leaf=60, min_samples_split=150, n_estimators=80;, score=0.805 total time=   2.1s\n",
            "[CV 1/3] END max_depth=4, min_samples_leaf=60, min_samples_split=150, n_estimators=100;, score=0.819 total time=   2.5s\n",
            "[CV 2/3] END max_depth=4, min_samples_leaf=60, min_samples_split=150, n_estimators=100;, score=0.813 total time=   2.7s\n",
            "[CV 3/3] END max_depth=4, min_samples_leaf=60, min_samples_split=150, n_estimators=100;, score=0.806 total time=   2.6s\n",
            "[CV 1/3] END max_depth=6, min_samples_leaf=40, min_samples_split=50, n_estimators=50;, score=0.837 total time=   1.8s\n",
            "[CV 2/3] END max_depth=6, min_samples_leaf=40, min_samples_split=50, n_estimators=50;, score=0.829 total time=   1.8s\n",
            "[CV 3/3] END max_depth=6, min_samples_leaf=40, min_samples_split=50, n_estimators=50;, score=0.821 total time=   2.4s\n",
            "[CV 1/3] END max_depth=6, min_samples_leaf=40, min_samples_split=50, n_estimators=80;, score=0.837 total time=   3.0s\n",
            "[CV 2/3] END max_depth=6, min_samples_leaf=40, min_samples_split=50, n_estimators=80;, score=0.831 total time=   3.1s\n",
            "[CV 3/3] END max_depth=6, min_samples_leaf=40, min_samples_split=50, n_estimators=80;, score=0.821 total time=   3.1s\n",
            "[CV 1/3] END max_depth=6, min_samples_leaf=40, min_samples_split=50, n_estimators=100;, score=0.837 total time=   3.5s\n",
            "[CV 2/3] END max_depth=6, min_samples_leaf=40, min_samples_split=50, n_estimators=100;, score=0.831 total time=   3.4s\n",
            "[CV 3/3] END max_depth=6, min_samples_leaf=40, min_samples_split=50, n_estimators=100;, score=0.824 total time=   3.8s\n",
            "[CV 1/3] END max_depth=6, min_samples_leaf=40, min_samples_split=100, n_estimators=50;, score=0.836 total time=   1.9s\n",
            "[CV 2/3] END max_depth=6, min_samples_leaf=40, min_samples_split=100, n_estimators=50;, score=0.830 total time=   2.0s\n",
            "[CV 3/3] END max_depth=6, min_samples_leaf=40, min_samples_split=100, n_estimators=50;, score=0.821 total time=   2.0s\n",
            "[CV 1/3] END max_depth=6, min_samples_leaf=40, min_samples_split=100, n_estimators=80;, score=0.836 total time=   2.7s\n",
            "[CV 2/3] END max_depth=6, min_samples_leaf=40, min_samples_split=100, n_estimators=80;, score=0.831 total time=   3.2s\n",
            "[CV 3/3] END max_depth=6, min_samples_leaf=40, min_samples_split=100, n_estimators=80;, score=0.821 total time=   3.0s\n",
            "[CV 1/3] END max_depth=6, min_samples_leaf=40, min_samples_split=100, n_estimators=100;, score=0.836 total time=   4.3s\n",
            "[CV 2/3] END max_depth=6, min_samples_leaf=40, min_samples_split=100, n_estimators=100;, score=0.831 total time=   4.2s\n",
            "[CV 3/3] END max_depth=6, min_samples_leaf=40, min_samples_split=100, n_estimators=100;, score=0.823 total time=   4.3s\n",
            "[CV 1/3] END max_depth=6, min_samples_leaf=40, min_samples_split=150, n_estimators=50;, score=0.838 total time=   2.4s\n",
            "[CV 2/3] END max_depth=6, min_samples_leaf=40, min_samples_split=150, n_estimators=50;, score=0.830 total time=   2.8s\n",
            "[CV 3/3] END max_depth=6, min_samples_leaf=40, min_samples_split=150, n_estimators=50;, score=0.822 total time=   4.0s\n",
            "[CV 1/3] END max_depth=6, min_samples_leaf=40, min_samples_split=150, n_estimators=80;, score=0.837 total time=   5.2s\n",
            "[CV 2/3] END max_depth=6, min_samples_leaf=40, min_samples_split=150, n_estimators=80;, score=0.830 total time=   3.7s\n",
            "[CV 3/3] END max_depth=6, min_samples_leaf=40, min_samples_split=150, n_estimators=80;, score=0.821 total time=   3.5s\n",
            "[CV 1/3] END max_depth=6, min_samples_leaf=40, min_samples_split=150, n_estimators=100;, score=0.836 total time=   5.7s\n",
            "[CV 2/3] END max_depth=6, min_samples_leaf=40, min_samples_split=150, n_estimators=100;, score=0.831 total time=   4.3s\n",
            "[CV 3/3] END max_depth=6, min_samples_leaf=40, min_samples_split=150, n_estimators=100;, score=0.821 total time=   4.1s\n",
            "[CV 1/3] END max_depth=6, min_samples_leaf=60, min_samples_split=50, n_estimators=50;, score=0.835 total time=   1.9s\n",
            "[CV 2/3] END max_depth=6, min_samples_leaf=60, min_samples_split=50, n_estimators=50;, score=0.830 total time=   1.9s\n",
            "[CV 3/3] END max_depth=6, min_samples_leaf=60, min_samples_split=50, n_estimators=50;, score=0.822 total time=   2.7s\n",
            "[CV 1/3] END max_depth=6, min_samples_leaf=60, min_samples_split=50, n_estimators=80;, score=0.835 total time=   3.2s\n",
            "[CV 2/3] END max_depth=6, min_samples_leaf=60, min_samples_split=50, n_estimators=80;, score=0.828 total time=   2.7s\n",
            "[CV 3/3] END max_depth=6, min_samples_leaf=60, min_samples_split=50, n_estimators=80;, score=0.820 total time=   3.2s\n",
            "[CV 1/3] END max_depth=6, min_samples_leaf=60, min_samples_split=50, n_estimators=100;, score=0.836 total time=   3.7s\n",
            "[CV 2/3] END max_depth=6, min_samples_leaf=60, min_samples_split=50, n_estimators=100;, score=0.830 total time=   3.8s\n",
            "[CV 3/3] END max_depth=6, min_samples_leaf=60, min_samples_split=50, n_estimators=100;, score=0.821 total time=   3.8s\n",
            "[CV 1/3] END max_depth=6, min_samples_leaf=60, min_samples_split=100, n_estimators=50;, score=0.836 total time=   2.0s\n",
            "[CV 2/3] END max_depth=6, min_samples_leaf=60, min_samples_split=100, n_estimators=50;, score=0.827 total time=   2.0s\n",
            "[CV 3/3] END max_depth=6, min_samples_leaf=60, min_samples_split=100, n_estimators=50;, score=0.820 total time=   1.9s\n",
            "[CV 1/3] END max_depth=6, min_samples_leaf=60, min_samples_split=100, n_estimators=80;, score=0.837 total time=   3.7s\n",
            "[CV 2/3] END max_depth=6, min_samples_leaf=60, min_samples_split=100, n_estimators=80;, score=0.829 total time=   4.5s\n",
            "[CV 3/3] END max_depth=6, min_samples_leaf=60, min_samples_split=100, n_estimators=80;, score=0.822 total time=   3.3s\n",
            "[CV 1/3] END max_depth=6, min_samples_leaf=60, min_samples_split=100, n_estimators=100;, score=0.837 total time=   4.1s\n",
            "[CV 2/3] END max_depth=6, min_samples_leaf=60, min_samples_split=100, n_estimators=100;, score=0.830 total time=   4.2s\n",
            "[CV 3/3] END max_depth=6, min_samples_leaf=60, min_samples_split=100, n_estimators=100;, score=0.820 total time=   4.1s\n",
            "[CV 1/3] END max_depth=6, min_samples_leaf=60, min_samples_split=150, n_estimators=50;, score=0.834 total time=   2.0s\n",
            "[CV 2/3] END max_depth=6, min_samples_leaf=60, min_samples_split=150, n_estimators=50;, score=0.829 total time=   2.1s\n",
            "[CV 3/3] END max_depth=6, min_samples_leaf=60, min_samples_split=150, n_estimators=50;, score=0.819 total time=   2.0s\n",
            "[CV 1/3] END max_depth=6, min_samples_leaf=60, min_samples_split=150, n_estimators=80;, score=0.835 total time=   3.3s\n",
            "[CV 2/3] END max_depth=6, min_samples_leaf=60, min_samples_split=150, n_estimators=80;, score=0.829 total time=   3.1s\n",
            "[CV 3/3] END max_depth=6, min_samples_leaf=60, min_samples_split=150, n_estimators=80;, score=0.822 total time=   2.7s\n",
            "[CV 1/3] END max_depth=6, min_samples_leaf=60, min_samples_split=150, n_estimators=100;, score=0.835 total time=   3.8s\n",
            "[CV 2/3] END max_depth=6, min_samples_leaf=60, min_samples_split=150, n_estimators=100;, score=0.828 total time=   4.2s\n",
            "[CV 3/3] END max_depth=6, min_samples_leaf=60, min_samples_split=150, n_estimators=100;, score=0.821 total time=   3.5s\n",
            "[CV 1/3] END max_depth=8, min_samples_leaf=40, min_samples_split=50, n_estimators=50;, score=0.848 total time=   1.6s\n",
            "[CV 2/3] END max_depth=8, min_samples_leaf=40, min_samples_split=50, n_estimators=50;, score=0.841 total time=   1.7s\n",
            "[CV 3/3] END max_depth=8, min_samples_leaf=40, min_samples_split=50, n_estimators=50;, score=0.835 total time=   2.4s\n",
            "[CV 1/3] END max_depth=8, min_samples_leaf=40, min_samples_split=50, n_estimators=80;, score=0.850 total time=   2.7s\n",
            "[CV 2/3] END max_depth=8, min_samples_leaf=40, min_samples_split=50, n_estimators=80;, score=0.844 total time=   2.7s\n",
            "[CV 3/3] END max_depth=8, min_samples_leaf=40, min_samples_split=50, n_estimators=80;, score=0.836 total time=   2.7s\n",
            "[CV 1/3] END max_depth=8, min_samples_leaf=40, min_samples_split=50, n_estimators=100;, score=0.850 total time=   3.4s\n",
            "[CV 2/3] END max_depth=8, min_samples_leaf=40, min_samples_split=50, n_estimators=100;, score=0.842 total time=   3.3s\n",
            "[CV 3/3] END max_depth=8, min_samples_leaf=40, min_samples_split=50, n_estimators=100;, score=0.834 total time=   3.4s\n",
            "[CV 1/3] END max_depth=8, min_samples_leaf=40, min_samples_split=100, n_estimators=50;, score=0.848 total time=   1.7s\n",
            "[CV 2/3] END max_depth=8, min_samples_leaf=40, min_samples_split=100, n_estimators=50;, score=0.843 total time=   1.7s\n",
            "[CV 3/3] END max_depth=8, min_samples_leaf=40, min_samples_split=100, n_estimators=50;, score=0.835 total time=   1.7s\n",
            "[CV 1/3] END max_depth=8, min_samples_leaf=40, min_samples_split=100, n_estimators=80;, score=0.849 total time=   2.7s\n",
            "[CV 2/3] END max_depth=8, min_samples_leaf=40, min_samples_split=100, n_estimators=80;, score=0.841 total time=   2.7s\n",
            "[CV 3/3] END max_depth=8, min_samples_leaf=40, min_samples_split=100, n_estimators=80;, score=0.834 total time=   2.7s\n",
            "[CV 1/3] END max_depth=8, min_samples_leaf=40, min_samples_split=100, n_estimators=100;, score=0.849 total time=   3.4s\n",
            "[CV 2/3] END max_depth=8, min_samples_leaf=40, min_samples_split=100, n_estimators=100;, score=0.842 total time=   3.3s\n",
            "[CV 3/3] END max_depth=8, min_samples_leaf=40, min_samples_split=100, n_estimators=100;, score=0.834 total time=   3.4s\n",
            "[CV 1/3] END max_depth=8, min_samples_leaf=40, min_samples_split=150, n_estimators=50;, score=0.846 total time=   1.7s\n",
            "[CV 2/3] END max_depth=8, min_samples_leaf=40, min_samples_split=150, n_estimators=50;, score=0.842 total time=   1.6s\n",
            "[CV 3/3] END max_depth=8, min_samples_leaf=40, min_samples_split=150, n_estimators=50;, score=0.833 total time=   1.6s\n",
            "[CV 1/3] END max_depth=8, min_samples_leaf=40, min_samples_split=150, n_estimators=80;, score=0.847 total time=   2.7s\n",
            "[CV 2/3] END max_depth=8, min_samples_leaf=40, min_samples_split=150, n_estimators=80;, score=0.840 total time=   2.6s\n",
            "[CV 3/3] END max_depth=8, min_samples_leaf=40, min_samples_split=150, n_estimators=80;, score=0.833 total time=   3.3s\n",
            "[CV 1/3] END max_depth=8, min_samples_leaf=40, min_samples_split=150, n_estimators=100;, score=0.847 total time=   3.3s\n",
            "[CV 2/3] END max_depth=8, min_samples_leaf=40, min_samples_split=150, n_estimators=100;, score=0.842 total time=   3.3s\n",
            "[CV 3/3] END max_depth=8, min_samples_leaf=40, min_samples_split=150, n_estimators=100;, score=0.833 total time=   3.4s\n",
            "[CV 1/3] END max_depth=8, min_samples_leaf=60, min_samples_split=50, n_estimators=50;, score=0.847 total time=   1.7s\n",
            "[CV 2/3] END max_depth=8, min_samples_leaf=60, min_samples_split=50, n_estimators=50;, score=0.838 total time=   1.7s\n",
            "[CV 3/3] END max_depth=8, min_samples_leaf=60, min_samples_split=50, n_estimators=50;, score=0.831 total time=   1.7s\n",
            "[CV 1/3] END max_depth=8, min_samples_leaf=60, min_samples_split=50, n_estimators=80;, score=0.846 total time=   2.7s\n",
            "[CV 2/3] END max_depth=8, min_samples_leaf=60, min_samples_split=50, n_estimators=80;, score=0.840 total time=   3.4s\n",
            "[CV 3/3] END max_depth=8, min_samples_leaf=60, min_samples_split=50, n_estimators=80;, score=0.832 total time=   4.1s\n",
            "[CV 1/3] END max_depth=8, min_samples_leaf=60, min_samples_split=50, n_estimators=100;, score=0.846 total time=   5.4s\n",
            "[CV 2/3] END max_depth=8, min_samples_leaf=60, min_samples_split=50, n_estimators=100;, score=0.841 total time=   4.4s\n",
            "[CV 3/3] END max_depth=8, min_samples_leaf=60, min_samples_split=50, n_estimators=100;, score=0.833 total time=   4.6s\n",
            "[CV 1/3] END max_depth=8, min_samples_leaf=60, min_samples_split=100, n_estimators=50;, score=0.846 total time=   1.7s\n",
            "[CV 2/3] END max_depth=8, min_samples_leaf=60, min_samples_split=100, n_estimators=50;, score=0.840 total time=   1.6s\n",
            "[CV 3/3] END max_depth=8, min_samples_leaf=60, min_samples_split=100, n_estimators=50;, score=0.830 total time=   1.7s\n",
            "[CV 1/3] END max_depth=8, min_samples_leaf=60, min_samples_split=100, n_estimators=80;, score=0.846 total time=   2.6s\n",
            "[CV 2/3] END max_depth=8, min_samples_leaf=60, min_samples_split=100, n_estimators=80;, score=0.841 total time=   2.6s\n",
            "[CV 3/3] END max_depth=8, min_samples_leaf=60, min_samples_split=100, n_estimators=80;, score=0.832 total time=   2.7s\n",
            "[CV 1/3] END max_depth=8, min_samples_leaf=60, min_samples_split=100, n_estimators=100;, score=0.847 total time=   5.7s\n",
            "[CV 2/3] END max_depth=8, min_samples_leaf=60, min_samples_split=100, n_estimators=100;, score=0.840 total time=   5.7s\n",
            "[CV 3/3] END max_depth=8, min_samples_leaf=60, min_samples_split=100, n_estimators=100;, score=0.832 total time=   4.4s\n",
            "[CV 1/3] END max_depth=8, min_samples_leaf=60, min_samples_split=150, n_estimators=50;, score=0.845 total time=   1.7s\n",
            "[CV 2/3] END max_depth=8, min_samples_leaf=60, min_samples_split=150, n_estimators=50;, score=0.840 total time=   1.7s\n",
            "[CV 3/3] END max_depth=8, min_samples_leaf=60, min_samples_split=150, n_estimators=50;, score=0.832 total time=   1.7s\n",
            "[CV 1/3] END max_depth=8, min_samples_leaf=60, min_samples_split=150, n_estimators=80;, score=0.846 total time=   2.6s\n",
            "[CV 2/3] END max_depth=8, min_samples_leaf=60, min_samples_split=150, n_estimators=80;, score=0.840 total time=   3.0s\n",
            "[CV 3/3] END max_depth=8, min_samples_leaf=60, min_samples_split=150, n_estimators=80;, score=0.832 total time=   3.9s\n",
            "[CV 1/3] END max_depth=8, min_samples_leaf=60, min_samples_split=150, n_estimators=100;, score=0.846 total time=   3.7s\n",
            "[CV 2/3] END max_depth=8, min_samples_leaf=60, min_samples_split=150, n_estimators=100;, score=0.839 total time=   3.6s\n",
            "[CV 3/3] END max_depth=8, min_samples_leaf=60, min_samples_split=150, n_estimators=100;, score=0.831 total time=   4.9s\n"
          ]
        },
        {
          "output_type": "execute_result",
          "data": {
            "text/plain": [
              "GridSearchCV(cv=3, estimator=RandomForestClassifier(),\n",
              "             param_grid={'max_depth': [4, 6, 8], 'min_samples_leaf': [40, 60],\n",
              "                         'min_samples_split': [50, 100, 150],\n",
              "                         'n_estimators': [50, 80, 100]},\n",
              "             scoring='roc_auc', verbose=3)"
            ]
          },
          "metadata": {},
          "execution_count": 56
        }
      ]
    },
    {
      "cell_type": "code",
      "source": [
        "#Evaluating the model train with random forest\n",
        "print('Train Score:', rf_grid.best_estimator_.score(xtrain,ytrain))\n",
        "print('Test Score :',rf_grid.best_estimator_.score(xtest,ytest))"
      ],
      "metadata": {
        "id": "wduoH3a6J-ct",
        "outputId": "d1af1b62-13d0-4d4f-d347-5cb1618883ff",
        "colab": {
          "base_uri": "https://localhost:8080/"
        }
      },
      "execution_count": null,
      "outputs": [
        {
          "output_type": "stream",
          "name": "stdout",
          "text": [
            "Train Score: 0.7746491791250114\n",
            "Test Score : 0.762037235180826\n"
          ]
        }
      ]
    },
    {
      "cell_type": "code",
      "source": [
        "#Checking best estimator\n",
        "rf_grid.best_params_"
      ],
      "metadata": {
        "id": "tceI2rv4KpkW",
        "outputId": "6cc966c2-993a-4be7-c6d4-d9868e3a8606",
        "colab": {
          "base_uri": "https://localhost:8080/"
        }
      },
      "execution_count": null,
      "outputs": [
        {
          "output_type": "execute_result",
          "data": {
            "text/plain": [
              "{'max_depth': 8,\n",
              " 'min_samples_leaf': 40,\n",
              " 'min_samples_split': 50,\n",
              " 'n_estimators': 80}"
            ]
          },
          "metadata": {},
          "execution_count": 57
        }
      ]
    },
    {
      "cell_type": "markdown",
      "source": [
        "##**Hypertuning XGBoost With GridSearchCV**\n"
      ],
      "metadata": {
        "id": "MpFxSKEUPs4K"
      }
    },
    {
      "cell_type": "code",
      "source": [
        "#Implimenting GridsearchCV with Predefined Parameter\n",
        "xgb_grid = GridSearchCV(estimator=xgb,\n",
        "                        param_grid=param_dict_xgb,\n",
        "                        cv = 3, verbose=3,scoring='roc_auc')\n",
        "\n",
        "#Fitting tuned model with dataset\n",
        "xgb_grid.fit(xtrain,ytrain)"
      ],
      "metadata": {
        "id": "ROp68Vr0LMah",
        "outputId": "6def6a78-e22c-4946-8eee-1cf85ad9d8df",
        "colab": {
          "base_uri": "https://localhost:8080/"
        }
      },
      "execution_count": 59,
      "outputs": [
        {
          "output_type": "stream",
          "name": "stdout",
          "text": [
            "Fitting 3 folds for each of 48 candidates, totalling 144 fits\n",
            "[CV 1/3] END learning_rate=0.1, max_depth=2, n_estimators=60;, score=0.837 total time=   1.1s\n",
            "[CV 2/3] END learning_rate=0.1, max_depth=2, n_estimators=60;, score=0.830 total time=   1.2s\n",
            "[CV 3/3] END learning_rate=0.1, max_depth=2, n_estimators=60;, score=0.823 total time=   1.1s\n",
            "[CV 1/3] END learning_rate=0.1, max_depth=2, n_estimators=100;, score=0.846 total time=   1.8s\n",
            "[CV 2/3] END learning_rate=0.1, max_depth=2, n_estimators=100;, score=0.840 total time=   2.0s\n",
            "[CV 3/3] END learning_rate=0.1, max_depth=2, n_estimators=100;, score=0.831 total time=   2.2s\n",
            "[CV 1/3] END learning_rate=0.1, max_depth=2, n_estimators=140;, score=0.855 total time=   3.1s\n",
            "[CV 2/3] END learning_rate=0.1, max_depth=2, n_estimators=140;, score=0.847 total time=   3.6s\n",
            "[CV 3/3] END learning_rate=0.1, max_depth=2, n_estimators=140;, score=0.838 total time=   3.6s\n",
            "[CV 1/3] END learning_rate=0.1, max_depth=2, n_estimators=180;, score=0.861 total time=   4.9s\n",
            "[CV 2/3] END learning_rate=0.1, max_depth=2, n_estimators=180;, score=0.852 total time=   5.0s\n",
            "[CV 3/3] END learning_rate=0.1, max_depth=2, n_estimators=180;, score=0.844 total time=   3.8s\n",
            "[CV 1/3] END learning_rate=0.1, max_depth=10, n_estimators=60;, score=0.901 total time=   6.2s\n",
            "[CV 2/3] END learning_rate=0.1, max_depth=10, n_estimators=60;, score=0.895 total time=   6.3s\n",
            "[CV 3/3] END learning_rate=0.1, max_depth=10, n_estimators=60;, score=0.887 total time=   6.3s\n",
            "[CV 1/3] END learning_rate=0.1, max_depth=10, n_estimators=100;, score=0.909 total time=   9.8s\n",
            "[CV 2/3] END learning_rate=0.1, max_depth=10, n_estimators=100;, score=0.902 total time=  13.6s\n",
            "[CV 3/3] END learning_rate=0.1, max_depth=10, n_estimators=100;, score=0.895 total time=  21.4s\n",
            "[CV 1/3] END learning_rate=0.1, max_depth=10, n_estimators=140;, score=0.914 total time=  22.2s\n",
            "[CV 2/3] END learning_rate=0.1, max_depth=10, n_estimators=140;, score=0.907 total time=  22.4s\n",
            "[CV 3/3] END learning_rate=0.1, max_depth=10, n_estimators=140;, score=0.900 total time=  22.6s\n",
            "[CV 1/3] END learning_rate=0.1, max_depth=10, n_estimators=180;, score=0.915 total time=  25.4s\n",
            "[CV 2/3] END learning_rate=0.1, max_depth=10, n_estimators=180;, score=0.909 total time=  24.0s\n",
            "[CV 3/3] END learning_rate=0.1, max_depth=10, n_estimators=180;, score=0.902 total time=  18.0s\n",
            "[CV 1/3] END learning_rate=0.1, max_depth=1, n_estimators=60;, score=0.808 total time=   0.7s\n",
            "[CV 2/3] END learning_rate=0.1, max_depth=1, n_estimators=60;, score=0.803 total time=   0.7s\n",
            "[CV 3/3] END learning_rate=0.1, max_depth=1, n_estimators=60;, score=0.794 total time=   0.7s\n",
            "[CV 1/3] END learning_rate=0.1, max_depth=1, n_estimators=100;, score=0.814 total time=   1.1s\n",
            "[CV 2/3] END learning_rate=0.1, max_depth=1, n_estimators=100;, score=0.810 total time=   1.1s\n",
            "[CV 3/3] END learning_rate=0.1, max_depth=1, n_estimators=100;, score=0.801 total time=   1.1s\n",
            "[CV 1/3] END learning_rate=0.1, max_depth=1, n_estimators=140;, score=0.818 total time=   1.5s\n",
            "[CV 2/3] END learning_rate=0.1, max_depth=1, n_estimators=140;, score=0.815 total time=   1.5s\n",
            "[CV 3/3] END learning_rate=0.1, max_depth=1, n_estimators=140;, score=0.805 total time=   1.5s\n",
            "[CV 1/3] END learning_rate=0.1, max_depth=1, n_estimators=180;, score=0.822 total time=   2.0s\n",
            "[CV 2/3] END learning_rate=0.1, max_depth=1, n_estimators=180;, score=0.818 total time=   2.0s\n",
            "[CV 3/3] END learning_rate=0.1, max_depth=1, n_estimators=180;, score=0.808 total time=   2.0s\n",
            "[CV 1/3] END learning_rate=0.05, max_depth=2, n_estimators=60;, score=0.827 total time=   1.1s\n",
            "[CV 2/3] END learning_rate=0.05, max_depth=2, n_estimators=60;, score=0.820 total time=   1.1s\n",
            "[CV 3/3] END learning_rate=0.05, max_depth=2, n_estimators=60;, score=0.812 total time=   1.1s\n",
            "[CV 1/3] END learning_rate=0.05, max_depth=2, n_estimators=100;, score=0.834 total time=   1.8s\n",
            "[CV 2/3] END learning_rate=0.05, max_depth=2, n_estimators=100;, score=0.828 total time=   1.8s\n",
            "[CV 3/3] END learning_rate=0.05, max_depth=2, n_estimators=100;, score=0.820 total time=   1.8s\n",
            "[CV 1/3] END learning_rate=0.05, max_depth=2, n_estimators=140;, score=0.839 total time=   2.4s\n",
            "[CV 2/3] END learning_rate=0.05, max_depth=2, n_estimators=140;, score=0.833 total time=   2.5s\n",
            "[CV 3/3] END learning_rate=0.05, max_depth=2, n_estimators=140;, score=0.825 total time=   2.5s\n",
            "[CV 1/3] END learning_rate=0.05, max_depth=2, n_estimators=180;, score=0.844 total time=   3.2s\n",
            "[CV 2/3] END learning_rate=0.05, max_depth=2, n_estimators=180;, score=0.838 total time=   3.2s\n",
            "[CV 3/3] END learning_rate=0.05, max_depth=2, n_estimators=180;, score=0.829 total time=   3.2s\n",
            "[CV 1/3] END learning_rate=0.05, max_depth=10, n_estimators=60;, score=0.889 total time=   6.5s\n",
            "[CV 2/3] END learning_rate=0.05, max_depth=10, n_estimators=60;, score=0.882 total time=   6.6s\n",
            "[CV 3/3] END learning_rate=0.05, max_depth=10, n_estimators=60;, score=0.874 total time=   6.6s\n",
            "[CV 1/3] END learning_rate=0.05, max_depth=10, n_estimators=100;, score=0.900 total time=  10.5s\n",
            "[CV 2/3] END learning_rate=0.05, max_depth=10, n_estimators=100;, score=0.892 total time=  10.6s\n",
            "[CV 3/3] END learning_rate=0.05, max_depth=10, n_estimators=100;, score=0.885 total time=  10.5s\n",
            "[CV 1/3] END learning_rate=0.05, max_depth=10, n_estimators=140;, score=0.905 total time=  14.3s\n",
            "[CV 2/3] END learning_rate=0.05, max_depth=10, n_estimators=140;, score=0.898 total time=  14.3s\n",
            "[CV 3/3] END learning_rate=0.05, max_depth=10, n_estimators=140;, score=0.890 total time=  14.1s\n",
            "[CV 1/3] END learning_rate=0.05, max_depth=10, n_estimators=180;, score=0.909 total time=  18.0s\n",
            "[CV 2/3] END learning_rate=0.05, max_depth=10, n_estimators=180;, score=0.902 total time=  18.1s\n",
            "[CV 3/3] END learning_rate=0.05, max_depth=10, n_estimators=180;, score=0.895 total time=  17.7s\n",
            "[CV 1/3] END learning_rate=0.05, max_depth=1, n_estimators=60;, score=0.795 total time=   0.7s\n",
            "[CV 2/3] END learning_rate=0.05, max_depth=1, n_estimators=60;, score=0.789 total time=   0.7s\n",
            "[CV 3/3] END learning_rate=0.05, max_depth=1, n_estimators=60;, score=0.782 total time=   0.7s\n",
            "[CV 1/3] END learning_rate=0.05, max_depth=1, n_estimators=100;, score=0.806 total time=   1.2s\n",
            "[CV 2/3] END learning_rate=0.05, max_depth=1, n_estimators=100;, score=0.799 total time=   1.2s\n",
            "[CV 3/3] END learning_rate=0.05, max_depth=1, n_estimators=100;, score=0.792 total time=   1.1s\n",
            "[CV 1/3] END learning_rate=0.05, max_depth=1, n_estimators=140;, score=0.810 total time=   1.5s\n",
            "[CV 2/3] END learning_rate=0.05, max_depth=1, n_estimators=140;, score=0.805 total time=   1.6s\n",
            "[CV 3/3] END learning_rate=0.05, max_depth=1, n_estimators=140;, score=0.797 total time=   1.6s\n",
            "[CV 1/3] END learning_rate=0.05, max_depth=1, n_estimators=180;, score=0.812 total time=   2.0s\n",
            "[CV 2/3] END learning_rate=0.05, max_depth=1, n_estimators=180;, score=0.809 total time=   2.0s\n",
            "[CV 3/3] END learning_rate=0.05, max_depth=1, n_estimators=180;, score=0.800 total time=   2.0s\n",
            "[CV 1/3] END learning_rate=0.005, max_depth=2, n_estimators=60;, score=0.780 total time=   1.1s\n",
            "[CV 2/3] END learning_rate=0.005, max_depth=2, n_estimators=60;, score=0.763 total time=   1.1s\n",
            "[CV 3/3] END learning_rate=0.005, max_depth=2, n_estimators=60;, score=0.764 total time=   1.1s\n",
            "[CV 1/3] END learning_rate=0.005, max_depth=2, n_estimators=100;, score=0.784 total time=   1.8s\n",
            "[CV 2/3] END learning_rate=0.005, max_depth=2, n_estimators=100;, score=0.782 total time=   1.8s\n",
            "[CV 3/3] END learning_rate=0.005, max_depth=2, n_estimators=100;, score=0.773 total time=   1.8s\n",
            "[CV 1/3] END learning_rate=0.005, max_depth=2, n_estimators=140;, score=0.793 total time=   2.5s\n",
            "[CV 2/3] END learning_rate=0.005, max_depth=2, n_estimators=140;, score=0.786 total time=   2.5s\n",
            "[CV 3/3] END learning_rate=0.005, max_depth=2, n_estimators=140;, score=0.775 total time=   2.5s\n",
            "[CV 1/3] END learning_rate=0.005, max_depth=2, n_estimators=180;, score=0.799 total time=   3.2s\n",
            "[CV 2/3] END learning_rate=0.005, max_depth=2, n_estimators=180;, score=0.792 total time=   3.2s\n",
            "[CV 3/3] END learning_rate=0.005, max_depth=2, n_estimators=180;, score=0.781 total time=   3.2s\n",
            "[CV 1/3] END learning_rate=0.005, max_depth=10, n_estimators=60;, score=0.848 total time=   6.7s\n",
            "[CV 2/3] END learning_rate=0.005, max_depth=10, n_estimators=60;, score=0.837 total time=   6.6s\n",
            "[CV 3/3] END learning_rate=0.005, max_depth=10, n_estimators=60;, score=0.838 total time=   6.8s\n",
            "[CV 1/3] END learning_rate=0.005, max_depth=10, n_estimators=100;, score=0.853 total time=  11.2s\n",
            "[CV 2/3] END learning_rate=0.005, max_depth=10, n_estimators=100;, score=0.844 total time=  11.0s\n",
            "[CV 3/3] END learning_rate=0.005, max_depth=10, n_estimators=100;, score=0.844 total time=  11.2s\n",
            "[CV 1/3] END learning_rate=0.005, max_depth=10, n_estimators=140;, score=0.859 total time=  15.5s\n",
            "[CV 2/3] END learning_rate=0.005, max_depth=10, n_estimators=140;, score=0.848 total time=  15.3s\n",
            "[CV 3/3] END learning_rate=0.005, max_depth=10, n_estimators=140;, score=0.848 total time=  15.6s\n",
            "[CV 1/3] END learning_rate=0.005, max_depth=10, n_estimators=180;, score=0.862 total time=  19.8s\n",
            "[CV 2/3] END learning_rate=0.005, max_depth=10, n_estimators=180;, score=0.853 total time=  19.6s\n",
            "[CV 3/3] END learning_rate=0.005, max_depth=10, n_estimators=180;, score=0.850 total time=  19.8s\n",
            "[CV 1/3] END learning_rate=0.005, max_depth=1, n_estimators=60;, score=0.685 total time=   0.7s\n",
            "[CV 2/3] END learning_rate=0.005, max_depth=1, n_estimators=60;, score=0.688 total time=   0.7s\n",
            "[CV 3/3] END learning_rate=0.005, max_depth=1, n_estimators=60;, score=0.681 total time=   0.7s\n",
            "[CV 1/3] END learning_rate=0.005, max_depth=1, n_estimators=100;, score=0.685 total time=   1.1s\n",
            "[CV 2/3] END learning_rate=0.005, max_depth=1, n_estimators=100;, score=0.688 total time=   1.1s\n",
            "[CV 3/3] END learning_rate=0.005, max_depth=1, n_estimators=100;, score=0.684 total time=   1.1s\n",
            "[CV 1/3] END learning_rate=0.005, max_depth=1, n_estimators=140;, score=0.743 total time=   1.5s\n",
            "[CV 2/3] END learning_rate=0.005, max_depth=1, n_estimators=140;, score=0.740 total time=   1.5s\n",
            "[CV 3/3] END learning_rate=0.005, max_depth=1, n_estimators=140;, score=0.726 total time=   1.5s\n",
            "[CV 1/3] END learning_rate=0.005, max_depth=1, n_estimators=180;, score=0.768 total time=   1.9s\n",
            "[CV 2/3] END learning_rate=0.005, max_depth=1, n_estimators=180;, score=0.764 total time=   1.9s\n",
            "[CV 3/3] END learning_rate=0.005, max_depth=1, n_estimators=180;, score=0.749 total time=   1.9s\n",
            "[CV 1/3] END learning_rate=0.0005, max_depth=2, n_estimators=60;, score=0.727 total time=   1.1s\n",
            "[CV 2/3] END learning_rate=0.0005, max_depth=2, n_estimators=60;, score=0.735 total time=   1.1s\n",
            "[CV 3/3] END learning_rate=0.0005, max_depth=2, n_estimators=60;, score=0.716 total time=   1.1s\n",
            "[CV 1/3] END learning_rate=0.0005, max_depth=2, n_estimators=100;, score=0.727 total time=   1.8s\n",
            "[CV 2/3] END learning_rate=0.0005, max_depth=2, n_estimators=100;, score=0.735 total time=   1.8s\n",
            "[CV 3/3] END learning_rate=0.0005, max_depth=2, n_estimators=100;, score=0.716 total time=   1.8s\n",
            "[CV 1/3] END learning_rate=0.0005, max_depth=2, n_estimators=140;, score=0.755 total time=   2.4s\n",
            "[CV 2/3] END learning_rate=0.0005, max_depth=2, n_estimators=140;, score=0.746 total time=   2.4s\n",
            "[CV 3/3] END learning_rate=0.0005, max_depth=2, n_estimators=140;, score=0.741 total time=   2.4s\n",
            "[CV 1/3] END learning_rate=0.0005, max_depth=2, n_estimators=180;, score=0.764 total time=   3.1s\n",
            "[CV 2/3] END learning_rate=0.0005, max_depth=2, n_estimators=180;, score=0.751 total time=   3.1s\n",
            "[CV 3/3] END learning_rate=0.0005, max_depth=2, n_estimators=180;, score=0.748 total time=   3.2s\n",
            "[CV 1/3] END learning_rate=0.0005, max_depth=10, n_estimators=60;, score=0.828 total time=   6.6s\n",
            "[CV 2/3] END learning_rate=0.0005, max_depth=10, n_estimators=60;, score=0.820 total time=   6.6s\n",
            "[CV 3/3] END learning_rate=0.0005, max_depth=10, n_estimators=60;, score=0.822 total time=   6.8s\n",
            "[CV 1/3] END learning_rate=0.0005, max_depth=10, n_estimators=100;, score=0.830 total time=  11.1s\n",
            "[CV 2/3] END learning_rate=0.0005, max_depth=10, n_estimators=100;, score=0.822 total time=  11.0s\n",
            "[CV 3/3] END learning_rate=0.0005, max_depth=10, n_estimators=100;, score=0.825 total time=  11.2s\n",
            "[CV 1/3] END learning_rate=0.0005, max_depth=10, n_estimators=140;, score=0.833 total time=  15.5s\n",
            "[CV 2/3] END learning_rate=0.0005, max_depth=10, n_estimators=140;, score=0.824 total time=  15.5s\n",
            "[CV 3/3] END learning_rate=0.0005, max_depth=10, n_estimators=140;, score=0.828 total time=  15.6s\n",
            "[CV 1/3] END learning_rate=0.0005, max_depth=10, n_estimators=180;, score=0.835 total time=  19.8s\n",
            "[CV 2/3] END learning_rate=0.0005, max_depth=10, n_estimators=180;, score=0.825 total time=  19.9s\n",
            "[CV 3/3] END learning_rate=0.0005, max_depth=10, n_estimators=180;, score=0.829 total time=  20.1s\n",
            "[CV 1/3] END learning_rate=0.0005, max_depth=1, n_estimators=60;, score=0.657 total time=   0.7s\n",
            "[CV 2/3] END learning_rate=0.0005, max_depth=1, n_estimators=60;, score=0.640 total time=   0.7s\n",
            "[CV 3/3] END learning_rate=0.0005, max_depth=1, n_estimators=60;, score=0.681 total time=   0.7s\n",
            "[CV 1/3] END learning_rate=0.0005, max_depth=1, n_estimators=100;, score=0.685 total time=   1.1s\n",
            "[CV 2/3] END learning_rate=0.0005, max_depth=1, n_estimators=100;, score=0.640 total time=   1.1s\n",
            "[CV 3/3] END learning_rate=0.0005, max_depth=1, n_estimators=100;, score=0.681 total time=   1.1s\n",
            "[CV 1/3] END learning_rate=0.0005, max_depth=1, n_estimators=140;, score=0.685 total time=   1.5s\n",
            "[CV 2/3] END learning_rate=0.0005, max_depth=1, n_estimators=140;, score=0.640 total time=   1.5s\n",
            "[CV 3/3] END learning_rate=0.0005, max_depth=1, n_estimators=140;, score=0.681 total time=   1.5s\n",
            "[CV 1/3] END learning_rate=0.0005, max_depth=1, n_estimators=180;, score=0.685 total time=   1.9s\n",
            "[CV 2/3] END learning_rate=0.0005, max_depth=1, n_estimators=180;, score=0.688 total time=   1.9s\n",
            "[CV 3/3] END learning_rate=0.0005, max_depth=1, n_estimators=180;, score=0.681 total time=   1.9s\n"
          ]
        },
        {
          "output_type": "execute_result",
          "data": {
            "text/plain": [
              "GridSearchCV(cv=3, estimator=XGBClassifier(),\n",
              "             param_grid={'learning_rate': [0.1, 0.05, 0.005, 0.0005],\n",
              "                         'max_depth': [2, 10, 1],\n",
              "                         'n_estimators': range(60, 220, 40)},\n",
              "             scoring='roc_auc', verbose=3)"
            ]
          },
          "metadata": {},
          "execution_count": 59
        }
      ]
    },
    {
      "cell_type": "code",
      "source": [
        "#Evaluating the tranined model\n",
        "print('Train Score:',xgb_grid.best_estimator_.score(xtrain,ytrain))\n",
        "print('Test Score :',xgb_grid.best_estimator_.score(xtest,ytest))"
      ],
      "metadata": {
        "id": "cJ2zvhtYL4SX",
        "colab": {
          "base_uri": "https://localhost:8080/"
        },
        "outputId": "3b1121df-b3ab-493b-92ed-ff96d0cb6453"
      },
      "execution_count": 60,
      "outputs": [
        {
          "output_type": "stream",
          "name": "stdout",
          "text": [
            "Train Score: 0.9737992601424684\n",
            "Test Score : 0.8390755403381126\n"
          ]
        }
      ]
    },
    {
      "cell_type": "code",
      "source": [
        "#Checking best params\n",
        "xgb_grid.best_params_"
      ],
      "metadata": {
        "id": "0Jq97jDhMnBq",
        "colab": {
          "base_uri": "https://localhost:8080/"
        },
        "outputId": "e1bc88bf-d02b-450f-f8b6-03a3a2fc42fd"
      },
      "execution_count": 61,
      "outputs": [
        {
          "output_type": "execute_result",
          "data": {
            "text/plain": [
              "{'learning_rate': 0.1, 'max_depth': 10, 'n_estimators': 180}"
            ]
          },
          "metadata": {},
          "execution_count": 61
        }
      ]
    },
    {
      "cell_type": "markdown",
      "source": [
        "##**Hypertuning Support Vector Machine With GridSearchCV**\n"
      ],
      "metadata": {
        "id": "Q70V1A2-P3o4"
      }
    },
    {
      "cell_type": "code",
      "source": [
        "#Implimenting Gridsearchcv with SVM\n",
        "svm_grid = GridSearchCV(estimator=svm,\n",
        "                        param_grid=param_dict_svm,\n",
        "                        cv=3,verbose=3,scoring='roc_auc')\n",
        "\n",
        "#Fitting tuned model with datasets\n",
        "svm_grid.fit(xtrain,ytrain)"
      ],
      "metadata": {
        "id": "mHmulzLuMvuC",
        "colab": {
          "base_uri": "https://localhost:8080/"
        },
        "outputId": "45102df9-b9f6-4f4d-9d51-071c826d89bf"
      },
      "execution_count": 62,
      "outputs": [
        {
          "output_type": "stream",
          "name": "stdout",
          "text": [
            "Fitting 3 folds for each of 100 candidates, totalling 300 fits\n",
            "[CV 1/3] END ........C=0.1, gamma=1, kernel=rbf;, score=0.520 total time= 1.0min\n",
            "[CV 2/3] END ........C=0.1, gamma=1, kernel=rbf;, score=0.520 total time=  43.3s\n",
            "[CV 3/3] END ........C=0.1, gamma=1, kernel=rbf;, score=0.522 total time=  43.8s\n",
            "[CV 1/3] END ...C=0.1, gamma=1, kernel=Polynomial;, score=nan total time=   0.0s\n",
            "[CV 2/3] END ...C=0.1, gamma=1, kernel=Polynomial;, score=nan total time=   0.0s\n",
            "[CV 3/3] END ...C=0.1, gamma=1, kernel=Polynomial;, score=nan total time=   0.0s\n",
            "[CV 1/3] END ......C=0.1, gamma=1, kernel=Sigmoid;, score=nan total time=   0.0s\n",
            "[CV 2/3] END ......C=0.1, gamma=1, kernel=Sigmoid;, score=nan total time=   0.0s\n",
            "[CV 3/3] END ......C=0.1, gamma=1, kernel=Sigmoid;, score=nan total time=   0.0s\n",
            "[CV 1/3] END .......C=0.1, gamma=1, kernel=Linear;, score=nan total time=   0.0s\n",
            "[CV 2/3] END .......C=0.1, gamma=1, kernel=Linear;, score=nan total time=   0.0s\n",
            "[CV 3/3] END .......C=0.1, gamma=1, kernel=Linear;, score=nan total time=   0.0s\n",
            "[CV 1/3] END ......C=0.1, gamma=0.1, kernel=rbf;, score=0.521 total time=  43.6s\n",
            "[CV 2/3] END ......C=0.1, gamma=0.1, kernel=rbf;, score=0.522 total time=  44.0s\n",
            "[CV 3/3] END ......C=0.1, gamma=0.1, kernel=rbf;, score=0.524 total time=  43.2s\n",
            "[CV 1/3] END .C=0.1, gamma=0.1, kernel=Polynomial;, score=nan total time=   0.0s\n",
            "[CV 2/3] END .C=0.1, gamma=0.1, kernel=Polynomial;, score=nan total time=   0.0s\n",
            "[CV 3/3] END .C=0.1, gamma=0.1, kernel=Polynomial;, score=nan total time=   0.0s\n",
            "[CV 1/3] END ....C=0.1, gamma=0.1, kernel=Sigmoid;, score=nan total time=   0.0s\n",
            "[CV 2/3] END ....C=0.1, gamma=0.1, kernel=Sigmoid;, score=nan total time=   0.0s\n",
            "[CV 3/3] END ....C=0.1, gamma=0.1, kernel=Sigmoid;, score=nan total time=   0.0s\n",
            "[CV 1/3] END .....C=0.1, gamma=0.1, kernel=Linear;, score=nan total time=   0.0s\n",
            "[CV 2/3] END .....C=0.1, gamma=0.1, kernel=Linear;, score=nan total time=   0.0s\n",
            "[CV 3/3] END .....C=0.1, gamma=0.1, kernel=Linear;, score=nan total time=   0.0s\n",
            "[CV 1/3] END .....C=0.1, gamma=0.01, kernel=rbf;, score=0.529 total time=  43.6s\n",
            "[CV 2/3] END .....C=0.1, gamma=0.01, kernel=rbf;, score=0.532 total time=  45.1s\n",
            "[CV 3/3] END .....C=0.1, gamma=0.01, kernel=rbf;, score=0.531 total time=  46.1s\n",
            "[CV 1/3] END C=0.1, gamma=0.01, kernel=Polynomial;, score=nan total time=   0.0s\n",
            "[CV 2/3] END C=0.1, gamma=0.01, kernel=Polynomial;, score=nan total time=   0.0s\n",
            "[CV 3/3] END C=0.1, gamma=0.01, kernel=Polynomial;, score=nan total time=   0.0s\n",
            "[CV 1/3] END ...C=0.1, gamma=0.01, kernel=Sigmoid;, score=nan total time=   0.0s\n",
            "[CV 2/3] END ...C=0.1, gamma=0.01, kernel=Sigmoid;, score=nan total time=   0.0s\n",
            "[CV 3/3] END ...C=0.1, gamma=0.01, kernel=Sigmoid;, score=nan total time=   0.0s\n",
            "[CV 1/3] END ....C=0.1, gamma=0.01, kernel=Linear;, score=nan total time=   0.0s\n",
            "[CV 2/3] END ....C=0.1, gamma=0.01, kernel=Linear;, score=nan total time=   0.0s\n",
            "[CV 3/3] END ....C=0.1, gamma=0.01, kernel=Linear;, score=nan total time=   0.0s\n",
            "[CV 1/3] END ....C=0.1, gamma=0.001, kernel=rbf;, score=0.557 total time=  47.9s\n",
            "[CV 2/3] END ....C=0.1, gamma=0.001, kernel=rbf;, score=0.556 total time=  46.2s\n",
            "[CV 3/3] END ....C=0.1, gamma=0.001, kernel=rbf;, score=0.556 total time=  52.8s\n",
            "[CV 1/3] END C=0.1, gamma=0.001, kernel=Polynomial;, score=nan total time=   0.0s\n",
            "[CV 2/3] END C=0.1, gamma=0.001, kernel=Polynomial;, score=nan total time=   0.0s\n",
            "[CV 3/3] END C=0.1, gamma=0.001, kernel=Polynomial;, score=nan total time=   0.0s\n",
            "[CV 1/3] END ..C=0.1, gamma=0.001, kernel=Sigmoid;, score=nan total time=   0.0s\n",
            "[CV 2/3] END ..C=0.1, gamma=0.001, kernel=Sigmoid;, score=nan total time=   0.0s\n",
            "[CV 3/3] END ..C=0.1, gamma=0.001, kernel=Sigmoid;, score=nan total time=   0.0s\n",
            "[CV 1/3] END ...C=0.1, gamma=0.001, kernel=Linear;, score=nan total time=   0.0s\n",
            "[CV 2/3] END ...C=0.1, gamma=0.001, kernel=Linear;, score=nan total time=   0.0s\n",
            "[CV 3/3] END ...C=0.1, gamma=0.001, kernel=Linear;, score=nan total time=   0.0s\n",
            "[CV 1/3] END ...C=0.1, gamma=0.0001, kernel=rbf;, score=0.618 total time=  50.9s\n",
            "[CV 2/3] END ...C=0.1, gamma=0.0001, kernel=rbf;, score=0.618 total time=  47.4s\n",
            "[CV 3/3] END ...C=0.1, gamma=0.0001, kernel=rbf;, score=0.616 total time=  57.5s\n",
            "[CV 1/3] END C=0.1, gamma=0.0001, kernel=Polynomial;, score=nan total time=   0.0s\n",
            "[CV 2/3] END C=0.1, gamma=0.0001, kernel=Polynomial;, score=nan total time=   0.0s\n",
            "[CV 3/3] END C=0.1, gamma=0.0001, kernel=Polynomial;, score=nan total time=   0.0s\n",
            "[CV 1/3] END .C=0.1, gamma=0.0001, kernel=Sigmoid;, score=nan total time=   0.0s\n",
            "[CV 2/3] END .C=0.1, gamma=0.0001, kernel=Sigmoid;, score=nan total time=   0.0s\n",
            "[CV 3/3] END .C=0.1, gamma=0.0001, kernel=Sigmoid;, score=nan total time=   0.0s\n",
            "[CV 1/3] END ..C=0.1, gamma=0.0001, kernel=Linear;, score=nan total time=   0.0s\n",
            "[CV 2/3] END ..C=0.1, gamma=0.0001, kernel=Linear;, score=nan total time=   0.0s\n",
            "[CV 3/3] END ..C=0.1, gamma=0.0001, kernel=Linear;, score=nan total time=   0.0s\n",
            "[CV 1/3] END ..........C=1, gamma=1, kernel=rbf;, score=0.520 total time= 1.3min\n",
            "[CV 2/3] END ..........C=1, gamma=1, kernel=rbf;, score=0.520 total time= 1.3min\n",
            "[CV 3/3] END ..........C=1, gamma=1, kernel=rbf;, score=0.522 total time= 1.3min\n",
            "[CV 1/3] END .....C=1, gamma=1, kernel=Polynomial;, score=nan total time=   0.0s\n",
            "[CV 2/3] END .....C=1, gamma=1, kernel=Polynomial;, score=nan total time=   0.0s\n",
            "[CV 3/3] END .....C=1, gamma=1, kernel=Polynomial;, score=nan total time=   0.0s\n",
            "[CV 1/3] END ........C=1, gamma=1, kernel=Sigmoid;, score=nan total time=   0.0s\n",
            "[CV 2/3] END ........C=1, gamma=1, kernel=Sigmoid;, score=nan total time=   0.0s\n",
            "[CV 3/3] END ........C=1, gamma=1, kernel=Sigmoid;, score=nan total time=   0.0s\n",
            "[CV 1/3] END .........C=1, gamma=1, kernel=Linear;, score=nan total time=   0.0s\n",
            "[CV 2/3] END .........C=1, gamma=1, kernel=Linear;, score=nan total time=   0.0s\n",
            "[CV 3/3] END .........C=1, gamma=1, kernel=Linear;, score=nan total time=   0.0s\n",
            "[CV 1/3] END ........C=1, gamma=0.1, kernel=rbf;, score=0.521 total time= 1.5min\n",
            "[CV 2/3] END ........C=1, gamma=0.1, kernel=rbf;, score=0.522 total time= 1.8min\n",
            "[CV 3/3] END ........C=1, gamma=0.1, kernel=rbf;, score=0.526 total time= 1.5min\n",
            "[CV 1/3] END ...C=1, gamma=0.1, kernel=Polynomial;, score=nan total time=   0.0s\n",
            "[CV 2/3] END ...C=1, gamma=0.1, kernel=Polynomial;, score=nan total time=   0.0s\n",
            "[CV 3/3] END ...C=1, gamma=0.1, kernel=Polynomial;, score=nan total time=   0.0s\n",
            "[CV 1/3] END ......C=1, gamma=0.1, kernel=Sigmoid;, score=nan total time=   0.0s\n",
            "[CV 2/3] END ......C=1, gamma=0.1, kernel=Sigmoid;, score=nan total time=   0.0s\n",
            "[CV 3/3] END ......C=1, gamma=0.1, kernel=Sigmoid;, score=nan total time=   0.0s\n",
            "[CV 1/3] END .......C=1, gamma=0.1, kernel=Linear;, score=nan total time=   0.0s\n",
            "[CV 2/3] END .......C=1, gamma=0.1, kernel=Linear;, score=nan total time=   0.0s\n",
            "[CV 3/3] END .......C=1, gamma=0.1, kernel=Linear;, score=nan total time=   0.0s\n",
            "[CV 1/3] END .......C=1, gamma=0.01, kernel=rbf;, score=0.529 total time= 1.5min\n",
            "[CV 2/3] END .......C=1, gamma=0.01, kernel=rbf;, score=0.533 total time= 1.5min\n",
            "[CV 3/3] END .......C=1, gamma=0.01, kernel=rbf;, score=0.533 total time= 1.5min\n",
            "[CV 1/3] END ..C=1, gamma=0.01, kernel=Polynomial;, score=nan total time=   0.0s\n",
            "[CV 2/3] END ..C=1, gamma=0.01, kernel=Polynomial;, score=nan total time=   0.0s\n",
            "[CV 3/3] END ..C=1, gamma=0.01, kernel=Polynomial;, score=nan total time=   0.0s\n",
            "[CV 1/3] END .....C=1, gamma=0.01, kernel=Sigmoid;, score=nan total time=   0.0s\n",
            "[CV 2/3] END .....C=1, gamma=0.01, kernel=Sigmoid;, score=nan total time=   0.0s\n",
            "[CV 3/3] END .....C=1, gamma=0.01, kernel=Sigmoid;, score=nan total time=   0.0s\n",
            "[CV 1/3] END ......C=1, gamma=0.01, kernel=Linear;, score=nan total time=   0.0s\n",
            "[CV 2/3] END ......C=1, gamma=0.01, kernel=Linear;, score=nan total time=   0.0s\n",
            "[CV 3/3] END ......C=1, gamma=0.01, kernel=Linear;, score=nan total time=   0.0s\n",
            "[CV 1/3] END ......C=1, gamma=0.001, kernel=rbf;, score=0.558 total time= 1.6min\n",
            "[CV 2/3] END ......C=1, gamma=0.001, kernel=rbf;, score=0.559 total time= 1.6min\n",
            "[CV 3/3] END ......C=1, gamma=0.001, kernel=rbf;, score=0.558 total time= 1.6min\n",
            "[CV 1/3] END .C=1, gamma=0.001, kernel=Polynomial;, score=nan total time=   0.0s\n",
            "[CV 2/3] END .C=1, gamma=0.001, kernel=Polynomial;, score=nan total time=   0.0s\n",
            "[CV 3/3] END .C=1, gamma=0.001, kernel=Polynomial;, score=nan total time=   0.0s\n",
            "[CV 1/3] END ....C=1, gamma=0.001, kernel=Sigmoid;, score=nan total time=   0.0s\n",
            "[CV 2/3] END ....C=1, gamma=0.001, kernel=Sigmoid;, score=nan total time=   0.0s\n",
            "[CV 3/3] END ....C=1, gamma=0.001, kernel=Sigmoid;, score=nan total time=   0.0s\n",
            "[CV 1/3] END .....C=1, gamma=0.001, kernel=Linear;, score=nan total time=   0.0s\n",
            "[CV 2/3] END .....C=1, gamma=0.001, kernel=Linear;, score=nan total time=   0.0s\n",
            "[CV 3/3] END .....C=1, gamma=0.001, kernel=Linear;, score=nan total time=   0.0s\n",
            "[CV 1/3] END .....C=1, gamma=0.0001, kernel=rbf;, score=0.625 total time= 1.6min\n",
            "[CV 2/3] END .....C=1, gamma=0.0001, kernel=rbf;, score=0.624 total time= 1.6min\n",
            "[CV 3/3] END .....C=1, gamma=0.0001, kernel=rbf;, score=0.620 total time= 1.7min\n",
            "[CV 1/3] END C=1, gamma=0.0001, kernel=Polynomial;, score=nan total time=   0.0s\n",
            "[CV 2/3] END C=1, gamma=0.0001, kernel=Polynomial;, score=nan total time=   0.0s\n",
            "[CV 3/3] END C=1, gamma=0.0001, kernel=Polynomial;, score=nan total time=   0.0s\n",
            "[CV 1/3] END ...C=1, gamma=0.0001, kernel=Sigmoid;, score=nan total time=   0.0s\n",
            "[CV 2/3] END ...C=1, gamma=0.0001, kernel=Sigmoid;, score=nan total time=   0.0s\n",
            "[CV 3/3] END ...C=1, gamma=0.0001, kernel=Sigmoid;, score=nan total time=   0.0s\n",
            "[CV 1/3] END ....C=1, gamma=0.0001, kernel=Linear;, score=nan total time=   0.0s\n",
            "[CV 2/3] END ....C=1, gamma=0.0001, kernel=Linear;, score=nan total time=   0.0s\n",
            "[CV 3/3] END ....C=1, gamma=0.0001, kernel=Linear;, score=nan total time=   0.0s\n",
            "[CV 1/3] END .........C=10, gamma=1, kernel=rbf;, score=0.520 total time= 1.9min\n",
            "[CV 2/3] END .........C=10, gamma=1, kernel=rbf;, score=0.520 total time= 1.9min\n",
            "[CV 3/3] END .........C=10, gamma=1, kernel=rbf;, score=0.522 total time= 1.8min\n",
            "[CV 1/3] END ....C=10, gamma=1, kernel=Polynomial;, score=nan total time=   0.0s\n",
            "[CV 2/3] END ....C=10, gamma=1, kernel=Polynomial;, score=nan total time=   0.0s\n",
            "[CV 3/3] END ....C=10, gamma=1, kernel=Polynomial;, score=nan total time=   0.0s\n",
            "[CV 1/3] END .......C=10, gamma=1, kernel=Sigmoid;, score=nan total time=   0.0s\n",
            "[CV 2/3] END .......C=10, gamma=1, kernel=Sigmoid;, score=nan total time=   0.0s\n",
            "[CV 3/3] END .......C=10, gamma=1, kernel=Sigmoid;, score=nan total time=   0.0s\n",
            "[CV 1/3] END ........C=10, gamma=1, kernel=Linear;, score=nan total time=   0.0s\n",
            "[CV 2/3] END ........C=10, gamma=1, kernel=Linear;, score=nan total time=   0.0s\n",
            "[CV 3/3] END ........C=10, gamma=1, kernel=Linear;, score=nan total time=   0.0s\n",
            "[CV 1/3] END .......C=10, gamma=0.1, kernel=rbf;, score=0.523 total time= 2.1min\n",
            "[CV 2/3] END .......C=10, gamma=0.1, kernel=rbf;, score=0.524 total time= 2.1min\n",
            "[CV 3/3] END .......C=10, gamma=0.1, kernel=rbf;, score=0.526 total time= 2.1min\n",
            "[CV 1/3] END ..C=10, gamma=0.1, kernel=Polynomial;, score=nan total time=   0.0s\n",
            "[CV 2/3] END ..C=10, gamma=0.1, kernel=Polynomial;, score=nan total time=   0.0s\n",
            "[CV 3/3] END ..C=10, gamma=0.1, kernel=Polynomial;, score=nan total time=   0.0s\n",
            "[CV 1/3] END .....C=10, gamma=0.1, kernel=Sigmoid;, score=nan total time=   0.0s\n",
            "[CV 2/3] END .....C=10, gamma=0.1, kernel=Sigmoid;, score=nan total time=   0.0s\n",
            "[CV 3/3] END .....C=10, gamma=0.1, kernel=Sigmoid;, score=nan total time=   0.0s\n",
            "[CV 1/3] END ......C=10, gamma=0.1, kernel=Linear;, score=nan total time=   0.0s\n",
            "[CV 2/3] END ......C=10, gamma=0.1, kernel=Linear;, score=nan total time=   0.0s\n",
            "[CV 3/3] END ......C=10, gamma=0.1, kernel=Linear;, score=nan total time=   0.0s\n",
            "[CV 1/3] END ......C=10, gamma=0.01, kernel=rbf;, score=0.533 total time= 1.7min\n",
            "[CV 2/3] END ......C=10, gamma=0.01, kernel=rbf;, score=0.535 total time= 1.8min\n",
            "[CV 3/3] END ......C=10, gamma=0.01, kernel=rbf;, score=0.534 total time= 2.1min\n",
            "[CV 1/3] END .C=10, gamma=0.01, kernel=Polynomial;, score=nan total time=   0.0s\n",
            "[CV 2/3] END .C=10, gamma=0.01, kernel=Polynomial;, score=nan total time=   0.0s\n",
            "[CV 3/3] END .C=10, gamma=0.01, kernel=Polynomial;, score=nan total time=   0.0s\n",
            "[CV 1/3] END ....C=10, gamma=0.01, kernel=Sigmoid;, score=nan total time=   0.0s\n",
            "[CV 2/3] END ....C=10, gamma=0.01, kernel=Sigmoid;, score=nan total time=   0.0s\n",
            "[CV 3/3] END ....C=10, gamma=0.01, kernel=Sigmoid;, score=nan total time=   0.0s\n",
            "[CV 1/3] END .....C=10, gamma=0.01, kernel=Linear;, score=nan total time=   0.0s\n",
            "[CV 2/3] END .....C=10, gamma=0.01, kernel=Linear;, score=nan total time=   0.0s\n",
            "[CV 3/3] END .....C=10, gamma=0.01, kernel=Linear;, score=nan total time=   0.0s\n",
            "[CV 1/3] END .....C=10, gamma=0.001, kernel=rbf;, score=0.560 total time= 2.3min\n",
            "[CV 2/3] END .....C=10, gamma=0.001, kernel=rbf;, score=0.560 total time= 2.4min\n",
            "[CV 3/3] END .....C=10, gamma=0.001, kernel=rbf;, score=0.560 total time= 2.2min\n",
            "[CV 1/3] END C=10, gamma=0.001, kernel=Polynomial;, score=nan total time=   0.0s\n",
            "[CV 2/3] END C=10, gamma=0.001, kernel=Polynomial;, score=nan total time=   0.0s\n",
            "[CV 3/3] END C=10, gamma=0.001, kernel=Polynomial;, score=nan total time=   0.0s\n",
            "[CV 1/3] END ...C=10, gamma=0.001, kernel=Sigmoid;, score=nan total time=   0.0s\n",
            "[CV 2/3] END ...C=10, gamma=0.001, kernel=Sigmoid;, score=nan total time=   0.0s\n",
            "[CV 3/3] END ...C=10, gamma=0.001, kernel=Sigmoid;, score=nan total time=   0.0s\n",
            "[CV 1/3] END ....C=10, gamma=0.001, kernel=Linear;, score=nan total time=   0.0s\n",
            "[CV 2/3] END ....C=10, gamma=0.001, kernel=Linear;, score=nan total time=   0.0s\n",
            "[CV 3/3] END ....C=10, gamma=0.001, kernel=Linear;, score=nan total time=   0.0s\n",
            "[CV 1/3] END ....C=10, gamma=0.0001, kernel=rbf;, score=0.626 total time= 2.2min\n",
            "[CV 2/3] END ....C=10, gamma=0.0001, kernel=rbf;, score=0.625 total time= 2.3min\n",
            "[CV 3/3] END ....C=10, gamma=0.0001, kernel=rbf;, score=0.622 total time= 2.1min\n",
            "[CV 1/3] END C=10, gamma=0.0001, kernel=Polynomial;, score=nan total time=   0.0s\n",
            "[CV 2/3] END C=10, gamma=0.0001, kernel=Polynomial;, score=nan total time=   0.0s\n",
            "[CV 3/3] END C=10, gamma=0.0001, kernel=Polynomial;, score=nan total time=   0.0s\n",
            "[CV 1/3] END ..C=10, gamma=0.0001, kernel=Sigmoid;, score=nan total time=   0.0s\n",
            "[CV 2/3] END ..C=10, gamma=0.0001, kernel=Sigmoid;, score=nan total time=   0.0s\n",
            "[CV 3/3] END ..C=10, gamma=0.0001, kernel=Sigmoid;, score=nan total time=   0.0s\n",
            "[CV 1/3] END ...C=10, gamma=0.0001, kernel=Linear;, score=nan total time=   0.0s\n",
            "[CV 2/3] END ...C=10, gamma=0.0001, kernel=Linear;, score=nan total time=   0.0s\n",
            "[CV 3/3] END ...C=10, gamma=0.0001, kernel=Linear;, score=nan total time=   0.0s\n",
            "[CV 1/3] END ........C=100, gamma=1, kernel=rbf;, score=0.520 total time= 1.8min\n",
            "[CV 2/3] END ........C=100, gamma=1, kernel=rbf;, score=0.520 total time= 1.8min\n",
            "[CV 3/3] END ........C=100, gamma=1, kernel=rbf;, score=0.522 total time= 1.9min\n",
            "[CV 1/3] END ...C=100, gamma=1, kernel=Polynomial;, score=nan total time=   0.0s\n",
            "[CV 2/3] END ...C=100, gamma=1, kernel=Polynomial;, score=nan total time=   0.0s\n",
            "[CV 3/3] END ...C=100, gamma=1, kernel=Polynomial;, score=nan total time=   0.0s\n",
            "[CV 1/3] END ......C=100, gamma=1, kernel=Sigmoid;, score=nan total time=   0.0s\n",
            "[CV 2/3] END ......C=100, gamma=1, kernel=Sigmoid;, score=nan total time=   0.0s\n",
            "[CV 3/3] END ......C=100, gamma=1, kernel=Sigmoid;, score=nan total time=   0.0s\n",
            "[CV 1/3] END .......C=100, gamma=1, kernel=Linear;, score=nan total time=   0.0s\n",
            "[CV 2/3] END .......C=100, gamma=1, kernel=Linear;, score=nan total time=   0.0s\n",
            "[CV 3/3] END .......C=100, gamma=1, kernel=Linear;, score=nan total time=   0.0s\n",
            "[CV 1/3] END ......C=100, gamma=0.1, kernel=rbf;, score=0.522 total time= 2.1min\n",
            "[CV 2/3] END ......C=100, gamma=0.1, kernel=rbf;, score=0.523 total time= 2.1min\n",
            "[CV 3/3] END ......C=100, gamma=0.1, kernel=rbf;, score=0.526 total time= 2.1min\n",
            "[CV 1/3] END .C=100, gamma=0.1, kernel=Polynomial;, score=nan total time=   0.0s\n",
            "[CV 2/3] END .C=100, gamma=0.1, kernel=Polynomial;, score=nan total time=   0.0s\n",
            "[CV 3/3] END .C=100, gamma=0.1, kernel=Polynomial;, score=nan total time=   0.0s\n",
            "[CV 1/3] END ....C=100, gamma=0.1, kernel=Sigmoid;, score=nan total time=   0.0s\n",
            "[CV 2/3] END ....C=100, gamma=0.1, kernel=Sigmoid;, score=nan total time=   0.0s\n",
            "[CV 3/3] END ....C=100, gamma=0.1, kernel=Sigmoid;, score=nan total time=   0.0s\n",
            "[CV 1/3] END .....C=100, gamma=0.1, kernel=Linear;, score=nan total time=   0.0s\n",
            "[CV 2/3] END .....C=100, gamma=0.1, kernel=Linear;, score=nan total time=   0.0s\n",
            "[CV 3/3] END .....C=100, gamma=0.1, kernel=Linear;, score=nan total time=   0.0s\n",
            "[CV 1/3] END .....C=100, gamma=0.01, kernel=rbf;, score=0.534 total time= 2.4min\n",
            "[CV 2/3] END .....C=100, gamma=0.01, kernel=rbf;, score=0.535 total time= 2.5min\n",
            "[CV 3/3] END .....C=100, gamma=0.01, kernel=rbf;, score=0.536 total time= 2.4min\n",
            "[CV 1/3] END C=100, gamma=0.01, kernel=Polynomial;, score=nan total time=   0.0s\n",
            "[CV 2/3] END C=100, gamma=0.01, kernel=Polynomial;, score=nan total time=   0.0s\n",
            "[CV 3/3] END C=100, gamma=0.01, kernel=Polynomial;, score=nan total time=   0.0s\n",
            "[CV 1/3] END ...C=100, gamma=0.01, kernel=Sigmoid;, score=nan total time=   0.0s\n",
            "[CV 2/3] END ...C=100, gamma=0.01, kernel=Sigmoid;, score=nan total time=   0.0s\n",
            "[CV 3/3] END ...C=100, gamma=0.01, kernel=Sigmoid;, score=nan total time=   0.0s\n",
            "[CV 1/3] END ....C=100, gamma=0.01, kernel=Linear;, score=nan total time=   0.0s\n",
            "[CV 2/3] END ....C=100, gamma=0.01, kernel=Linear;, score=nan total time=   0.0s\n",
            "[CV 3/3] END ....C=100, gamma=0.01, kernel=Linear;, score=nan total time=   0.0s\n",
            "[CV 1/3] END ....C=100, gamma=0.001, kernel=rbf;, score=0.562 total time= 2.3min\n",
            "[CV 2/3] END ....C=100, gamma=0.001, kernel=rbf;, score=0.562 total time= 2.4min\n",
            "[CV 3/3] END ....C=100, gamma=0.001, kernel=rbf;, score=0.562 total time= 2.5min\n",
            "[CV 1/3] END C=100, gamma=0.001, kernel=Polynomial;, score=nan total time=   0.0s\n",
            "[CV 2/3] END C=100, gamma=0.001, kernel=Polynomial;, score=nan total time=   0.0s\n",
            "[CV 3/3] END C=100, gamma=0.001, kernel=Polynomial;, score=nan total time=   0.0s\n",
            "[CV 1/3] END ..C=100, gamma=0.001, kernel=Sigmoid;, score=nan total time=   0.0s\n",
            "[CV 2/3] END ..C=100, gamma=0.001, kernel=Sigmoid;, score=nan total time=   0.0s\n",
            "[CV 3/3] END ..C=100, gamma=0.001, kernel=Sigmoid;, score=nan total time=   0.0s\n",
            "[CV 1/3] END ...C=100, gamma=0.001, kernel=Linear;, score=nan total time=   0.0s\n",
            "[CV 2/3] END ...C=100, gamma=0.001, kernel=Linear;, score=nan total time=   0.0s\n",
            "[CV 3/3] END ...C=100, gamma=0.001, kernel=Linear;, score=nan total time=   0.0s\n",
            "[CV 1/3] END ...C=100, gamma=0.0001, kernel=rbf;, score=0.628 total time= 2.2min\n",
            "[CV 2/3] END ...C=100, gamma=0.0001, kernel=rbf;, score=0.626 total time= 2.2min\n",
            "[CV 3/3] END ...C=100, gamma=0.0001, kernel=rbf;, score=0.623 total time= 2.2min\n",
            "[CV 1/3] END C=100, gamma=0.0001, kernel=Polynomial;, score=nan total time=   0.0s\n",
            "[CV 2/3] END C=100, gamma=0.0001, kernel=Polynomial;, score=nan total time=   0.0s\n",
            "[CV 3/3] END C=100, gamma=0.0001, kernel=Polynomial;, score=nan total time=   0.0s\n",
            "[CV 1/3] END .C=100, gamma=0.0001, kernel=Sigmoid;, score=nan total time=   0.0s\n",
            "[CV 2/3] END .C=100, gamma=0.0001, kernel=Sigmoid;, score=nan total time=   0.0s\n",
            "[CV 3/3] END .C=100, gamma=0.0001, kernel=Sigmoid;, score=nan total time=   0.0s\n",
            "[CV 1/3] END ..C=100, gamma=0.0001, kernel=Linear;, score=nan total time=   0.0s\n",
            "[CV 2/3] END ..C=100, gamma=0.0001, kernel=Linear;, score=nan total time=   0.0s\n",
            "[CV 3/3] END ..C=100, gamma=0.0001, kernel=Linear;, score=nan total time=   0.0s\n",
            "[CV 1/3] END .......C=1000, gamma=1, kernel=rbf;, score=0.520 total time= 1.8min\n",
            "[CV 2/3] END .......C=1000, gamma=1, kernel=rbf;, score=0.520 total time= 1.8min\n",
            "[CV 3/3] END .......C=1000, gamma=1, kernel=rbf;, score=0.522 total time= 1.8min\n",
            "[CV 1/3] END ..C=1000, gamma=1, kernel=Polynomial;, score=nan total time=   0.0s\n",
            "[CV 2/3] END ..C=1000, gamma=1, kernel=Polynomial;, score=nan total time=   0.0s\n",
            "[CV 3/3] END ..C=1000, gamma=1, kernel=Polynomial;, score=nan total time=   0.0s\n",
            "[CV 1/3] END .....C=1000, gamma=1, kernel=Sigmoid;, score=nan total time=   0.0s\n",
            "[CV 2/3] END .....C=1000, gamma=1, kernel=Sigmoid;, score=nan total time=   0.0s\n",
            "[CV 3/3] END .....C=1000, gamma=1, kernel=Sigmoid;, score=nan total time=   0.0s\n",
            "[CV 1/3] END ......C=1000, gamma=1, kernel=Linear;, score=nan total time=   0.0s\n",
            "[CV 2/3] END ......C=1000, gamma=1, kernel=Linear;, score=nan total time=   0.0s\n",
            "[CV 3/3] END ......C=1000, gamma=1, kernel=Linear;, score=nan total time=   0.0s\n",
            "[CV 1/3] END .....C=1000, gamma=0.1, kernel=rbf;, score=0.522 total time= 2.1min\n",
            "[CV 2/3] END .....C=1000, gamma=0.1, kernel=rbf;, score=0.523 total time= 2.1min\n",
            "[CV 3/3] END .....C=1000, gamma=0.1, kernel=rbf;, score=0.526 total time= 2.1min\n",
            "[CV 1/3] END C=1000, gamma=0.1, kernel=Polynomial;, score=nan total time=   0.0s\n",
            "[CV 2/3] END C=1000, gamma=0.1, kernel=Polynomial;, score=nan total time=   0.0s\n",
            "[CV 3/3] END C=1000, gamma=0.1, kernel=Polynomial;, score=nan total time=   0.0s\n",
            "[CV 1/3] END ...C=1000, gamma=0.1, kernel=Sigmoid;, score=nan total time=   0.0s\n",
            "[CV 2/3] END ...C=1000, gamma=0.1, kernel=Sigmoid;, score=nan total time=   0.0s\n",
            "[CV 3/3] END ...C=1000, gamma=0.1, kernel=Sigmoid;, score=nan total time=   0.0s\n",
            "[CV 1/3] END ....C=1000, gamma=0.1, kernel=Linear;, score=nan total time=   0.0s\n",
            "[CV 2/3] END ....C=1000, gamma=0.1, kernel=Linear;, score=nan total time=   0.0s\n",
            "[CV 3/3] END ....C=1000, gamma=0.1, kernel=Linear;, score=nan total time=   0.0s\n",
            "[CV 1/3] END ....C=1000, gamma=0.01, kernel=rbf;, score=0.534 total time= 2.5min\n",
            "[CV 2/3] END ....C=1000, gamma=0.01, kernel=rbf;, score=0.535 total time= 2.5min\n",
            "[CV 3/3] END ....C=1000, gamma=0.01, kernel=rbf;, score=0.535 total time= 2.5min\n",
            "[CV 1/3] END C=1000, gamma=0.01, kernel=Polynomial;, score=nan total time=   0.0s\n",
            "[CV 2/3] END C=1000, gamma=0.01, kernel=Polynomial;, score=nan total time=   0.0s\n",
            "[CV 3/3] END C=1000, gamma=0.01, kernel=Polynomial;, score=nan total time=   0.0s\n",
            "[CV 1/3] END ..C=1000, gamma=0.01, kernel=Sigmoid;, score=nan total time=   0.0s\n",
            "[CV 2/3] END ..C=1000, gamma=0.01, kernel=Sigmoid;, score=nan total time=   0.0s\n",
            "[CV 3/3] END ..C=1000, gamma=0.01, kernel=Sigmoid;, score=nan total time=   0.0s\n",
            "[CV 1/3] END ...C=1000, gamma=0.01, kernel=Linear;, score=nan total time=   0.0s\n",
            "[CV 2/3] END ...C=1000, gamma=0.01, kernel=Linear;, score=nan total time=   0.0s\n",
            "[CV 3/3] END ...C=1000, gamma=0.01, kernel=Linear;, score=nan total time=   0.0s\n",
            "[CV 1/3] END ...C=1000, gamma=0.001, kernel=rbf;, score=0.561 total time= 2.5min\n",
            "[CV 2/3] END ...C=1000, gamma=0.001, kernel=rbf;, score=0.561 total time= 2.5min\n",
            "[CV 3/3] END ...C=1000, gamma=0.001, kernel=rbf;, score=0.563 total time= 2.4min\n",
            "[CV 1/3] END C=1000, gamma=0.001, kernel=Polynomial;, score=nan total time=   0.0s\n",
            "[CV 2/3] END C=1000, gamma=0.001, kernel=Polynomial;, score=nan total time=   0.0s\n",
            "[CV 3/3] END C=1000, gamma=0.001, kernel=Polynomial;, score=nan total time=   0.0s\n",
            "[CV 1/3] END .C=1000, gamma=0.001, kernel=Sigmoid;, score=nan total time=   0.0s\n",
            "[CV 2/3] END .C=1000, gamma=0.001, kernel=Sigmoid;, score=nan total time=   0.0s\n",
            "[CV 3/3] END .C=1000, gamma=0.001, kernel=Sigmoid;, score=nan total time=   0.0s\n",
            "[CV 1/3] END ..C=1000, gamma=0.001, kernel=Linear;, score=nan total time=   0.0s\n",
            "[CV 2/3] END ..C=1000, gamma=0.001, kernel=Linear;, score=nan total time=   0.0s\n",
            "[CV 3/3] END ..C=1000, gamma=0.001, kernel=Linear;, score=nan total time=   0.0s\n",
            "[CV 1/3] END ..C=1000, gamma=0.0001, kernel=rbf;, score=0.628 total time= 2.3min\n",
            "[CV 2/3] END ..C=1000, gamma=0.0001, kernel=rbf;, score=0.627 total time= 2.3min\n",
            "[CV 3/3] END ..C=1000, gamma=0.0001, kernel=rbf;, score=0.625 total time= 2.3min\n",
            "[CV 1/3] END C=1000, gamma=0.0001, kernel=Polynomial;, score=nan total time=   0.0s\n",
            "[CV 2/3] END C=1000, gamma=0.0001, kernel=Polynomial;, score=nan total time=   0.0s\n",
            "[CV 3/3] END C=1000, gamma=0.0001, kernel=Polynomial;, score=nan total time=   0.0s\n",
            "[CV 1/3] END C=1000, gamma=0.0001, kernel=Sigmoid;, score=nan total time=   0.0s\n",
            "[CV 2/3] END C=1000, gamma=0.0001, kernel=Sigmoid;, score=nan total time=   0.0s\n",
            "[CV 3/3] END C=1000, gamma=0.0001, kernel=Sigmoid;, score=nan total time=   0.0s\n",
            "[CV 1/3] END .C=1000, gamma=0.0001, kernel=Linear;, score=nan total time=   0.0s\n",
            "[CV 2/3] END .C=1000, gamma=0.0001, kernel=Linear;, score=nan total time=   0.0s\n",
            "[CV 3/3] END .C=1000, gamma=0.0001, kernel=Linear;, score=nan total time=   0.0s\n"
          ]
        },
        {
          "output_type": "execute_result",
          "data": {
            "text/plain": [
              "GridSearchCV(cv=3, estimator=SVC(),\n",
              "             param_grid={'C': [0.1, 1, 10, 100, 1000],\n",
              "                         'gamma': [1, 0.1, 0.01, 0.001, 0.0001],\n",
              "                         'kernel': ['rbf', 'Polynomial', 'Sigmoid', 'Linear']},\n",
              "             scoring='roc_auc', verbose=3)"
            ]
          },
          "metadata": {},
          "execution_count": 62
        }
      ]
    },
    {
      "cell_type": "code",
      "source": [
        "#Evaluating the model\n",
        "print('Train Score: ',svm_grid.best_estimator_.score(xtrain,ytrain))\n",
        "print('Test Score :', svm_grid.best_estimator_.score(xtest,ytest))"
      ],
      "metadata": {
        "colab": {
          "base_uri": "https://localhost:8080/"
        },
        "id": "RB2bB4SmQfWB",
        "outputId": "d78c463e-79f6-45c3-a70b-bc826647b571"
      },
      "execution_count": 64,
      "outputs": [
        {
          "output_type": "stream",
          "name": "stdout",
          "text": [
            "Train Score:  0.9927542878106943\n",
            "Test Score : 0.5745773592980954\n"
          ]
        }
      ]
    },
    {
      "cell_type": "code",
      "source": [
        "#Checking best params\n",
        "svm_grid.best_params_"
      ],
      "metadata": {
        "colab": {
          "base_uri": "https://localhost:8080/"
        },
        "id": "RlSR4UizRRPk",
        "outputId": "06f0be7f-ca4c-4bc4-c1b3-217e64834ebb"
      },
      "execution_count": 65,
      "outputs": [
        {
          "output_type": "execute_result",
          "data": {
            "text/plain": [
              "{'C': 1000, 'gamma': 0.0001, 'kernel': 'rbf'}"
            ]
          },
          "metadata": {},
          "execution_count": 65
        }
      ]
    },
    {
      "cell_type": "code",
      "source": [
        "#Evaluating the model with train logisticregression\n",
        "print('Train ROC-AUC Score:', lr_gridsearch.best_estimator_.score(xtrain,ytrain))\n",
        "print('Test ROC-AUC Scores:', lr_gridsearch.best_estimator_.score(xtest,ytest))"
      ],
      "metadata": {
        "id": "CH3aSt3dom0B"
      },
      "execution_count": null,
      "outputs": []
    }
  ]
}